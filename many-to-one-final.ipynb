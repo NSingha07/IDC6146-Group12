{
 "cells": [
  {
   "cell_type": "code",
   "execution_count": 1,
   "id": "00976653",
   "metadata": {
    "_cell_guid": "b1076dfc-b9ad-4769-8c92-a6c4dae69d19",
    "_uuid": "8f2839f25d086af736a60e9eeb907d3b93b6e0e5",
    "execution": {
     "iopub.execute_input": "2024-02-18T20:50:18.053470Z",
     "iopub.status.busy": "2024-02-18T20:50:18.052204Z",
     "iopub.status.idle": "2024-02-18T20:50:35.633351Z",
     "shell.execute_reply": "2024-02-18T20:50:35.631937Z"
    },
    "papermill": {
     "duration": 17.594864,
     "end_time": "2024-02-18T20:50:35.636376",
     "exception": false,
     "start_time": "2024-02-18T20:50:18.041512",
     "status": "completed"
    },
    "tags": []
   },
   "outputs": [
    {
     "name": "stderr",
     "output_type": "stream",
     "text": [
      "2024-02-18 20:50:21.209963: E external/local_xla/xla/stream_executor/cuda/cuda_dnn.cc:9261] Unable to register cuDNN factory: Attempting to register factory for plugin cuDNN when one has already been registered\n",
      "2024-02-18 20:50:21.210088: E external/local_xla/xla/stream_executor/cuda/cuda_fft.cc:607] Unable to register cuFFT factory: Attempting to register factory for plugin cuFFT when one has already been registered\n",
      "2024-02-18 20:50:21.375392: E external/local_xla/xla/stream_executor/cuda/cuda_blas.cc:1515] Unable to register cuBLAS factory: Attempting to register factory for plugin cuBLAS when one has already been registered\n"
     ]
    }
   ],
   "source": [
    "import numpy as np \n",
    "import pandas as pd \n",
    "import os\n",
    "\n",
    "from keras.models import Sequential\n",
    "from keras.layers import LSTM, Dense\n",
    "from keras.optimizers import RMSprop\n",
    "from keras.layers import Dropout\n",
    "from sklearn.model_selection import train_test_split"
   ]
  },
  {
   "cell_type": "markdown",
   "id": "3dd70733",
   "metadata": {
    "papermill": {
     "duration": 0.007797,
     "end_time": "2024-02-18T20:50:35.652724",
     "exception": false,
     "start_time": "2024-02-18T20:50:35.644927",
     "status": "completed"
    },
    "tags": []
   },
   "source": [
    "# **Data Preprocessing**"
   ]
  },
  {
   "cell_type": "code",
   "execution_count": 2,
   "id": "c16940cc",
   "metadata": {
    "execution": {
     "iopub.execute_input": "2024-02-18T20:50:35.671656Z",
     "iopub.status.busy": "2024-02-18T20:50:35.670891Z",
     "iopub.status.idle": "2024-02-18T20:50:35.991301Z",
     "shell.execute_reply": "2024-02-18T20:50:35.990108Z"
    },
    "papermill": {
     "duration": 0.332401,
     "end_time": "2024-02-18T20:50:35.993893",
     "exception": false,
     "start_time": "2024-02-18T20:50:35.661492",
     "status": "completed"
    },
    "tags": []
   },
   "outputs": [
    {
     "data": {
      "text/html": [
       "<div>\n",
       "<style scoped>\n",
       "    .dataframe tbody tr th:only-of-type {\n",
       "        vertical-align: middle;\n",
       "    }\n",
       "\n",
       "    .dataframe tbody tr th {\n",
       "        vertical-align: top;\n",
       "    }\n",
       "\n",
       "    .dataframe thead th {\n",
       "        text-align: right;\n",
       "    }\n",
       "</style>\n",
       "<table border=\"1\" class=\"dataframe\">\n",
       "  <thead>\n",
       "    <tr style=\"text-align: right;\">\n",
       "      <th></th>\n",
       "      <th>Unnamed: 0</th>\n",
       "      <th>book_title</th>\n",
       "      <th>publishing_date</th>\n",
       "      <th>text</th>\n",
       "      <th>text_clean</th>\n",
       "    </tr>\n",
       "  </thead>\n",
       "  <tbody>\n",
       "    <tr>\n",
       "      <th>0</th>\n",
       "      <td>0</td>\n",
       "      <td>Beyond Good and Evil</td>\n",
       "      <td>1886</td>\n",
       "      <td>PREFACE\\r\\n    BEYOND GOOD AND EVIL\\r\\n\\r\\n   ...</td>\n",
       "      <td>preface beyond good evil chapter i prejudices ...</td>\n",
       "    </tr>\n",
       "    <tr>\n",
       "      <th>1</th>\n",
       "      <td>1</td>\n",
       "      <td>Thus Spake Zarathustra: A Book for All and None</td>\n",
       "      <td>1885</td>\n",
       "      <td>THUS SPAKE ZARATHUSTRA.\\r\\n\\r\\n     FIRST PART...</td>\n",
       "      <td>thus spake zarathustra first part zarathustras...</td>\n",
       "    </tr>\n",
       "    <tr>\n",
       "      <th>2</th>\n",
       "      <td>2</td>\n",
       "      <td>Thoughts out of Season</td>\n",
       "      <td>1909</td>\n",
       "      <td>PREFACE.\\r\\n\\r\\n\\r\\n1.\\r\\n\\r\\nWe are unknown, ...</td>\n",
       "      <td>preface 1 unknown knowers ourselves good reaso...</td>\n",
       "    </tr>\n",
       "    <tr>\n",
       "      <th>3</th>\n",
       "      <td>3</td>\n",
       "      <td>The Dawn of Day</td>\n",
       "      <td>1881</td>\n",
       "      <td>PREFACE\\r\\n\\r\\n\\r\\n1\\r\\n\\r\\nAs it is my intent...</td>\n",
       "      <td>preface 1 intention within short time confront...</td>\n",
       "    </tr>\n",
       "    <tr>\n",
       "      <th>4</th>\n",
       "      <td>4</td>\n",
       "      <td>Homer and Classical Philology</td>\n",
       "      <td>1868</td>\n",
       "      <td>PREFACE.\\r\\n\\r\\n\\r\\n1.\\r\\n\\r\\nConcerning great...</td>\n",
       "      <td>preface 1 concerning great things one either s...</td>\n",
       "    </tr>\n",
       "  </tbody>\n",
       "</table>\n",
       "</div>"
      ],
      "text/plain": [
       "   Unnamed: 0                                       book_title  \\\n",
       "0           0                             Beyond Good and Evil   \n",
       "1           1  Thus Spake Zarathustra: A Book for All and None   \n",
       "2           2                           Thoughts out of Season   \n",
       "3           3                                  The Dawn of Day   \n",
       "4           4                    Homer and Classical Philology   \n",
       "\n",
       "   publishing_date                                               text  \\\n",
       "0             1886  PREFACE\\r\\n    BEYOND GOOD AND EVIL\\r\\n\\r\\n   ...   \n",
       "1             1885  THUS SPAKE ZARATHUSTRA.\\r\\n\\r\\n     FIRST PART...   \n",
       "2             1909  PREFACE.\\r\\n\\r\\n\\r\\n1.\\r\\n\\r\\nWe are unknown, ...   \n",
       "3             1881  PREFACE\\r\\n\\r\\n\\r\\n1\\r\\n\\r\\nAs it is my intent...   \n",
       "4             1868  PREFACE.\\r\\n\\r\\n\\r\\n1.\\r\\n\\r\\nConcerning great...   \n",
       "\n",
       "                                          text_clean  \n",
       "0  preface beyond good evil chapter i prejudices ...  \n",
       "1  thus spake zarathustra first part zarathustras...  \n",
       "2  preface 1 unknown knowers ourselves good reaso...  \n",
       "3  preface 1 intention within short time confront...  \n",
       "4  preface 1 concerning great things one either s...  "
      ]
     },
     "execution_count": 2,
     "metadata": {},
     "output_type": "execute_result"
    }
   ],
   "source": [
    "df = pd.read_csv('/kaggle/input/Nietzsche_works_corpus.csv')\n",
    "df.head()"
   ]
  },
  {
   "cell_type": "code",
   "execution_count": 3,
   "id": "7ec7157e",
   "metadata": {
    "execution": {
     "iopub.execute_input": "2024-02-18T20:50:36.012962Z",
     "iopub.status.busy": "2024-02-18T20:50:36.012220Z",
     "iopub.status.idle": "2024-02-18T20:50:36.029565Z",
     "shell.execute_reply": "2024-02-18T20:50:36.028408Z"
    },
    "papermill": {
     "duration": 0.029606,
     "end_time": "2024-02-18T20:50:36.032071",
     "exception": false,
     "start_time": "2024-02-18T20:50:36.002465",
     "status": "completed"
    },
    "tags": []
   },
   "outputs": [
    {
     "name": "stdout",
     "output_type": "stream",
     "text": [
      "251619\n"
     ]
    }
   ],
   "source": [
    "text = df[df['book_title']=='Beyond Good and Evil']['text_clean'][0]\n",
    "print(len(text))"
   ]
  },
  {
   "cell_type": "code",
   "execution_count": 4,
   "id": "a1dc25cd",
   "metadata": {
    "execution": {
     "iopub.execute_input": "2024-02-18T20:50:36.052114Z",
     "iopub.status.busy": "2024-02-18T20:50:36.050998Z",
     "iopub.status.idle": "2024-02-18T20:50:36.062078Z",
     "shell.execute_reply": "2024-02-18T20:50:36.060671Z"
    },
    "papermill": {
     "duration": 0.023793,
     "end_time": "2024-02-18T20:50:36.064548",
     "exception": false,
     "start_time": "2024-02-18T20:50:36.040755",
     "status": "completed"
    },
    "tags": []
   },
   "outputs": [
    {
     "name": "stdout",
     "output_type": "stream",
     "text": [
      "38\n",
      "{'e', 'l', 'r', 'n', 'x', '0', 'k', 'c', 'p', '_', '8', '2', '3', 'u', '4', 'j', ' ', 'z', 'i', '7', 'a', '5', 'w', 'q', 'v', 'g', 'y', '6', 'h', 'm', 'b', 'o', 'd', 's', 'f', '1', 't', '9'}\n"
     ]
    }
   ],
   "source": [
    "# Getting the unique characters in the text\n",
    "unique_characters = set(text)\n",
    "\n",
    "print(len(unique_characters))\n",
    "print(unique_characters)"
   ]
  },
  {
   "cell_type": "code",
   "execution_count": 5,
   "id": "5ec43e3f",
   "metadata": {
    "execution": {
     "iopub.execute_input": "2024-02-18T20:50:36.082806Z",
     "iopub.status.busy": "2024-02-18T20:50:36.082414Z",
     "iopub.status.idle": "2024-02-18T20:50:36.096267Z",
     "shell.execute_reply": "2024-02-18T20:50:36.095108Z"
    },
    "papermill": {
     "duration": 0.025896,
     "end_time": "2024-02-18T20:50:36.098741",
     "exception": false,
     "start_time": "2024-02-18T20:50:36.072845",
     "status": "completed"
    },
    "tags": []
   },
   "outputs": [],
   "source": [
    "# Mapping characters to integers\n",
    "char_to_index = {char: i for i, char in enumerate(set(text))}\n",
    "index_to_char = {i: char for i, char in enumerate(set(text))}"
   ]
  },
  {
   "cell_type": "code",
   "execution_count": 6,
   "id": "d4635543",
   "metadata": {
    "execution": {
     "iopub.execute_input": "2024-02-18T20:50:36.118477Z",
     "iopub.status.busy": "2024-02-18T20:50:36.117268Z",
     "iopub.status.idle": "2024-02-18T20:50:36.145806Z",
     "shell.execute_reply": "2024-02-18T20:50:36.144634Z"
    },
    "papermill": {
     "duration": 0.04104,
     "end_time": "2024-02-18T20:50:36.148552",
     "exception": false,
     "start_time": "2024-02-18T20:50:36.107512",
     "status": "completed"
    },
    "tags": []
   },
   "outputs": [],
   "source": [
    "# Convert the text to a sequence of indices\n",
    "text_as_indices = [char_to_index[char] for char in text]"
   ]
  },
  {
   "cell_type": "code",
   "execution_count": 7,
   "id": "f5078a08",
   "metadata": {
    "execution": {
     "iopub.execute_input": "2024-02-18T20:50:36.167272Z",
     "iopub.status.busy": "2024-02-18T20:50:36.166862Z",
     "iopub.status.idle": "2024-02-18T20:50:38.206583Z",
     "shell.execute_reply": "2024-02-18T20:50:38.205476Z"
    },
    "papermill": {
     "duration": 2.05265,
     "end_time": "2024-02-18T20:50:38.209589",
     "exception": false,
     "start_time": "2024-02-18T20:50:36.156939",
     "status": "completed"
    },
    "tags": []
   },
   "outputs": [],
   "source": [
    "# Setting the parameters\n",
    "sequence_length = 40\n",
    "num_neurons = 128\n",
    "num_distinct_chars = len(unique_characters)\n",
    "\n",
    "# Generate input sequences and corresponding labels\n",
    "X = []\n",
    "y = []\n",
    "\n",
    "for i in range(0, len(text_as_indices) - sequence_length, 1):\n",
    "    sequence_in = text_as_indices[i:i + sequence_length]\n",
    "    sequence_out = text_as_indices[i + sequence_length]\n",
    "    X.append(sequence_in)\n",
    "    y.append(sequence_out)\n",
    "\n",
    "# Convert to numpy arrays\n",
    "X = np.array(X)\n",
    "y = np.array(y)\n",
    "\n",
    "# Reshape X\n",
    "X = np.reshape(X, (X.shape[0], sequence_length, 1))\n",
    "\n",
    "# Normalize the data to values between 0 and 1\n",
    "X = X / float(len(unique_characters))"
   ]
  },
  {
   "cell_type": "code",
   "execution_count": 8,
   "id": "ffffdff3",
   "metadata": {
    "execution": {
     "iopub.execute_input": "2024-02-18T20:50:38.234534Z",
     "iopub.status.busy": "2024-02-18T20:50:38.234116Z",
     "iopub.status.idle": "2024-02-18T20:50:38.239613Z",
     "shell.execute_reply": "2024-02-18T20:50:38.238672Z"
    },
    "papermill": {
     "duration": 0.019032,
     "end_time": "2024-02-18T20:50:38.242955",
     "exception": false,
     "start_time": "2024-02-18T20:50:38.223923",
     "status": "completed"
    },
    "tags": []
   },
   "outputs": [
    {
     "name": "stdout",
     "output_type": "stream",
     "text": [
      "(251579, 40, 1)\n",
      "(251579,)\n"
     ]
    }
   ],
   "source": [
    "print(X.shape)\n",
    "print(y.shape)"
   ]
  },
  {
   "cell_type": "code",
   "execution_count": 9,
   "id": "f15cca1f",
   "metadata": {
    "execution": {
     "iopub.execute_input": "2024-02-18T20:50:38.262610Z",
     "iopub.status.busy": "2024-02-18T20:50:38.262141Z",
     "iopub.status.idle": "2024-02-18T20:50:38.324276Z",
     "shell.execute_reply": "2024-02-18T20:50:38.322832Z"
    },
    "papermill": {
     "duration": 0.075011,
     "end_time": "2024-02-18T20:50:38.327173",
     "exception": false,
     "start_time": "2024-02-18T20:50:38.252162",
     "status": "completed"
    },
    "tags": []
   },
   "outputs": [],
   "source": [
    "# Split the data into training and validation sets\n",
    "X_train, X_val, y_train, y_val = train_test_split(X, y, test_size=0.05, random_state=1)"
   ]
  },
  {
   "cell_type": "markdown",
   "id": "1d036fdc",
   "metadata": {
    "papermill": {
     "duration": 0.009657,
     "end_time": "2024-02-18T20:50:38.345870",
     "exception": false,
     "start_time": "2024-02-18T20:50:38.336213",
     "status": "completed"
    },
    "tags": []
   },
   "source": [
    "# **Creating the Many to One Model**"
   ]
  },
  {
   "cell_type": "code",
   "execution_count": 10,
   "id": "a424b43d",
   "metadata": {
    "execution": {
     "iopub.execute_input": "2024-02-18T20:50:38.366175Z",
     "iopub.status.busy": "2024-02-18T20:50:38.365728Z",
     "iopub.status.idle": "2024-02-18T20:50:38.842281Z",
     "shell.execute_reply": "2024-02-18T20:50:38.840953Z"
    },
    "papermill": {
     "duration": 0.495717,
     "end_time": "2024-02-18T20:50:38.850874",
     "exception": false,
     "start_time": "2024-02-18T20:50:38.355157",
     "status": "completed"
    },
    "tags": []
   },
   "outputs": [
    {
     "name": "stdout",
     "output_type": "stream",
     "text": [
      "Model: \"sequential\"\n",
      "_________________________________________________________________\n",
      " Layer (type)                Output Shape              Param #   \n",
      "=================================================================\n",
      " lstm (LSTM)                 (None, 128)               66560     \n",
      "                                                                 \n",
      " dropout (Dropout)           (None, 128)               0         \n",
      "                                                                 \n",
      " dense (Dense)               (None, 38)                4902      \n",
      "                                                                 \n",
      "=================================================================\n",
      "Total params: 71462 (279.15 KB)\n",
      "Trainable params: 71462 (279.15 KB)\n",
      "Non-trainable params: 0 (0.00 Byte)\n",
      "_________________________________________________________________\n"
     ]
    }
   ],
   "source": [
    "# Create the model\n",
    "model = Sequential()\n",
    "model.add(LSTM(num_neurons, return_sequences=False, input_shape=(X_train.shape[1], X_train.shape[2])))\n",
    "model.add(Dropout(0.2))\n",
    "model.add(Dense(len(unique_characters), activation='softmax'))\n",
    "\n",
    "# Set initial weights\n",
    "initial_weights = 0.05\n",
    "for layer in model.layers:\n",
    "    for weight in layer.get_weights():\n",
    "        weight[:] = initial_weights\n",
    "\n",
    "# Compile the model with RMSProp\n",
    "optimizer = RMSprop(learning_rate=0.01)\n",
    "model.compile(optimizer=optimizer, loss='sparse_categorical_crossentropy', metrics=['accuracy'])\n",
    "\n",
    "# Display the model summary\n",
    "model.summary()"
   ]
  },
  {
   "cell_type": "code",
   "execution_count": 11,
   "id": "ca0f3a1a",
   "metadata": {
    "execution": {
     "iopub.execute_input": "2024-02-18T20:50:38.872853Z",
     "iopub.status.busy": "2024-02-18T20:50:38.872429Z",
     "iopub.status.idle": "2024-02-18T21:56:33.628188Z",
     "shell.execute_reply": "2024-02-18T21:56:33.626895Z"
    },
    "papermill": {
     "duration": 3954.769963,
     "end_time": "2024-02-18T21:56:33.630925",
     "exception": false,
     "start_time": "2024-02-18T20:50:38.860962",
     "status": "completed"
    },
    "tags": []
   },
   "outputs": [
    {
     "name": "stdout",
     "output_type": "stream",
     "text": [
      "Epoch 1/30\n",
      "1868/1868 [==============================] - 132s 69ms/step - loss: 2.8026 - accuracy: 0.1706 - val_loss: 2.6595 - val_accuracy: 0.2095\n",
      "Epoch 2/30\n",
      "1868/1868 [==============================] - 127s 68ms/step - loss: 2.5596 - accuracy: 0.2439 - val_loss: 2.3885 - val_accuracy: 0.2957\n",
      "Epoch 3/30\n",
      "1868/1868 [==============================] - 128s 69ms/step - loss: 2.3581 - accuracy: 0.3026 - val_loss: 2.2316 - val_accuracy: 0.3320\n",
      "Epoch 4/30\n",
      "1868/1868 [==============================] - 129s 69ms/step - loss: 2.2314 - accuracy: 0.3393 - val_loss: 2.1338 - val_accuracy: 0.3693\n",
      "Epoch 5/30\n",
      "1868/1868 [==============================] - 132s 71ms/step - loss: 2.1497 - accuracy: 0.3622 - val_loss: 2.0577 - val_accuracy: 0.3909\n",
      "Epoch 6/30\n",
      "1868/1868 [==============================] - 129s 69ms/step - loss: 2.0913 - accuracy: 0.3793 - val_loss: 2.0149 - val_accuracy: 0.4004\n",
      "Epoch 7/30\n",
      "1868/1868 [==============================] - 130s 70ms/step - loss: 2.0511 - accuracy: 0.3893 - val_loss: 2.0256 - val_accuracy: 0.3940\n",
      "Epoch 8/30\n",
      "1868/1868 [==============================] - 130s 69ms/step - loss: 2.0209 - accuracy: 0.3991 - val_loss: 1.9519 - val_accuracy: 0.4155\n",
      "Epoch 9/30\n",
      "1868/1868 [==============================] - 130s 70ms/step - loss: 1.9952 - accuracy: 0.4068 - val_loss: 1.9370 - val_accuracy: 0.4257\n",
      "Epoch 10/30\n",
      "1868/1868 [==============================] - 131s 70ms/step - loss: 1.9732 - accuracy: 0.4131 - val_loss: 1.9093 - val_accuracy: 0.4294\n",
      "Epoch 11/30\n",
      "1868/1868 [==============================] - 131s 70ms/step - loss: 1.9563 - accuracy: 0.4178 - val_loss: 1.9053 - val_accuracy: 0.4360\n",
      "Epoch 12/30\n",
      "1868/1868 [==============================] - 133s 71ms/step - loss: 1.9413 - accuracy: 0.4216 - val_loss: 1.8812 - val_accuracy: 0.4438\n",
      "Epoch 13/30\n",
      "1868/1868 [==============================] - 131s 70ms/step - loss: 1.9302 - accuracy: 0.4250 - val_loss: 1.8826 - val_accuracy: 0.4376\n",
      "Epoch 14/30\n",
      "1868/1868 [==============================] - 131s 70ms/step - loss: 1.9196 - accuracy: 0.4274 - val_loss: 1.8726 - val_accuracy: 0.4468\n",
      "Epoch 15/30\n",
      "1868/1868 [==============================] - 131s 70ms/step - loss: 1.9107 - accuracy: 0.4297 - val_loss: 1.8737 - val_accuracy: 0.4423\n",
      "Epoch 16/30\n",
      "1868/1868 [==============================] - 132s 71ms/step - loss: 1.9047 - accuracy: 0.4331 - val_loss: 1.8802 - val_accuracy: 0.4381\n",
      "Epoch 17/30\n",
      "1868/1868 [==============================] - 136s 73ms/step - loss: 1.8956 - accuracy: 0.4342 - val_loss: 1.8364 - val_accuracy: 0.4535\n",
      "Epoch 18/30\n",
      "1868/1868 [==============================] - 132s 71ms/step - loss: 1.8879 - accuracy: 0.4371 - val_loss: 1.8561 - val_accuracy: 0.4464\n",
      "Epoch 19/30\n",
      "1868/1868 [==============================] - 134s 72ms/step - loss: 1.8842 - accuracy: 0.4389 - val_loss: 1.8485 - val_accuracy: 0.4523\n",
      "Epoch 20/30\n",
      "1868/1868 [==============================] - 135s 72ms/step - loss: 1.8782 - accuracy: 0.4393 - val_loss: 1.8458 - val_accuracy: 0.4522\n",
      "Epoch 21/30\n",
      "1868/1868 [==============================] - 135s 72ms/step - loss: 1.8742 - accuracy: 0.4411 - val_loss: 1.8274 - val_accuracy: 0.4595\n",
      "Epoch 22/30\n",
      "1868/1868 [==============================] - 136s 73ms/step - loss: 1.8708 - accuracy: 0.4410 - val_loss: 1.8083 - val_accuracy: 0.4649\n",
      "Epoch 23/30\n",
      "1868/1868 [==============================] - 134s 72ms/step - loss: 1.8655 - accuracy: 0.4433 - val_loss: 1.8120 - val_accuracy: 0.4643\n",
      "Epoch 24/30\n",
      "1868/1868 [==============================] - 133s 71ms/step - loss: 1.8630 - accuracy: 0.4437 - val_loss: 1.8313 - val_accuracy: 0.4555\n",
      "Epoch 25/30\n",
      "1868/1868 [==============================] - 132s 71ms/step - loss: 1.8562 - accuracy: 0.4458 - val_loss: 1.8254 - val_accuracy: 0.4605\n",
      "Epoch 26/30\n",
      "1868/1868 [==============================] - 132s 71ms/step - loss: 1.8560 - accuracy: 0.4463 - val_loss: 1.8217 - val_accuracy: 0.4597\n",
      "Epoch 27/30\n",
      "1868/1868 [==============================] - 131s 70ms/step - loss: 1.8499 - accuracy: 0.4479 - val_loss: 1.7939 - val_accuracy: 0.4667\n",
      "Epoch 28/30\n",
      "1868/1868 [==============================] - 133s 71ms/step - loss: 1.8482 - accuracy: 0.4481 - val_loss: 1.8438 - val_accuracy: 0.4530\n",
      "Epoch 29/30\n",
      "1868/1868 [==============================] - 132s 70ms/step - loss: 1.8445 - accuracy: 0.4493 - val_loss: 1.8028 - val_accuracy: 0.4595\n",
      "Epoch 30/30\n",
      "1868/1868 [==============================] - 131s 70ms/step - loss: 1.8440 - accuracy: 0.4494 - val_loss: 1.8036 - val_accuracy: 0.4672\n"
     ]
    }
   ],
   "source": [
    "# Train the model\n",
    "history = model.fit(X_train, y_train, epochs=30, batch_size=128, validation_data=(X_val, y_val))"
   ]
  },
  {
   "cell_type": "markdown",
   "id": "dee3bdb7",
   "metadata": {
    "papermill": {
     "duration": 5.72486,
     "end_time": "2024-02-18T21:56:44.869118",
     "exception": false,
     "start_time": "2024-02-18T21:56:39.144258",
     "status": "completed"
    },
    "tags": []
   },
   "source": [
    "# **Displaying the Plots**"
   ]
  },
  {
   "cell_type": "code",
   "execution_count": 12,
   "id": "783fcddb",
   "metadata": {
    "execution": {
     "iopub.execute_input": "2024-02-18T21:56:56.001671Z",
     "iopub.status.busy": "2024-02-18T21:56:56.001260Z",
     "iopub.status.idle": "2024-02-18T21:56:56.266243Z",
     "shell.execute_reply": "2024-02-18T21:56:56.265028Z"
    },
    "papermill": {
     "duration": 5.813459,
     "end_time": "2024-02-18T21:56:56.269061",
     "exception": false,
     "start_time": "2024-02-18T21:56:50.455602",
     "status": "completed"
    },
    "tags": []
   },
   "outputs": [
    {
     "data": {
      "image/png": "[encoded data removed]",
      "text/plain": [
       "<Figure size 640x480 with 1 Axes>"
      ]
     },
     "metadata": {},
     "output_type": "display_data"
    }
   ],
   "source": [
    "import matplotlib.pyplot as plt\n",
    "\n",
    "# Plot training and validation accuracy to epoch\n",
    "plt.plot(history.history['accuracy'], label='Training Accuracy')\n",
    "plt.plot(history.history['val_accuracy'], label='Validation Accuracy')\n",
    "plt.xlabel('Epoch')\n",
    "plt.ylabel('Accuracy')\n",
    "plt.legend()\n",
    "plt.show()"
   ]
  },
  {
   "cell_type": "code",
   "execution_count": 13,
   "id": "6e1a9e15",
   "metadata": {
    "execution": {
     "iopub.execute_input": "2024-02-18T21:57:07.484223Z",
     "iopub.status.busy": "2024-02-18T21:57:07.483830Z",
     "iopub.status.idle": "2024-02-18T21:57:07.744751Z",
     "shell.execute_reply": "2024-02-18T21:57:07.743549Z"
    },
    "papermill": {
     "duration": 5.885517,
     "end_time": "2024-02-18T21:57:07.747641",
     "exception": false,
     "start_time": "2024-02-18T21:57:01.862124",
     "status": "completed"
    },
    "tags": []
   },
   "outputs": [
    {
     "data": {
      "text/plain": [
       "<matplotlib.legend.Legend at 0x7f356d81a950>"
      ]
     },
     "execution_count": 13,
     "metadata": {},
     "output_type": "execute_result"
    },
    {
     "data": {
      "image/png": "[encoded data removed]",
      "text/plain": [
       "<Figure size 640x480 with 1 Axes>"
      ]
     },
     "metadata": {},
     "output_type": "display_data"
    }
   ],
   "source": [
    "# Plot loss to epoch\n",
    "plt.plot(history.history['loss'], label='Training Loss')\n",
    "plt.plot(history.history['val_loss'], label='Validation Loss')\n",
    "plt.xlabel('Epoch')\n",
    "plt.ylabel('Loss')\n",
    "plt.legend()"
   ]
  },
  {
   "cell_type": "markdown",
   "id": "0a67da68",
   "metadata": {
    "papermill": {
     "duration": 5.64374,
     "end_time": "2024-02-18T21:57:18.894792",
     "exception": false,
     "start_time": "2024-02-18T21:57:13.251052",
     "status": "completed"
    },
    "tags": []
   },
   "source": [
    "# **Predicting Characters**"
   ]
  },
  {
   "cell_type": "code",
   "execution_count": 14,
   "id": "d1238a40",
   "metadata": {
    "execution": {
     "iopub.execute_input": "2024-02-18T21:57:29.871127Z",
     "iopub.status.busy": "2024-02-18T21:57:29.870703Z",
     "iopub.status.idle": "2024-02-18T21:57:31.120301Z",
     "shell.execute_reply": "2024-02-18T21:57:31.119431Z"
    },
    "papermill": {
     "duration": 6.740841,
     "end_time": "2024-02-18T21:57:31.122969",
     "exception": false,
     "start_time": "2024-02-18T21:57:24.382128",
     "status": "completed"
    },
    "tags": []
   },
   "outputs": [
    {
     "name": "stdout",
     "output_type": "stream",
     "text": [
      "Original Sequence: ires injure himself hence evil done unwi\n",
      "Predicted Sequence: ld sels se\n"
     ]
    }
   ],
   "source": [
    "# Number of characters being predicted\n",
    "num_predictions = 10\n",
    "\n",
    "# Select a random starting point\n",
    "start_index = np.random.randint(0, len(text) - sequence_length - num_predictions)\n",
    "\n",
    "# Extract a 40-character sequence\n",
    "input_sequence = text[start_index : start_index + sequence_length]\n",
    "\n",
    "# Prepare input for prediction\n",
    "input_sequence_indices = [char_to_index[char] for char in input_sequence]\n",
    "input_sequence_array = np.reshape(input_sequence_indices, (1, sequence_length, 1))\n",
    "\n",
    "# Normalize the data to values between 0 and 1\n",
    "input_sequence_array = input_sequence_array / float(len(unique_characters))\n",
    "\n",
    "# Generate predictions\n",
    "predicted_sequence_indices = []\n",
    "for _ in range(num_predictions):\n",
    "    predictions = model.predict(input_sequence_array, verbose=0)[0]\n",
    "    predicted_index = np.argmax(predictions)\n",
    "    predicted_char = index_to_char[predicted_index]\n",
    "    \n",
    "    # Append the predicted character to the sequence\n",
    "    predicted_sequence_indices.append(predicted_index)\n",
    "    input_sequence_indices.append(predicted_index)\n",
    "    input_sequence_indices = input_sequence_indices[1:]\n",
    "    \n",
    "    # Prepare the input for the next prediction\n",
    "    input_sequence_array = np.reshape(input_sequence_indices, (1, sequence_length, 1))\n",
    "    \n",
    "    # Normalize the data to values between 0 and 1\n",
    "    input_sequence_array = input_sequence_array / float(len(unique_characters))\n",
    "\n",
    "# Convert predicted indices back to characters\n",
    "predicted_sequence = ''.join([index_to_char[index] for index in predicted_sequence_indices])\n",
    "\n",
    "# Print the result\n",
    "print(\"Original Sequence:\", input_sequence)\n",
    "print(\"Predicted Sequence:\", predicted_sequence)"
   ]
  },
  {
   "cell_type": "markdown",
   "id": "01963b10",
   "metadata": {
    "papermill": {
     "duration": 5.656131,
     "end_time": "2024-02-18T21:57:42.368798",
     "exception": false,
     "start_time": "2024-02-18T21:57:36.712667",
     "status": "completed"
    },
    "tags": []
   },
   "source": [
    "# **Model 2**"
   ]
  },
  {
   "cell_type": "code",
   "execution_count": 15,
   "id": "f6a69045",
   "metadata": {
    "execution": {
     "iopub.execute_input": "2024-02-18T21:57:53.512102Z",
     "iopub.status.busy": "2024-02-18T21:57:53.511709Z",
     "iopub.status.idle": "2024-02-18T21:57:54.495991Z",
     "shell.execute_reply": "2024-02-18T21:57:54.494771Z"
    },
    "papermill": {
     "duration": 6.604865,
     "end_time": "2024-02-18T21:57:54.505217",
     "exception": false,
     "start_time": "2024-02-18T21:57:47.900352",
     "status": "completed"
    },
    "tags": []
   },
   "outputs": [
    {
     "name": "stdout",
     "output_type": "stream",
     "text": [
      "Model: \"sequential_1\"\n",
      "_________________________________________________________________\n",
      " Layer (type)                Output Shape              Param #   \n",
      "=================================================================\n",
      " lstm_1 (LSTM)               (None, 40, 128)           66560     \n",
      "                                                                 \n",
      " dropout_1 (Dropout)         (None, 40, 128)           0         \n",
      "                                                                 \n",
      " lstm_2 (LSTM)               (None, 40, 128)           131584    \n",
      "                                                                 \n",
      " dropout_2 (Dropout)         (None, 40, 128)           0         \n",
      "                                                                 \n",
      " lstm_3 (LSTM)               (None, 128)               131584    \n",
      "                                                                 \n",
      " dropout_3 (Dropout)         (None, 128)               0         \n",
      "                                                                 \n",
      " dense_1 (Dense)             (None, 38)                4902      \n",
      "                                                                 \n",
      "=================================================================\n",
      "Total params: 334630 (1.28 MB)\n",
      "Trainable params: 334630 (1.28 MB)\n",
      "Non-trainable params: 0 (0.00 Byte)\n",
      "_________________________________________________________________\n"
     ]
    }
   ],
   "source": [
    "# Create the second model\n",
    "model2 = Sequential()\n",
    "model2.add(LSTM(num_neurons, return_sequences=True, input_shape=(X_train.shape[1], X_train.shape[2])))\n",
    "model2.add(Dropout(0.2))\n",
    "model2.add(LSTM(num_neurons, return_sequences=True))\n",
    "model2.add(Dropout(0.2))\n",
    "model2.add(LSTM(num_neurons, return_sequences=False, input_shape=(X_train.shape[1], X_train.shape[2])))\n",
    "model2.add(Dropout(0.2))\n",
    "model2.add(Dense(len(unique_characters), activation='softmax'))\n",
    "\n",
    "# Set initial weights\n",
    "initial_weights = 0.05\n",
    "for layer in model2.layers:\n",
    "    for weight in layer.get_weights():\n",
    "        weight[:] = initial_weights\n",
    "\n",
    "# Compile the second model with RMSProp\n",
    "optimizer = RMSprop(learning_rate=0.01)\n",
    "model2.compile(optimizer=optimizer, loss='sparse_categorical_crossentropy', metrics=['accuracy'])\n",
    "\n",
    "# Display the second model summary\n",
    "model2.summary()"
   ]
  },
  {
   "cell_type": "code",
   "execution_count": 16,
   "id": "bd3c9738",
   "metadata": {
    "execution": {
     "iopub.execute_input": "2024-02-18T21:58:05.533350Z",
     "iopub.status.busy": "2024-02-18T21:58:05.532945Z",
     "iopub.status.idle": "2024-02-19T04:46:52.469845Z",
     "shell.execute_reply": "2024-02-19T04:46:52.468858Z"
    },
    "papermill": {
     "duration": 24532.456347,
     "end_time": "2024-02-19T04:46:52.472241",
     "exception": false,
     "start_time": "2024-02-18T21:58:00.015894",
     "status": "completed"
    },
    "tags": []
   },
   "outputs": [
    {
     "name": "stdout",
     "output_type": "stream",
     "text": [
      "Epoch 1/50\n",
      "1868/1868 [==============================] - 490s 260ms/step - loss: 2.8372 - accuracy: 0.1632 - val_loss: 2.6598 - val_accuracy: 0.2053\n",
      "Epoch 2/50\n",
      "1868/1868 [==============================] - 485s 260ms/step - loss: 2.5344 - accuracy: 0.2471 - val_loss: 2.3172 - val_accuracy: 0.2995\n",
      "Epoch 3/50\n",
      "1868/1868 [==============================] - 487s 261ms/step - loss: 2.3192 - accuracy: 0.3056 - val_loss: 2.1552 - val_accuracy: 0.3461\n",
      "Epoch 4/50\n",
      "1868/1868 [==============================] - 490s 262ms/step - loss: 2.1597 - accuracy: 0.3495 - val_loss: 2.1034 - val_accuracy: 0.3623\n",
      "Epoch 5/50\n",
      "1868/1868 [==============================] - 490s 263ms/step - loss: 2.0445 - accuracy: 0.3820 - val_loss: 1.9023 - val_accuracy: 0.4155\n",
      "Epoch 6/50\n",
      "1868/1868 [==============================] - 492s 264ms/step - loss: 1.9554 - accuracy: 0.4079 - val_loss: 1.8154 - val_accuracy: 0.4364\n",
      "Epoch 7/50\n",
      "1868/1868 [==============================] - 490s 262ms/step - loss: 1.8975 - accuracy: 0.4238 - val_loss: 1.7158 - val_accuracy: 0.4698\n",
      "Epoch 8/50\n",
      "1868/1868 [==============================] - 491s 263ms/step - loss: 1.8512 - accuracy: 0.4360 - val_loss: 1.7264 - val_accuracy: 0.4727\n",
      "Epoch 9/50\n",
      "1868/1868 [==============================] - 489s 262ms/step - loss: 1.8217 - accuracy: 0.4441 - val_loss: 1.6866 - val_accuracy: 0.4840\n",
      "Epoch 10/50\n",
      "1868/1868 [==============================] - 490s 262ms/step - loss: 1.7925 - accuracy: 0.4545 - val_loss: 1.6925 - val_accuracy: 0.4788\n",
      "Epoch 11/50\n",
      "1868/1868 [==============================] - 491s 263ms/step - loss: 1.7686 - accuracy: 0.4599 - val_loss: 1.6326 - val_accuracy: 0.4953\n",
      "Epoch 12/50\n",
      "1868/1868 [==============================] - 495s 265ms/step - loss: 1.7504 - accuracy: 0.4659 - val_loss: 1.6226 - val_accuracy: 0.5001\n",
      "Epoch 13/50\n",
      "1868/1868 [==============================] - 500s 268ms/step - loss: 1.7350 - accuracy: 0.4696 - val_loss: 1.6082 - val_accuracy: 0.5013\n",
      "Epoch 14/50\n",
      "1868/1868 [==============================] - 494s 264ms/step - loss: 1.7229 - accuracy: 0.4731 - val_loss: 1.7224 - val_accuracy: 0.4718\n",
      "Epoch 15/50\n",
      "1868/1868 [==============================] - 491s 263ms/step - loss: 1.7090 - accuracy: 0.4770 - val_loss: 1.5877 - val_accuracy: 0.5085\n",
      "Epoch 16/50\n",
      "1868/1868 [==============================] - 498s 267ms/step - loss: 1.6988 - accuracy: 0.4804 - val_loss: 1.5715 - val_accuracy: 0.5120\n",
      "Epoch 17/50\n",
      "1868/1868 [==============================] - 501s 268ms/step - loss: 1.6923 - accuracy: 0.4824 - val_loss: 1.5957 - val_accuracy: 0.5037\n",
      "Epoch 18/50\n",
      "1868/1868 [==============================] - 495s 265ms/step - loss: 1.6844 - accuracy: 0.4849 - val_loss: 1.5775 - val_accuracy: 0.5079\n",
      "Epoch 19/50\n",
      "1868/1868 [==============================] - 494s 265ms/step - loss: 1.6745 - accuracy: 0.4861 - val_loss: 1.5598 - val_accuracy: 0.5178\n",
      "Epoch 20/50\n",
      "1868/1868 [==============================] - 490s 262ms/step - loss: 1.6676 - accuracy: 0.4889 - val_loss: 1.5429 - val_accuracy: 0.5211\n",
      "Epoch 21/50\n",
      "1868/1868 [==============================] - 490s 262ms/step - loss: 1.6611 - accuracy: 0.4911 - val_loss: 1.5483 - val_accuracy: 0.5223\n",
      "Epoch 22/50\n",
      "1868/1868 [==============================] - 488s 261ms/step - loss: 1.6623 - accuracy: 0.4913 - val_loss: 1.5466 - val_accuracy: 0.5225\n",
      "Epoch 23/50\n",
      "1868/1868 [==============================] - 493s 264ms/step - loss: 1.6534 - accuracy: 0.4945 - val_loss: 1.5490 - val_accuracy: 0.5224\n",
      "Epoch 24/50\n",
      "1868/1868 [==============================] - 487s 261ms/step - loss: 1.6494 - accuracy: 0.4950 - val_loss: 1.5228 - val_accuracy: 0.5264\n",
      "Epoch 25/50\n",
      "1868/1868 [==============================] - 488s 261ms/step - loss: 1.6427 - accuracy: 0.4961 - val_loss: 1.5520 - val_accuracy: 0.5208\n",
      "Epoch 26/50\n",
      "1868/1868 [==============================] - 488s 261ms/step - loss: 1.6365 - accuracy: 0.4981 - val_loss: 1.5184 - val_accuracy: 0.5241\n",
      "Epoch 27/50\n",
      "1868/1868 [==============================] - 491s 263ms/step - loss: 1.6340 - accuracy: 0.4980 - val_loss: 1.5524 - val_accuracy: 0.5233\n",
      "Epoch 28/50\n",
      "1868/1868 [==============================] - 488s 261ms/step - loss: 1.6359 - accuracy: 0.4988 - val_loss: 1.5064 - val_accuracy: 0.5342\n",
      "Epoch 29/50\n",
      "1868/1868 [==============================] - 489s 262ms/step - loss: 1.6318 - accuracy: 0.4999 - val_loss: 1.5583 - val_accuracy: 0.5206\n",
      "Epoch 30/50\n",
      "1868/1868 [==============================] - 486s 260ms/step - loss: 1.6277 - accuracy: 0.4999 - val_loss: 1.5021 - val_accuracy: 0.5361\n",
      "Epoch 31/50\n",
      "1868/1868 [==============================] - 491s 263ms/step - loss: 1.6262 - accuracy: 0.5019 - val_loss: 1.5288 - val_accuracy: 0.5252\n",
      "Epoch 32/50\n",
      "1868/1868 [==============================] - 487s 261ms/step - loss: 1.6201 - accuracy: 0.5026 - val_loss: 1.5830 - val_accuracy: 0.5155\n",
      "Epoch 33/50\n",
      "1868/1868 [==============================] - 489s 262ms/step - loss: 1.6184 - accuracy: 0.5034 - val_loss: 1.5133 - val_accuracy: 0.5293\n",
      "Epoch 34/50\n",
      "1868/1868 [==============================] - 486s 260ms/step - loss: 1.6184 - accuracy: 0.5035 - val_loss: 1.5191 - val_accuracy: 0.5318\n",
      "Epoch 35/50\n",
      "1868/1868 [==============================] - 492s 263ms/step - loss: 1.6186 - accuracy: 0.5043 - val_loss: 1.5295 - val_accuracy: 0.5281\n",
      "Epoch 36/50\n",
      "1868/1868 [==============================] - 486s 260ms/step - loss: 1.6148 - accuracy: 0.5066 - val_loss: 1.4830 - val_accuracy: 0.5391\n",
      "Epoch 37/50\n",
      "1868/1868 [==============================] - 489s 262ms/step - loss: 1.6152 - accuracy: 0.5050 - val_loss: 1.5020 - val_accuracy: 0.5388\n",
      "Epoch 38/50\n",
      "1868/1868 [==============================] - 486s 260ms/step - loss: 1.6087 - accuracy: 0.5070 - val_loss: 1.4880 - val_accuracy: 0.5392\n",
      "Epoch 39/50\n",
      "1868/1868 [==============================] - 490s 262ms/step - loss: 1.6131 - accuracy: 0.5054 - val_loss: 1.4896 - val_accuracy: 0.5341\n",
      "Epoch 40/50\n",
      "1868/1868 [==============================] - 489s 262ms/step - loss: 1.6078 - accuracy: 0.5066 - val_loss: 1.4888 - val_accuracy: 0.5414\n",
      "Epoch 41/50\n",
      "1868/1868 [==============================] - 491s 263ms/step - loss: 1.6080 - accuracy: 0.5073 - val_loss: 1.5365 - val_accuracy: 0.5310\n",
      "Epoch 42/50\n",
      "1868/1868 [==============================] - 492s 263ms/step - loss: 1.6057 - accuracy: 0.5079 - val_loss: 1.5220 - val_accuracy: 0.5333\n",
      "Epoch 43/50\n",
      "1868/1868 [==============================] - 491s 263ms/step - loss: 1.6030 - accuracy: 0.5084 - val_loss: 1.4783 - val_accuracy: 0.5399\n",
      "Epoch 44/50\n",
      "1868/1868 [==============================] - 488s 261ms/step - loss: 1.6007 - accuracy: 0.5102 - val_loss: 1.4880 - val_accuracy: 0.5410\n",
      "Epoch 45/50\n",
      "1868/1868 [==============================] - 493s 264ms/step - loss: 1.6036 - accuracy: 0.5089 - val_loss: 1.4767 - val_accuracy: 0.5378\n",
      "Epoch 46/50\n",
      "1868/1868 [==============================] - 488s 261ms/step - loss: 1.6028 - accuracy: 0.5093 - val_loss: 1.4766 - val_accuracy: 0.5402\n",
      "Epoch 47/50\n",
      "1868/1868 [==============================] - 490s 262ms/step - loss: 1.6002 - accuracy: 0.5095 - val_loss: 1.4808 - val_accuracy: 0.5419\n",
      "Epoch 48/50\n",
      "1868/1868 [==============================] - 495s 265ms/step - loss: 1.5956 - accuracy: 0.5106 - val_loss: 1.5464 - val_accuracy: 0.5209\n",
      "Epoch 49/50\n",
      "1868/1868 [==============================] - 488s 261ms/step - loss: 1.5969 - accuracy: 0.5108 - val_loss: 1.4952 - val_accuracy: 0.5374\n",
      "Epoch 50/50\n",
      "1868/1868 [==============================] - 493s 264ms/step - loss: 1.5975 - accuracy: 0.5116 - val_loss: 1.4744 - val_accuracy: 0.5454\n"
     ]
    }
   ],
   "source": [
    "# Train the model\n",
    "history = model2.fit(X_train, y_train, epochs=50, batch_size=128, validation_data=(X_val, y_val))"
   ]
  },
  {
   "cell_type": "code",
   "execution_count": 17,
   "id": "646581b8",
   "metadata": {
    "execution": {
     "iopub.execute_input": "2024-02-19T04:47:22.008141Z",
     "iopub.status.busy": "2024-02-19T04:47:22.007395Z",
     "iopub.status.idle": "2024-02-19T04:47:22.244095Z",
     "shell.execute_reply": "2024-02-19T04:47:22.242857Z"
    },
    "papermill": {
     "duration": 15.11296,
     "end_time": "2024-02-19T04:47:22.246550",
     "exception": false,
     "start_time": "2024-02-19T04:47:07.133590",
     "status": "completed"
    },
    "tags": []
   },
   "outputs": [
    {
     "data": {
      "image/png": "[encoded data removed]",
      "text/plain": [
       "<Figure size 640x480 with 1 Axes>"
      ]
     },
     "metadata": {},
     "output_type": "display_data"
    }
   ],
   "source": [
    "import matplotlib.pyplot as plt\n",
    "\n",
    "# Plot training and validation accuracy to epoch\n",
    "plt.plot(history.history['accuracy'], label='Training Accuracy')\n",
    "plt.plot(history.history['val_accuracy'], label='Validation Accuracy')\n",
    "plt.xlabel('Epoch')\n",
    "plt.ylabel('Accuracy')\n",
    "plt.legend()\n",
    "plt.show()"
   ]
  },
  {
   "cell_type": "code",
   "execution_count": 18,
   "id": "57139da6",
   "metadata": {
    "execution": {
     "iopub.execute_input": "2024-02-19T04:47:52.234725Z",
     "iopub.status.busy": "2024-02-19T04:47:52.234337Z",
     "iopub.status.idle": "2024-02-19T04:47:52.490567Z",
     "shell.execute_reply": "2024-02-19T04:47:52.489610Z"
    },
    "papermill": {
     "duration": 15.395012,
     "end_time": "2024-02-19T04:47:52.494041",
     "exception": false,
     "start_time": "2024-02-19T04:47:37.099029",
     "status": "completed"
    },
    "tags": []
   },
   "outputs": [
    {
     "data": {
      "text/plain": [
       "<matplotlib.legend.Legend at 0x7f352c773340>"
      ]
     },
     "execution_count": 18,
     "metadata": {},
     "output_type": "execute_result"
    },
    {
     "data": {
      "image/png": "[encoded data removed]",
      "text/plain": [
       "<Figure size 640x480 with 1 Axes>"
      ]
     },
     "metadata": {},
     "output_type": "display_data"
    }
   ],
   "source": [
    "# Plot loss to epoch\n",
    "plt.plot(history.history['loss'], label='Training Loss')\n",
    "plt.plot(history.history['val_loss'], label='Validation Loss')\n",
    "plt.xlabel('Epoch')\n",
    "plt.ylabel('Loss')\n",
    "plt.legend()"
   ]
  },
  {
   "cell_type": "code",
   "execution_count": 19,
   "id": "dab662f3",
   "metadata": {
    "execution": {
     "iopub.execute_input": "2024-02-19T04:48:21.895173Z",
     "iopub.status.busy": "2024-02-19T04:48:21.894447Z",
     "iopub.status.idle": "2024-02-19T04:48:24.501105Z",
     "shell.execute_reply": "2024-02-19T04:48:24.498765Z"
    },
    "papermill": {
     "duration": 17.386952,
     "end_time": "2024-02-19T04:48:24.503679",
     "exception": false,
     "start_time": "2024-02-19T04:48:07.116727",
     "status": "completed"
    },
    "tags": []
   },
   "outputs": [
    {
     "name": "stdout",
     "output_type": "stream",
     "text": [
      "Original Sequence: e greatest strength philosopher ever exp\n",
      "Predicted Sequence: eption see\n"
     ]
    }
   ],
   "source": [
    "# Number of characters being predicted\n",
    "num_predictions = 10\n",
    "\n",
    "# Select a random starting point\n",
    "start_index = np.random.randint(0, len(text) - sequence_length - num_predictions)\n",
    "\n",
    "# Extract a 40-character sequence\n",
    "input_sequence = text[start_index : start_index + sequence_length]\n",
    "\n",
    "# Prepare input for prediction\n",
    "input_sequence_indices = [char_to_index[char] for char in input_sequence]\n",
    "input_sequence_array = np.reshape(input_sequence_indices, (1, sequence_length, 1))\n",
    "\n",
    "# Normalize the data to values between 0 and 1\n",
    "input_sequence_array = input_sequence_array / float(len(unique_characters))\n",
    "\n",
    "# Generate predictions\n",
    "predicted_sequence_indices = []\n",
    "for _ in range(num_predictions):\n",
    "    predictions = model2.predict(input_sequence_array, verbose=0)[0]\n",
    "    predicted_index = np.argmax(predictions)\n",
    "    predicted_char = index_to_char[predicted_index]\n",
    "    \n",
    "    # Append the predicted character to the sequence\n",
    "    predicted_sequence_indices.append(predicted_index)\n",
    "    input_sequence_indices.append(predicted_index)\n",
    "    input_sequence_indices = input_sequence_indices[1:]\n",
    "    \n",
    "    # Prepare the input for the next prediction\n",
    "    input_sequence_array = np.reshape(input_sequence_indices, (1, sequence_length, 1))\n",
    "    \n",
    "    # Normalize the data to values between 0 and 1\n",
    "    input_sequence_array = input_sequence_array / float(len(unique_characters))\n",
    "\n",
    "# Convert predicted indices back to characters\n",
    "predicted_sequence = ''.join([index_to_char[index] for index in predicted_sequence_indices])\n",
    "\n",
    "# Print the result\n",
    "print(\"Original Sequence:\", input_sequence)\n",
    "print(\"Predicted Sequence:\", predicted_sequence)"
   ]
  }
 ],
 "metadata": {
  "kaggle": {
   "accelerator": "none",
   "dataSources": [
    {
     "datasetId": 1394768,
     "sourceId": 2344930,
     "sourceType": "datasetVersion"
    }
   ],
   "dockerImageVersionId": 30646,
   "isGpuEnabled": false,
   "isInternetEnabled": true,
   "language": "python",
   "sourceType": "notebook"
  },
  "kernelspec": {
   "display_name": "Python 3 (ipykernel)",
   "language": "python",
   "name": "python3"
  },
  "language_info": {
   "codemirror_mode": {
    "name": "ipython",
    "version": 3
   },
   "file_extension": ".py",
   "mimetype": "text/x-python",
   "name": "python",
   "nbconvert_exporter": "python",
   "pygments_lexer": "ipython3",
   "version": "3.9.12"
  },
  "papermill": {
   "default_parameters": {},
   "duration": 28706.969536,
   "end_time": "2024-02-19T04:48:41.944434",
   "environment_variables": {},
   "exception": null,
   "input_path": "__notebook__.ipynb",
   "output_path": "__notebook__.ipynb",
   "parameters": {},
   "start_time": "2024-02-18T20:50:14.974898",
   "version": "2.5.0"
  }
 },
 "nbformat": 4,
 "nbformat_minor": 5
}
