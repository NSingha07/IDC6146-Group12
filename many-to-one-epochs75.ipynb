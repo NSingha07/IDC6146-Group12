{
 "cells": [
  {
   "cell_type": "code",
   "execution_count": 1,
   "id": "8a9967aa",
   "metadata": {
    "_cell_guid": "b1076dfc-b9ad-4769-8c92-a6c4dae69d19",
    "_uuid": "8f2839f25d086af736a60e9eeb907d3b93b6e0e5",
    "execution": {
     "iopub.execute_input": "2024-02-22T18:06:27.266263Z",
     "iopub.status.busy": "2024-02-22T18:06:27.265572Z",
     "iopub.status.idle": "2024-02-22T18:06:43.932284Z",
     "shell.execute_reply": "2024-02-22T18:06:43.931124Z"
    },
    "papermill": {
     "duration": 16.679133,
     "end_time": "2024-02-22T18:06:43.935024",
     "exception": false,
     "start_time": "2024-02-22T18:06:27.255891",
     "status": "completed"
    },
    "tags": []
   },
   "outputs": [
    {
     "name": "stderr",
     "output_type": "stream",
     "text": [
      "2024-02-22 18:06:30.346597: E external/local_xla/xla/stream_executor/cuda/cuda_dnn.cc:9261] Unable to register cuDNN factory: Attempting to register factory for plugin cuDNN when one has already been registered\n",
      "2024-02-22 18:06:30.346754: E external/local_xla/xla/stream_executor/cuda/cuda_fft.cc:607] Unable to register cuFFT factory: Attempting to register factory for plugin cuFFT when one has already been registered\n",
      "2024-02-22 18:06:30.514630: E external/local_xla/xla/stream_executor/cuda/cuda_blas.cc:1515] Unable to register cuBLAS factory: Attempting to register factory for plugin cuBLAS when one has already been registered\n"
     ]
    }
   ],
   "source": [
    "import numpy as np \n",
    "import pandas as pd \n",
    "import os\n",
    "\n",
    "from keras.models import Sequential\n",
    "from keras.layers import LSTM, Dense\n",
    "from keras.optimizers import RMSprop\n",
    "from keras.layers import Dropout\n",
    "from sklearn.model_selection import train_test_split"
   ]
  },
  {
   "cell_type": "markdown",
   "id": "05904d3a",
   "metadata": {
    "papermill": {
     "duration": 0.006154,
     "end_time": "2024-02-22T18:06:43.947813",
     "exception": false,
     "start_time": "2024-02-22T18:06:43.941659",
     "status": "completed"
    },
    "tags": []
   },
   "source": [
    "# **Data Preprocessing**"
   ]
  },
  {
   "cell_type": "code",
   "execution_count": 2,
   "id": "75491d34",
   "metadata": {
    "execution": {
     "iopub.execute_input": "2024-02-22T18:06:43.962374Z",
     "iopub.status.busy": "2024-02-22T18:06:43.961660Z",
     "iopub.status.idle": "2024-02-22T18:06:44.317486Z",
     "shell.execute_reply": "2024-02-22T18:06:44.316249Z"
    },
    "papermill": {
     "duration": 0.36595,
     "end_time": "2024-02-22T18:06:44.320152",
     "exception": false,
     "start_time": "2024-02-22T18:06:43.954202",
     "status": "completed"
    },
    "tags": []
   },
   "outputs": [
    {
     "data": {
      "text/html": [
       "<div>\n",
       "<style scoped>\n",
       "    .dataframe tbody tr th:only-of-type {\n",
       "        vertical-align: middle;\n",
       "    }\n",
       "\n",
       "    .dataframe tbody tr th {\n",
       "        vertical-align: top;\n",
       "    }\n",
       "\n",
       "    .dataframe thead th {\n",
       "        text-align: right;\n",
       "    }\n",
       "</style>\n",
       "<table border=\"1\" class=\"dataframe\">\n",
       "  <thead>\n",
       "    <tr style=\"text-align: right;\">\n",
       "      <th></th>\n",
       "      <th>Unnamed: 0</th>\n",
       "      <th>book_title</th>\n",
       "      <th>publishing_date</th>\n",
       "      <th>text</th>\n",
       "      <th>text_clean</th>\n",
       "    </tr>\n",
       "  </thead>\n",
       "  <tbody>\n",
       "    <tr>\n",
       "      <th>0</th>\n",
       "      <td>0</td>\n",
       "      <td>Beyond Good and Evil</td>\n",
       "      <td>1886</td>\n",
       "      <td>PREFACE\\r\\n    BEYOND GOOD AND EVIL\\r\\n\\r\\n   ...</td>\n",
       "      <td>preface beyond good evil chapter i prejudices ...</td>\n",
       "    </tr>\n",
       "    <tr>\n",
       "      <th>1</th>\n",
       "      <td>1</td>\n",
       "      <td>Thus Spake Zarathustra: A Book for All and None</td>\n",
       "      <td>1885</td>\n",
       "      <td>THUS SPAKE ZARATHUSTRA.\\r\\n\\r\\n     FIRST PART...</td>\n",
       "      <td>thus spake zarathustra first part zarathustras...</td>\n",
       "    </tr>\n",
       "    <tr>\n",
       "      <th>2</th>\n",
       "      <td>2</td>\n",
       "      <td>Thoughts out of Season</td>\n",
       "      <td>1909</td>\n",
       "      <td>PREFACE.\\r\\n\\r\\n\\r\\n1.\\r\\n\\r\\nWe are unknown, ...</td>\n",
       "      <td>preface 1 unknown knowers ourselves good reaso...</td>\n",
       "    </tr>\n",
       "    <tr>\n",
       "      <th>3</th>\n",
       "      <td>3</td>\n",
       "      <td>The Dawn of Day</td>\n",
       "      <td>1881</td>\n",
       "      <td>PREFACE\\r\\n\\r\\n\\r\\n1\\r\\n\\r\\nAs it is my intent...</td>\n",
       "      <td>preface 1 intention within short time confront...</td>\n",
       "    </tr>\n",
       "    <tr>\n",
       "      <th>4</th>\n",
       "      <td>4</td>\n",
       "      <td>Homer and Classical Philology</td>\n",
       "      <td>1868</td>\n",
       "      <td>PREFACE.\\r\\n\\r\\n\\r\\n1.\\r\\n\\r\\nConcerning great...</td>\n",
       "      <td>preface 1 concerning great things one either s...</td>\n",
       "    </tr>\n",
       "  </tbody>\n",
       "</table>\n",
       "</div>"
      ],
      "text/plain": [
       "   Unnamed: 0                                       book_title  \\\n",
       "0           0                             Beyond Good and Evil   \n",
       "1           1  Thus Spake Zarathustra: A Book for All and None   \n",
       "2           2                           Thoughts out of Season   \n",
       "3           3                                  The Dawn of Day   \n",
       "4           4                    Homer and Classical Philology   \n",
       "\n",
       "   publishing_date                                               text  \\\n",
       "0             1886  PREFACE\\r\\n    BEYOND GOOD AND EVIL\\r\\n\\r\\n   ...   \n",
       "1             1885  THUS SPAKE ZARATHUSTRA.\\r\\n\\r\\n     FIRST PART...   \n",
       "2             1909  PREFACE.\\r\\n\\r\\n\\r\\n1.\\r\\n\\r\\nWe are unknown, ...   \n",
       "3             1881  PREFACE\\r\\n\\r\\n\\r\\n1\\r\\n\\r\\nAs it is my intent...   \n",
       "4             1868  PREFACE.\\r\\n\\r\\n\\r\\n1.\\r\\n\\r\\nConcerning great...   \n",
       "\n",
       "                                          text_clean  \n",
       "0  preface beyond good evil chapter i prejudices ...  \n",
       "1  thus spake zarathustra first part zarathustras...  \n",
       "2  preface 1 unknown knowers ourselves good reaso...  \n",
       "3  preface 1 intention within short time confront...  \n",
       "4  preface 1 concerning great things one either s...  "
      ]
     },
     "execution_count": 2,
     "metadata": {},
     "output_type": "execute_result"
    }
   ],
   "source": [
    "df = pd.read_csv('/kaggle/input/Nietzsche_works_corpus.csv')\n",
    "df.head()"
   ]
  },
  {
   "cell_type": "code",
   "execution_count": 3,
   "id": "dd4e1f76",
   "metadata": {
    "execution": {
     "iopub.execute_input": "2024-02-22T18:06:44.335579Z",
     "iopub.status.busy": "2024-02-22T18:06:44.335150Z",
     "iopub.status.idle": "2024-02-22T18:06:44.350313Z",
     "shell.execute_reply": "2024-02-22T18:06:44.348828Z"
    },
    "papermill": {
     "duration": 0.025818,
     "end_time": "2024-02-22T18:06:44.352915",
     "exception": false,
     "start_time": "2024-02-22T18:06:44.327097",
     "status": "completed"
    },
    "tags": []
   },
   "outputs": [
    {
     "name": "stdout",
     "output_type": "stream",
     "text": [
      "251619\n"
     ]
    }
   ],
   "source": [
    "text = df[df['book_title']=='Beyond Good and Evil']['text_clean'][0]\n",
    "print(len(text))"
   ]
  },
  {
   "cell_type": "code",
   "execution_count": 4,
   "id": "d61d2a67",
   "metadata": {
    "execution": {
     "iopub.execute_input": "2024-02-22T18:06:44.368463Z",
     "iopub.status.busy": "2024-02-22T18:06:44.368057Z",
     "iopub.status.idle": "2024-02-22T18:06:44.378638Z",
     "shell.execute_reply": "2024-02-22T18:06:44.377318Z"
    },
    "papermill": {
     "duration": 0.022115,
     "end_time": "2024-02-22T18:06:44.382006",
     "exception": false,
     "start_time": "2024-02-22T18:06:44.359891",
     "status": "completed"
    },
    "tags": []
   },
   "outputs": [
    {
     "name": "stdout",
     "output_type": "stream",
     "text": [
      "38\n",
      "{'i', 'q', 'g', '2', '7', ' ', 'j', 'r', '0', 'z', '8', '_', 'a', 'h', 'w', '9', 'y', 'x', 'o', 'n', '1', '6', 'k', 'd', 'v', 'l', '4', 'b', 'f', 't', 's', '3', 'c', '5', 'm', 'u', 'p', 'e'}\n"
     ]
    }
   ],
   "source": [
    "# Getting the unique characters in the text\n",
    "unique_characters = set(text)\n",
    "\n",
    "print(len(unique_characters))\n",
    "print(unique_characters)"
   ]
  },
  {
   "cell_type": "code",
   "execution_count": 5,
   "id": "20111ff5",
   "metadata": {
    "execution": {
     "iopub.execute_input": "2024-02-22T18:06:44.397162Z",
     "iopub.status.busy": "2024-02-22T18:06:44.396784Z",
     "iopub.status.idle": "2024-02-22T18:06:44.411016Z",
     "shell.execute_reply": "2024-02-22T18:06:44.409821Z"
    },
    "papermill": {
     "duration": 0.024602,
     "end_time": "2024-02-22T18:06:44.413426",
     "exception": false,
     "start_time": "2024-02-22T18:06:44.388824",
     "status": "completed"
    },
    "tags": []
   },
   "outputs": [],
   "source": [
    "# Mapping characters to integers\n",
    "char_to_index = {char: i for i, char in enumerate(set(text))}\n",
    "index_to_char = {i: char for i, char in enumerate(set(text))}"
   ]
  },
  {
   "cell_type": "code",
   "execution_count": 6,
   "id": "8c64c288",
   "metadata": {
    "execution": {
     "iopub.execute_input": "2024-02-22T18:06:44.429401Z",
     "iopub.status.busy": "2024-02-22T18:06:44.429028Z",
     "iopub.status.idle": "2024-02-22T18:06:44.455121Z",
     "shell.execute_reply": "2024-02-22T18:06:44.453704Z"
    },
    "papermill": {
     "duration": 0.036623,
     "end_time": "2024-02-22T18:06:44.457526",
     "exception": false,
     "start_time": "2024-02-22T18:06:44.420903",
     "status": "completed"
    },
    "tags": []
   },
   "outputs": [],
   "source": [
    "# Convert the text to a sequence of indices\n",
    "text_as_indices = [char_to_index[char] for char in text]"
   ]
  },
  {
   "cell_type": "code",
   "execution_count": 7,
   "id": "d4ad78d5",
   "metadata": {
    "execution": {
     "iopub.execute_input": "2024-02-22T18:06:44.473330Z",
     "iopub.status.busy": "2024-02-22T18:06:44.472951Z",
     "iopub.status.idle": "2024-02-22T18:06:46.455804Z",
     "shell.execute_reply": "2024-02-22T18:06:46.454704Z"
    },
    "papermill": {
     "duration": 1.994352,
     "end_time": "2024-02-22T18:06:46.458874",
     "exception": false,
     "start_time": "2024-02-22T18:06:44.464522",
     "status": "completed"
    },
    "tags": []
   },
   "outputs": [],
   "source": [
    "# Setting the parameters\n",
    "sequence_length = 40\n",
    "num_neurons = 128\n",
    "num_distinct_chars = len(unique_characters)\n",
    "\n",
    "# Generate input sequences and corresponding labels\n",
    "X = []\n",
    "y = []\n",
    "\n",
    "for i in range(0, len(text_as_indices) - sequence_length, 1):\n",
    "    sequence_in = text_as_indices[i:i + sequence_length]\n",
    "    sequence_out = text_as_indices[i + sequence_length]\n",
    "    X.append(sequence_in)\n",
    "    y.append(sequence_out)\n",
    "\n",
    "# Convert to numpy arrays\n",
    "X = np.array(X)\n",
    "y = np.array(y)\n",
    "\n",
    "# Reshape X\n",
    "X = np.reshape(X, (X.shape[0], sequence_length, 1))\n",
    "\n",
    "# Normalize the data to values between 0 and 1\n",
    "X = X / float(len(unique_characters))"
   ]
  },
  {
   "cell_type": "code",
   "execution_count": 8,
   "id": "2db985ef",
   "metadata": {
    "execution": {
     "iopub.execute_input": "2024-02-22T18:06:46.476197Z",
     "iopub.status.busy": "2024-02-22T18:06:46.475787Z",
     "iopub.status.idle": "2024-02-22T18:06:46.482671Z",
     "shell.execute_reply": "2024-02-22T18:06:46.481925Z"
    },
    "papermill": {
     "duration": 0.017915,
     "end_time": "2024-02-22T18:06:46.484694",
     "exception": false,
     "start_time": "2024-02-22T18:06:46.466779",
     "status": "completed"
    },
    "tags": []
   },
   "outputs": [
    {
     "name": "stdout",
     "output_type": "stream",
     "text": [
      "(251579, 40, 1)\n",
      "(251579,)\n"
     ]
    }
   ],
   "source": [
    "print(X.shape)\n",
    "print(y.shape)"
   ]
  },
  {
   "cell_type": "code",
   "execution_count": 9,
   "id": "ae128554",
   "metadata": {
    "execution": {
     "iopub.execute_input": "2024-02-22T18:06:46.500903Z",
     "iopub.status.busy": "2024-02-22T18:06:46.500244Z",
     "iopub.status.idle": "2024-02-22T18:06:46.559630Z",
     "shell.execute_reply": "2024-02-22T18:06:46.558654Z"
    },
    "papermill": {
     "duration": 0.070694,
     "end_time": "2024-02-22T18:06:46.562532",
     "exception": false,
     "start_time": "2024-02-22T18:06:46.491838",
     "status": "completed"
    },
    "tags": []
   },
   "outputs": [],
   "source": [
    "# Split the data into training and validation sets\n",
    "X_train, X_val, y_train, y_val = train_test_split(X, y, test_size=0.05, random_state=1)"
   ]
  },
  {
   "cell_type": "markdown",
   "id": "2bdba50a",
   "metadata": {
    "papermill": {
     "duration": 0.006737,
     "end_time": "2024-02-22T18:06:46.576786",
     "exception": false,
     "start_time": "2024-02-22T18:06:46.570049",
     "status": "completed"
    },
    "tags": []
   },
   "source": [
    "# **Creating the Many to One Model**"
   ]
  },
  {
   "cell_type": "code",
   "execution_count": 10,
   "id": "35b3a811",
   "metadata": {
    "execution": {
     "iopub.execute_input": "2024-02-22T18:06:46.592744Z",
     "iopub.status.busy": "2024-02-22T18:06:46.592308Z",
     "iopub.status.idle": "2024-02-22T18:06:47.654864Z",
     "shell.execute_reply": "2024-02-22T18:06:47.653531Z"
    },
    "papermill": {
     "duration": 1.085984,
     "end_time": "2024-02-22T18:06:47.669728",
     "exception": false,
     "start_time": "2024-02-22T18:06:46.583744",
     "status": "completed"
    },
    "tags": []
   },
   "outputs": [
    {
     "name": "stdout",
     "output_type": "stream",
     "text": [
      "Model: \"sequential\"\n",
      "_________________________________________________________________\n",
      " Layer (type)                Output Shape              Param #   \n",
      "=================================================================\n",
      " lstm (LSTM)                 (None, 40, 128)           66560     \n",
      "                                                                 \n",
      " dropout (Dropout)           (None, 40, 128)           0         \n",
      "                                                                 \n",
      " lstm_1 (LSTM)               (None, 40, 128)           131584    \n",
      "                                                                 \n",
      " dropout_1 (Dropout)         (None, 40, 128)           0         \n",
      "                                                                 \n",
      " lstm_2 (LSTM)               (None, 128)               131584    \n",
      "                                                                 \n",
      " dropout_2 (Dropout)         (None, 128)               0         \n",
      "                                                                 \n",
      " dense (Dense)               (None, 38)                4902      \n",
      "                                                                 \n",
      "=================================================================\n",
      "Total params: 334630 (1.28 MB)\n",
      "Trainable params: 334630 (1.28 MB)\n",
      "Non-trainable params: 0 (0.00 Byte)\n",
      "_________________________________________________________________\n"
     ]
    }
   ],
   "source": [
    "# Create the model\n",
    "model = Sequential()\n",
    "model.add(LSTM(num_neurons, return_sequences=True, input_shape=(X_train.shape[1], X_train.shape[2])))\n",
    "model.add(Dropout(0.2))\n",
    "model.add(LSTM(num_neurons, return_sequences=True))\n",
    "model.add(Dropout(0.2))\n",
    "model.add(LSTM(num_neurons, return_sequences=False))\n",
    "model.add(Dropout(0.2))\n",
    "model.add(Dense(len(unique_characters), activation='softmax'))\n",
    "\n",
    "# Set initial weights\n",
    "initial_weights = 0.05\n",
    "for layer in model.layers:\n",
    "    for weight in layer.get_weights():\n",
    "        weight[:] = initial_weights\n",
    "\n",
    "# Compile the model with RMSProp\n",
    "optimizer = RMSprop(learning_rate=0.01)\n",
    "model.compile(optimizer=optimizer, loss='sparse_categorical_crossentropy', metrics=['accuracy'])\n",
    "\n",
    "# Display the model summary\n",
    "model.summary()"
   ]
  },
  {
   "cell_type": "code",
   "execution_count": 11,
   "id": "0b497e5d",
   "metadata": {
    "execution": {
     "iopub.execute_input": "2024-02-22T18:06:47.692794Z",
     "iopub.status.busy": "2024-02-22T18:06:47.692375Z",
     "iopub.status.idle": "2024-02-23T05:19:02.323132Z",
     "shell.execute_reply": "2024-02-23T05:19:02.321301Z"
    },
    "papermill": {
     "duration": 40334.645971,
     "end_time": "2024-02-23T05:19:02.326607",
     "exception": false,
     "start_time": "2024-02-22T18:06:47.680636",
     "status": "completed"
    },
    "tags": []
   },
   "outputs": [
    {
     "name": "stdout",
     "output_type": "stream",
     "text": [
      "Epoch 1/75\n",
      "1868/1868 [==============================] - 474s 251ms/step - loss: 2.8066 - accuracy: 0.1693 - val_loss: 2.6533 - val_accuracy: 0.2022\n",
      "Epoch 2/75\n",
      "1868/1868 [==============================] - 469s 251ms/step - loss: 2.6138 - accuracy: 0.2179 - val_loss: 2.3934 - val_accuracy: 0.2720\n",
      "Epoch 3/75\n",
      "1868/1868 [==============================] - 470s 252ms/step - loss: 2.2998 - accuracy: 0.3022 - val_loss: 2.0585 - val_accuracy: 0.3680\n",
      "Epoch 4/75\n",
      "1868/1868 [==============================] - 467s 250ms/step - loss: 2.1157 - accuracy: 0.3574 - val_loss: 1.9609 - val_accuracy: 0.3987\n",
      "Epoch 5/75\n",
      "1868/1868 [==============================] - 469s 251ms/step - loss: 2.0072 - accuracy: 0.3889 - val_loss: 1.8486 - val_accuracy: 0.4416\n",
      "Epoch 6/75\n",
      "1868/1868 [==============================] - 469s 251ms/step - loss: 1.9376 - accuracy: 0.4114 - val_loss: 1.7602 - val_accuracy: 0.4549\n",
      "Epoch 7/75\n",
      "1868/1868 [==============================] - 471s 252ms/step - loss: 1.8856 - accuracy: 0.4255 - val_loss: 1.7333 - val_accuracy: 0.4694\n",
      "Epoch 8/75\n",
      "1868/1868 [==============================] - 476s 255ms/step - loss: 1.8493 - accuracy: 0.4363 - val_loss: 1.7034 - val_accuracy: 0.4753\n",
      "Epoch 9/75\n",
      "1868/1868 [==============================] - 475s 254ms/step - loss: 1.8175 - accuracy: 0.4453 - val_loss: 1.6846 - val_accuracy: 0.4824\n",
      "Epoch 10/75\n",
      "1868/1868 [==============================] - 477s 255ms/step - loss: 1.7911 - accuracy: 0.4528 - val_loss: 1.6628 - val_accuracy: 0.4841\n",
      "Epoch 11/75\n",
      "1868/1868 [==============================] - 471s 252ms/step - loss: 1.7736 - accuracy: 0.4586 - val_loss: 1.6432 - val_accuracy: 0.4936\n",
      "Epoch 12/75\n",
      "1868/1868 [==============================] - 473s 253ms/step - loss: 1.7570 - accuracy: 0.4633 - val_loss: 1.6402 - val_accuracy: 0.4952\n",
      "Epoch 13/75\n",
      "1868/1868 [==============================] - 474s 254ms/step - loss: 1.7400 - accuracy: 0.4675 - val_loss: 1.6470 - val_accuracy: 0.4976\n",
      "Epoch 14/75\n",
      "1868/1868 [==============================] - 476s 255ms/step - loss: 1.7278 - accuracy: 0.4718 - val_loss: 1.6023 - val_accuracy: 0.5029\n",
      "Epoch 15/75\n",
      "1868/1868 [==============================] - 477s 255ms/step - loss: 1.7168 - accuracy: 0.4755 - val_loss: 1.6157 - val_accuracy: 0.5004\n",
      "Epoch 16/75\n",
      "1868/1868 [==============================] - 481s 258ms/step - loss: 1.7041 - accuracy: 0.4789 - val_loss: 1.5982 - val_accuracy: 0.5036\n",
      "Epoch 17/75\n",
      "1868/1868 [==============================] - 482s 258ms/step - loss: 1.6962 - accuracy: 0.4801 - val_loss: 1.5528 - val_accuracy: 0.5224\n",
      "Epoch 18/75\n",
      "1868/1868 [==============================] - 481s 258ms/step - loss: 1.6855 - accuracy: 0.4833 - val_loss: 1.5438 - val_accuracy: 0.5191\n",
      "Epoch 19/75\n",
      "1868/1868 [==============================] - 483s 259ms/step - loss: 1.6787 - accuracy: 0.4858 - val_loss: 1.5453 - val_accuracy: 0.5246\n",
      "Epoch 20/75\n",
      "1868/1868 [==============================] - 481s 257ms/step - loss: 1.6731 - accuracy: 0.4870 - val_loss: 1.5330 - val_accuracy: 0.5233\n",
      "Epoch 21/75\n",
      "1868/1868 [==============================] - 480s 257ms/step - loss: 1.6630 - accuracy: 0.4906 - val_loss: 1.5426 - val_accuracy: 0.5198\n",
      "Epoch 22/75\n",
      "1868/1868 [==============================] - 482s 258ms/step - loss: 1.6596 - accuracy: 0.4906 - val_loss: 1.5535 - val_accuracy: 0.5133\n",
      "Epoch 23/75\n",
      "1868/1868 [==============================] - 485s 260ms/step - loss: 1.6514 - accuracy: 0.4944 - val_loss: 1.5241 - val_accuracy: 0.5299\n",
      "Epoch 24/75\n",
      "1868/1868 [==============================] - 486s 260ms/step - loss: 1.6518 - accuracy: 0.4936 - val_loss: 1.5111 - val_accuracy: 0.5326\n",
      "Epoch 25/75\n",
      "1868/1868 [==============================] - 480s 257ms/step - loss: 1.6438 - accuracy: 0.4968 - val_loss: 1.5071 - val_accuracy: 0.5295\n",
      "Epoch 26/75\n",
      "1868/1868 [==============================] - 477s 255ms/step - loss: 1.6384 - accuracy: 0.4974 - val_loss: 1.5154 - val_accuracy: 0.5315\n",
      "Epoch 27/75\n",
      "1868/1868 [==============================] - 586s 314ms/step - loss: 1.6377 - accuracy: 0.4981 - val_loss: 1.5015 - val_accuracy: 0.5331\n",
      "Epoch 28/75\n",
      "1868/1868 [==============================] - 580s 311ms/step - loss: 1.6355 - accuracy: 0.4991 - val_loss: 1.5304 - val_accuracy: 0.5230\n",
      "Epoch 29/75\n",
      "1868/1868 [==============================] - 567s 303ms/step - loss: 1.6298 - accuracy: 0.5011 - val_loss: 1.5223 - val_accuracy: 0.5247\n",
      "Epoch 30/75\n",
      "1868/1868 [==============================] - 570s 305ms/step - loss: 1.6291 - accuracy: 0.5012 - val_loss: 1.5087 - val_accuracy: 0.5290\n",
      "Epoch 31/75\n",
      "1868/1868 [==============================] - 565s 302ms/step - loss: 1.6242 - accuracy: 0.5035 - val_loss: 1.4856 - val_accuracy: 0.5388\n",
      "Epoch 32/75\n",
      "1868/1868 [==============================] - 570s 305ms/step - loss: 1.6230 - accuracy: 0.5025 - val_loss: 1.4909 - val_accuracy: 0.5373\n",
      "Epoch 33/75\n",
      "1868/1868 [==============================] - 563s 301ms/step - loss: 1.6195 - accuracy: 0.5041 - val_loss: 1.4860 - val_accuracy: 0.5368\n",
      "Epoch 34/75\n",
      "1868/1868 [==============================] - 563s 301ms/step - loss: 1.6172 - accuracy: 0.5052 - val_loss: 1.4978 - val_accuracy: 0.5329\n",
      "Epoch 35/75\n",
      "1868/1868 [==============================] - 565s 303ms/step - loss: 1.6159 - accuracy: 0.5046 - val_loss: 1.5110 - val_accuracy: 0.5295\n",
      "Epoch 36/75\n",
      "1868/1868 [==============================] - 567s 304ms/step - loss: 1.6140 - accuracy: 0.5050 - val_loss: 1.5307 - val_accuracy: 0.5186\n",
      "Epoch 37/75\n",
      "1868/1868 [==============================] - 559s 299ms/step - loss: 1.6101 - accuracy: 0.5063 - val_loss: 1.4783 - val_accuracy: 0.5400\n",
      "Epoch 38/75\n",
      "1868/1868 [==============================] - 559s 299ms/step - loss: 1.6083 - accuracy: 0.5066 - val_loss: 1.4741 - val_accuracy: 0.5411\n",
      "Epoch 39/75\n",
      "1868/1868 [==============================] - 556s 298ms/step - loss: 1.6069 - accuracy: 0.5092 - val_loss: 1.5122 - val_accuracy: 0.5275\n",
      "Epoch 40/75\n",
      "1868/1868 [==============================] - 560s 300ms/step - loss: 1.6073 - accuracy: 0.5077 - val_loss: 1.4788 - val_accuracy: 0.5399\n",
      "Epoch 41/75\n",
      "1868/1868 [==============================] - 558s 299ms/step - loss: 1.6060 - accuracy: 0.5088 - val_loss: 1.4913 - val_accuracy: 0.5348\n",
      "Epoch 42/75\n",
      "1868/1868 [==============================] - 560s 300ms/step - loss: 1.6059 - accuracy: 0.5081 - val_loss: 1.4748 - val_accuracy: 0.5428\n",
      "Epoch 43/75\n",
      "1868/1868 [==============================] - 563s 301ms/step - loss: 1.6069 - accuracy: 0.5082 - val_loss: 1.4795 - val_accuracy: 0.5372\n",
      "Epoch 44/75\n",
      "1868/1868 [==============================] - 567s 303ms/step - loss: 1.6044 - accuracy: 0.5094 - val_loss: 1.4878 - val_accuracy: 0.5333\n",
      "Epoch 45/75\n",
      "1868/1868 [==============================] - 580s 311ms/step - loss: 1.6005 - accuracy: 0.5101 - val_loss: 1.4725 - val_accuracy: 0.5384\n",
      "Epoch 46/75\n",
      "1868/1868 [==============================] - 560s 300ms/step - loss: 1.6021 - accuracy: 0.5108 - val_loss: 1.5031 - val_accuracy: 0.5304\n",
      "Epoch 47/75\n",
      "1868/1868 [==============================] - 555s 297ms/step - loss: 1.6022 - accuracy: 0.5106 - val_loss: 1.4672 - val_accuracy: 0.5445\n",
      "Epoch 48/75\n",
      "1868/1868 [==============================] - 557s 298ms/step - loss: 1.5995 - accuracy: 0.5110 - val_loss: 1.4765 - val_accuracy: 0.5357\n",
      "Epoch 49/75\n",
      "1868/1868 [==============================] - 577s 309ms/step - loss: 1.6025 - accuracy: 0.5096 - val_loss: 1.4688 - val_accuracy: 0.5441\n",
      "Epoch 50/75\n",
      "1868/1868 [==============================] - 570s 305ms/step - loss: 1.6020 - accuracy: 0.5102 - val_loss: 1.4662 - val_accuracy: 0.5424\n",
      "Epoch 51/75\n",
      "1868/1868 [==============================] - 565s 302ms/step - loss: 1.6034 - accuracy: 0.5108 - val_loss: 1.5642 - val_accuracy: 0.5118\n",
      "Epoch 52/75\n",
      "1868/1868 [==============================] - 572s 306ms/step - loss: 1.5989 - accuracy: 0.5122 - val_loss: 1.4691 - val_accuracy: 0.5425\n",
      "Epoch 53/75\n",
      "1868/1868 [==============================] - 568s 304ms/step - loss: 1.5982 - accuracy: 0.5123 - val_loss: 1.4700 - val_accuracy: 0.5438\n",
      "Epoch 54/75\n",
      "1868/1868 [==============================] - 570s 305ms/step - loss: 1.5999 - accuracy: 0.5118 - val_loss: 1.4572 - val_accuracy: 0.5454\n",
      "Epoch 55/75\n",
      "1868/1868 [==============================] - 575s 308ms/step - loss: 1.6004 - accuracy: 0.5126 - val_loss: 1.4818 - val_accuracy: 0.5377\n",
      "Epoch 56/75\n",
      "1868/1868 [==============================] - 572s 306ms/step - loss: 1.5995 - accuracy: 0.5118 - val_loss: 1.4806 - val_accuracy: 0.5403\n",
      "Epoch 57/75\n",
      "1868/1868 [==============================] - 564s 302ms/step - loss: 1.5972 - accuracy: 0.5126 - val_loss: 1.4855 - val_accuracy: 0.5420\n",
      "Epoch 58/75\n",
      "1868/1868 [==============================] - 596s 319ms/step - loss: 1.5977 - accuracy: 0.5130 - val_loss: 1.4697 - val_accuracy: 0.5465\n",
      "Epoch 59/75\n",
      "1868/1868 [==============================] - 584s 313ms/step - loss: 1.5971 - accuracy: 0.5135 - val_loss: 1.5021 - val_accuracy: 0.5321\n",
      "Epoch 60/75\n",
      "1868/1868 [==============================] - 597s 320ms/step - loss: 1.5974 - accuracy: 0.5128 - val_loss: 1.5005 - val_accuracy: 0.5310\n",
      "Epoch 61/75\n",
      "1868/1868 [==============================] - 583s 312ms/step - loss: 1.5961 - accuracy: 0.5135 - val_loss: 1.4702 - val_accuracy: 0.5440\n",
      "Epoch 62/75\n",
      "1868/1868 [==============================] - 575s 308ms/step - loss: 1.5950 - accuracy: 0.5144 - val_loss: 1.4547 - val_accuracy: 0.5468\n",
      "Epoch 63/75\n",
      "1868/1868 [==============================] - 562s 301ms/step - loss: 1.5965 - accuracy: 0.5138 - val_loss: 1.4580 - val_accuracy: 0.5475\n",
      "Epoch 64/75\n",
      "1868/1868 [==============================] - 576s 308ms/step - loss: 1.5985 - accuracy: 0.5130 - val_loss: 1.4493 - val_accuracy: 0.5505\n",
      "Epoch 65/75\n",
      "1868/1868 [==============================] - 555s 297ms/step - loss: 1.5969 - accuracy: 0.5132 - val_loss: 1.4577 - val_accuracy: 0.5415\n",
      "Epoch 66/75\n",
      "1868/1868 [==============================] - 563s 301ms/step - loss: 1.5979 - accuracy: 0.5138 - val_loss: 1.4610 - val_accuracy: 0.5443\n",
      "Epoch 67/75\n",
      "1868/1868 [==============================] - 577s 309ms/step - loss: 1.5954 - accuracy: 0.5145 - val_loss: 1.4561 - val_accuracy: 0.5455\n",
      "Epoch 68/75\n",
      "1868/1868 [==============================] - 570s 305ms/step - loss: 1.5963 - accuracy: 0.5144 - val_loss: 1.4763 - val_accuracy: 0.5419\n",
      "Epoch 69/75\n",
      "1868/1868 [==============================] - 585s 313ms/step - loss: 1.5983 - accuracy: 0.5138 - val_loss: 1.4532 - val_accuracy: 0.5472\n",
      "Epoch 70/75\n",
      "1868/1868 [==============================] - 585s 313ms/step - loss: 1.5994 - accuracy: 0.5147 - val_loss: 1.5120 - val_accuracy: 0.5394\n",
      "Epoch 71/75\n",
      "1868/1868 [==============================] - 584s 312ms/step - loss: 1.6053 - accuracy: 0.5124 - val_loss: 1.4644 - val_accuracy: 0.5455\n",
      "Epoch 72/75\n",
      "1868/1868 [==============================] - 578s 309ms/step - loss: 1.5983 - accuracy: 0.5129 - val_loss: 1.4529 - val_accuracy: 0.5464\n",
      "Epoch 73/75\n",
      "1868/1868 [==============================] - 562s 301ms/step - loss: 1.5996 - accuracy: 0.5136 - val_loss: 1.4751 - val_accuracy: 0.5429\n",
      "Epoch 74/75\n",
      "1868/1868 [==============================] - 575s 308ms/step - loss: 1.5981 - accuracy: 0.5143 - val_loss: 1.4840 - val_accuracy: 0.5387\n",
      "Epoch 75/75\n",
      "1868/1868 [==============================] - 576s 308ms/step - loss: 1.5990 - accuracy: 0.5140 - val_loss: 1.4574 - val_accuracy: 0.5451\n"
     ]
    }
   ],
   "source": [
    "# Train the model\n",
    "history = model.fit(X_train, y_train, epochs=75, batch_size=128, validation_data=(X_val, y_val))"
   ]
  },
  {
   "cell_type": "markdown",
   "id": "7ce784f7",
   "metadata": {
    "papermill": {
     "duration": 15.293267,
     "end_time": "2024-02-23T05:19:32.739320",
     "exception": false,
     "start_time": "2024-02-23T05:19:17.446053",
     "status": "completed"
    },
    "tags": []
   },
   "source": [
    "# **Displaying the Plots**"
   ]
  },
  {
   "cell_type": "code",
   "execution_count": 12,
   "id": "8117d07e",
   "metadata": {
    "execution": {
     "iopub.execute_input": "2024-02-23T05:20:03.109260Z",
     "iopub.status.busy": "2024-02-23T05:20:03.108792Z",
     "iopub.status.idle": "2024-02-23T05:20:03.460917Z",
     "shell.execute_reply": "2024-02-23T05:20:03.459152Z"
    },
    "papermill": {
     "duration": 15.740182,
     "end_time": "2024-02-23T05:20:03.463910",
     "exception": false,
     "start_time": "2024-02-23T05:19:47.723728",
     "status": "completed"
    },
    "tags": []
   },
   "outputs": [
    {
     "data": {
      "image/png": "[encoded data removed]",
      "text/plain": [
       "<Figure size 640x480 with 1 Axes>"
      ]
     },
     "metadata": {},
     "output_type": "display_data"
    }
   ],
   "source": [
    "import matplotlib.pyplot as plt\n",
    "\n",
    "# Plot training and validation accuracy to epoch\n",
    "plt.plot(history.history['accuracy'], label='Training Accuracy')\n",
    "plt.plot(history.history['val_accuracy'], label='Validation Accuracy')\n",
    "plt.xlabel('Epoch')\n",
    "plt.ylabel('Accuracy')\n",
    "plt.legend()\n",
    "plt.show()"
   ]
  },
  {
   "cell_type": "code",
   "execution_count": 13,
   "id": "8cc8020e",
   "metadata": {
    "execution": {
     "iopub.execute_input": "2024-02-23T05:20:33.958821Z",
     "iopub.status.busy": "2024-02-23T05:20:33.958330Z",
     "iopub.status.idle": "2024-02-23T05:20:34.298466Z",
     "shell.execute_reply": "2024-02-23T05:20:34.296943Z"
    },
    "papermill": {
     "duration": 15.721424,
     "end_time": "2024-02-23T05:20:34.301662",
     "exception": false,
     "start_time": "2024-02-23T05:20:18.580238",
     "status": "completed"
    },
    "tags": []
   },
   "outputs": [
    {
     "data": {
      "text/plain": [
       "<matplotlib.legend.Legend at 0x7aea9816f8b0>"
      ]
     },
     "execution_count": 13,
     "metadata": {},
     "output_type": "execute_result"
    },
    {
     "data": {
      "image/png": "[encoded data removed]",
      "text/plain": [
       "<Figure size 640x480 with 1 Axes>"
      ]
     },
     "metadata": {},
     "output_type": "display_data"
    }
   ],
   "source": [
    "# Plot loss to epoch\n",
    "plt.plot(history.history['loss'], label='Training Loss')\n",
    "plt.plot(history.history['val_loss'], label='Validation Loss')\n",
    "plt.xlabel('Epoch')\n",
    "plt.ylabel('Loss')\n",
    "plt.legend()"
   ]
  },
  {
   "cell_type": "markdown",
   "id": "11ce90d2",
   "metadata": {
    "papermill": {
     "duration": 15.388297,
     "end_time": "2024-02-23T05:21:04.760965",
     "exception": false,
     "start_time": "2024-02-23T05:20:49.372668",
     "status": "completed"
    },
    "tags": []
   },
   "source": [
    "# **Predicting Characters**"
   ]
  },
  {
   "cell_type": "code",
   "execution_count": 14,
   "id": "e66e2ff0",
   "metadata": {
    "execution": {
     "iopub.execute_input": "2024-02-23T05:21:35.320190Z",
     "iopub.status.busy": "2024-02-23T05:21:35.319353Z",
     "iopub.status.idle": "2024-02-23T05:21:42.251763Z",
     "shell.execute_reply": "2024-02-23T05:21:42.250193Z"
    },
    "papermill": {
     "duration": 22.067278,
     "end_time": "2024-02-23T05:21:42.254513",
     "exception": false,
     "start_time": "2024-02-23T05:21:20.187235",
     "status": "completed"
    },
    "tags": []
   },
   "outputs": [
    {
     "name": "stdout",
     "output_type": "stream",
     "text": [
      "Original Sequence: lish claim actions always ambiguous alwa\n",
      "Predicted Sequence: ys sense sense sense sense sense sense sense sense\n"
     ]
    }
   ],
   "source": [
    "# Number of characters being predicted\n",
    "num_predictions = 50\n",
    "\n",
    "# Select a random starting point\n",
    "start_index = np.random.randint(0, len(text) - sequence_length - num_predictions)\n",
    "\n",
    "# Extract a 40-character sequence\n",
    "input_sequence = text[start_index : start_index + sequence_length]\n",
    "\n",
    "# Prepare input for prediction\n",
    "input_sequence_indices = [char_to_index[char] for char in input_sequence]\n",
    "input_sequence_array = np.reshape(input_sequence_indices, (1, sequence_length, 1))\n",
    "\n",
    "# Normalize the data to values between 0 and 1\n",
    "input_sequence_array = input_sequence_array / float(len(unique_characters))\n",
    "\n",
    "# Generate predictions\n",
    "predicted_sequence_indices = []\n",
    "for _ in range(num_predictions):\n",
    "    predictions = model.predict(input_sequence_array, verbose=0)[0]\n",
    "    predicted_index = np.argmax(predictions)\n",
    "    predicted_char = index_to_char[predicted_index]\n",
    "    \n",
    "    # Append the predicted character to the sequence\n",
    "    predicted_sequence_indices.append(predicted_index)\n",
    "    input_sequence_indices.append(predicted_index)\n",
    "    input_sequence_indices = input_sequence_indices[1:]\n",
    "    \n",
    "    # Prepare the input for the next prediction\n",
    "    input_sequence_array = np.reshape(input_sequence_indices, (1, sequence_length, 1))\n",
    "    \n",
    "    # Normalize the data to values between 0 and 1\n",
    "    input_sequence_array = input_sequence_array / float(len(unique_characters))\n",
    "\n",
    "# Convert predicted indices back to characters\n",
    "predicted_sequence = ''.join([index_to_char[index] for index in predicted_sequence_indices])\n",
    "\n",
    "# Print the result\n",
    "print(\"Original Sequence:\", input_sequence)\n",
    "print(\"Predicted Sequence:\", predicted_sequence)"
   ]
  }
 ],
 "metadata": {
  "kaggle": {
   "accelerator": "none",
   "dataSources": [
    {
     "datasetId": 1394768,
     "sourceId": 2344930,
     "sourceType": "datasetVersion"
    }
   ],
   "dockerImageVersionId": 30646,
   "isGpuEnabled": false,
   "isInternetEnabled": true,
   "language": "python",
   "sourceType": "notebook"
  },
  "kernelspec": {
   "display_name": "Python 3",
   "language": "python",
   "name": "python3"
  },
  "language_info": {
   "codemirror_mode": {
    "name": "ipython",
    "version": 3
   },
   "file_extension": ".py",
   "mimetype": "text/x-python",
   "name": "python",
   "nbconvert_exporter": "python",
   "pygments_lexer": "ipython3",
   "version": "3.10.13"
  },
  "papermill": {
   "default_parameters": {},
   "duration": 40536.189859,
   "end_time": "2024-02-23T05:22:00.466687",
   "environment_variables": {},
   "exception": null,
   "input_path": "__notebook__.ipynb",
   "output_path": "__notebook__.ipynb",
   "parameters": {},
   "start_time": "2024-02-22T18:06:24.276828",
   "version": "2.5.0"
  }
 },
 "nbformat": 4,
 "nbformat_minor": 5
}
