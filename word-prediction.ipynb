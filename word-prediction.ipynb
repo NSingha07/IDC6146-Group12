{
 "cells": [
  {
   "cell_type": "code",
   "execution_count": 1,
   "id": "d82faf4c",
   "metadata": {
    "_cell_guid": "b1076dfc-b9ad-4769-8c92-a6c4dae69d19",
    "_uuid": "8f2839f25d086af736a60e9eeb907d3b93b6e0e5",
    "execution": {
     "iopub.execute_input": "2024-02-25T01:41:35.129156Z",
     "iopub.status.busy": "2024-02-25T01:41:35.128204Z",
     "iopub.status.idle": "2024-02-25T01:41:51.395011Z",
     "shell.execute_reply": "2024-02-25T01:41:51.394030Z"
    },
    "papermill": {
     "duration": 16.279055,
     "end_time": "2024-02-25T01:41:51.398622",
     "exception": false,
     "start_time": "2024-02-25T01:41:35.119567",
     "status": "completed"
    },
    "tags": []
   },
   "outputs": [
    {
     "name": "stderr",
     "output_type": "stream",
     "text": [
      "2024-02-25 01:41:37.900812: E external/local_xla/xla/stream_executor/cuda/cuda_dnn.cc:9261] Unable to register cuDNN factory: Attempting to register factory for plugin cuDNN when one has already been registered\n",
      "2024-02-25 01:41:37.900944: E external/local_xla/xla/stream_executor/cuda/cuda_fft.cc:607] Unable to register cuFFT factory: Attempting to register factory for plugin cuFFT when one has already been registered\n",
      "2024-02-25 01:41:38.038702: E external/local_xla/xla/stream_executor/cuda/cuda_blas.cc:1515] Unable to register cuBLAS factory: Attempting to register factory for plugin cuBLAS when one has already been registered\n"
     ]
    }
   ],
   "source": [
    "import numpy as np \n",
    "import pandas as pd \n",
    "import os\n",
    "\n",
    "import tensorflow as tf\n",
    "from tensorflow.keras.optimizers import Adam\n",
    "\n",
    "from keras.models import Sequential\n",
    "from keras.layers import LSTM, Dense, Embedding\n",
    "from keras.optimizers import RMSprop\n",
    "from keras.layers import Dropout\n",
    "from sklearn.model_selection import train_test_split\n",
    "\n",
    "import nltk\n",
    "from nltk.tokenize import word_tokenize"
   ]
  },
  {
   "cell_type": "markdown",
   "id": "701f1e23",
   "metadata": {
    "papermill": {
     "duration": 0.007457,
     "end_time": "2024-02-25T01:41:51.412715",
     "exception": false,
     "start_time": "2024-02-25T01:41:51.405258",
     "status": "completed"
    },
    "tags": []
   },
   "source": [
    "# **Data Preprocessing**"
   ]
  },
  {
   "cell_type": "code",
   "execution_count": 2,
   "id": "29561aa4",
   "metadata": {
    "execution": {
     "iopub.execute_input": "2024-02-25T01:41:51.435375Z",
     "iopub.status.busy": "2024-02-25T01:41:51.434141Z",
     "iopub.status.idle": "2024-02-25T01:41:51.745255Z",
     "shell.execute_reply": "2024-02-25T01:41:51.744043Z"
    },
    "papermill": {
     "duration": 0.324369,
     "end_time": "2024-02-25T01:41:51.747764",
     "exception": false,
     "start_time": "2024-02-25T01:41:51.423395",
     "status": "completed"
    },
    "tags": []
   },
   "outputs": [
    {
     "data": {
      "text/html": [
       "<div>\n",
       "<style scoped>\n",
       "    .dataframe tbody tr th:only-of-type {\n",
       "        vertical-align: middle;\n",
       "    }\n",
       "\n",
       "    .dataframe tbody tr th {\n",
       "        vertical-align: top;\n",
       "    }\n",
       "\n",
       "    .dataframe thead th {\n",
       "        text-align: right;\n",
       "    }\n",
       "</style>\n",
       "<table border=\"1\" class=\"dataframe\">\n",
       "  <thead>\n",
       "    <tr style=\"text-align: right;\">\n",
       "      <th></th>\n",
       "      <th>Unnamed: 0</th>\n",
       "      <th>book_title</th>\n",
       "      <th>publishing_date</th>\n",
       "      <th>text</th>\n",
       "      <th>text_clean</th>\n",
       "    </tr>\n",
       "  </thead>\n",
       "  <tbody>\n",
       "    <tr>\n",
       "      <th>0</th>\n",
       "      <td>0</td>\n",
       "      <td>Beyond Good and Evil</td>\n",
       "      <td>1886</td>\n",
       "      <td>PREFACE\\r\\n    BEYOND GOOD AND EVIL\\r\\n\\r\\n   ...</td>\n",
       "      <td>preface beyond good evil chapter i prejudices ...</td>\n",
       "    </tr>\n",
       "    <tr>\n",
       "      <th>1</th>\n",
       "      <td>1</td>\n",
       "      <td>Thus Spake Zarathustra: A Book for All and None</td>\n",
       "      <td>1885</td>\n",
       "      <td>THUS SPAKE ZARATHUSTRA.\\r\\n\\r\\n     FIRST PART...</td>\n",
       "      <td>thus spake zarathustra first part zarathustras...</td>\n",
       "    </tr>\n",
       "    <tr>\n",
       "      <th>2</th>\n",
       "      <td>2</td>\n",
       "      <td>Thoughts out of Season</td>\n",
       "      <td>1909</td>\n",
       "      <td>PREFACE.\\r\\n\\r\\n\\r\\n1.\\r\\n\\r\\nWe are unknown, ...</td>\n",
       "      <td>preface 1 unknown knowers ourselves good reaso...</td>\n",
       "    </tr>\n",
       "    <tr>\n",
       "      <th>3</th>\n",
       "      <td>3</td>\n",
       "      <td>The Dawn of Day</td>\n",
       "      <td>1881</td>\n",
       "      <td>PREFACE\\r\\n\\r\\n\\r\\n1\\r\\n\\r\\nAs it is my intent...</td>\n",
       "      <td>preface 1 intention within short time confront...</td>\n",
       "    </tr>\n",
       "    <tr>\n",
       "      <th>4</th>\n",
       "      <td>4</td>\n",
       "      <td>Homer and Classical Philology</td>\n",
       "      <td>1868</td>\n",
       "      <td>PREFACE.\\r\\n\\r\\n\\r\\n1.\\r\\n\\r\\nConcerning great...</td>\n",
       "      <td>preface 1 concerning great things one either s...</td>\n",
       "    </tr>\n",
       "  </tbody>\n",
       "</table>\n",
       "</div>"
      ],
      "text/plain": [
       "   Unnamed: 0                                       book_title  \\\n",
       "0           0                             Beyond Good and Evil   \n",
       "1           1  Thus Spake Zarathustra: A Book for All and None   \n",
       "2           2                           Thoughts out of Season   \n",
       "3           3                                  The Dawn of Day   \n",
       "4           4                    Homer and Classical Philology   \n",
       "\n",
       "   publishing_date                                               text  \\\n",
       "0             1886  PREFACE\\r\\n    BEYOND GOOD AND EVIL\\r\\n\\r\\n   ...   \n",
       "1             1885  THUS SPAKE ZARATHUSTRA.\\r\\n\\r\\n     FIRST PART...   \n",
       "2             1909  PREFACE.\\r\\n\\r\\n\\r\\n1.\\r\\n\\r\\nWe are unknown, ...   \n",
       "3             1881  PREFACE\\r\\n\\r\\n\\r\\n1\\r\\n\\r\\nAs it is my intent...   \n",
       "4             1868  PREFACE.\\r\\n\\r\\n\\r\\n1.\\r\\n\\r\\nConcerning great...   \n",
       "\n",
       "                                          text_clean  \n",
       "0  preface beyond good evil chapter i prejudices ...  \n",
       "1  thus spake zarathustra first part zarathustras...  \n",
       "2  preface 1 unknown knowers ourselves good reaso...  \n",
       "3  preface 1 intention within short time confront...  \n",
       "4  preface 1 concerning great things one either s...  "
      ]
     },
     "execution_count": 2,
     "metadata": {},
     "output_type": "execute_result"
    }
   ],
   "source": [
    "df = pd.read_csv('/kaggle/input/Nietzsche_works_corpus.csv')\n",
    "df.head()"
   ]
  },
  {
   "cell_type": "code",
   "execution_count": 3,
   "id": "0e3a113f",
   "metadata": {
    "execution": {
     "iopub.execute_input": "2024-02-25T01:41:51.762792Z",
     "iopub.status.busy": "2024-02-25T01:41:51.762074Z",
     "iopub.status.idle": "2024-02-25T01:41:51.776284Z",
     "shell.execute_reply": "2024-02-25T01:41:51.775110Z"
    },
    "papermill": {
     "duration": 0.024378,
     "end_time": "2024-02-25T01:41:51.778774",
     "exception": false,
     "start_time": "2024-02-25T01:41:51.754396",
     "status": "completed"
    },
    "tags": []
   },
   "outputs": [
    {
     "name": "stdout",
     "output_type": "stream",
     "text": [
      "251619\n"
     ]
    }
   ],
   "source": [
    "text = df[df['book_title']=='Beyond Good and Evil']['text_clean'][0]\n",
    "print(len(text))"
   ]
  },
  {
   "cell_type": "code",
   "execution_count": 4,
   "id": "7a8f01e9",
   "metadata": {
    "execution": {
     "iopub.execute_input": "2024-02-25T01:41:51.793728Z",
     "iopub.status.busy": "2024-02-25T01:41:51.793320Z",
     "iopub.status.idle": "2024-02-25T01:41:52.193703Z",
     "shell.execute_reply": "2024-02-25T01:41:52.192722Z"
    },
    "papermill": {
     "duration": 0.411267,
     "end_time": "2024-02-25T01:41:52.196749",
     "exception": false,
     "start_time": "2024-02-25T01:41:51.785482",
     "status": "completed"
    },
    "tags": []
   },
   "outputs": [],
   "source": [
    "# Tokenize the text into words\n",
    "words = word_tokenize(text)"
   ]
  },
  {
   "cell_type": "code",
   "execution_count": 5,
   "id": "d98b3bcb",
   "metadata": {
    "execution": {
     "iopub.execute_input": "2024-02-25T01:41:52.212613Z",
     "iopub.status.busy": "2024-02-25T01:41:52.211355Z",
     "iopub.status.idle": "2024-02-25T01:41:52.221016Z",
     "shell.execute_reply": "2024-02-25T01:41:52.219851Z"
    },
    "papermill": {
     "duration": 0.020869,
     "end_time": "2024-02-25T01:41:52.224394",
     "exception": false,
     "start_time": "2024-02-25T01:41:52.203525",
     "status": "completed"
    },
    "tags": []
   },
   "outputs": [
    {
     "name": "stdout",
     "output_type": "stream",
     "text": [
      "8020\n"
     ]
    }
   ],
   "source": [
    "# Getting the unique words\n",
    "unique_words = set(words)\n",
    "\n",
    "print(len(unique_words))"
   ]
  },
  {
   "cell_type": "code",
   "execution_count": 6,
   "id": "c80a7b65",
   "metadata": {
    "execution": {
     "iopub.execute_input": "2024-02-25T01:41:52.240491Z",
     "iopub.status.busy": "2024-02-25T01:41:52.239392Z",
     "iopub.status.idle": "2024-02-25T01:41:52.250106Z",
     "shell.execute_reply": "2024-02-25T01:41:52.249366Z"
    },
    "papermill": {
     "duration": 0.020779,
     "end_time": "2024-02-25T01:41:52.252286",
     "exception": false,
     "start_time": "2024-02-25T01:41:52.231507",
     "status": "completed"
    },
    "tags": []
   },
   "outputs": [],
   "source": [
    "# Mapping words to integers\n",
    "word_to_index = {word: i for i, word in enumerate(unique_words)}\n",
    "index_to_word = {i: word for i, word in enumerate(unique_words)}"
   ]
  },
  {
   "cell_type": "code",
   "execution_count": 7,
   "id": "cfc16796",
   "metadata": {
    "execution": {
     "iopub.execute_input": "2024-02-25T01:41:52.267838Z",
     "iopub.status.busy": "2024-02-25T01:41:52.267076Z",
     "iopub.status.idle": "2024-02-25T01:41:52.276843Z",
     "shell.execute_reply": "2024-02-25T01:41:52.275958Z"
    },
    "papermill": {
     "duration": 0.020018,
     "end_time": "2024-02-25T01:41:52.279187",
     "exception": false,
     "start_time": "2024-02-25T01:41:52.259169",
     "status": "completed"
    },
    "tags": []
   },
   "outputs": [],
   "source": [
    "# Convert the text to a sequence of indices\n",
    "words_as_indices = [word_to_index[word] for word in words]"
   ]
  },
  {
   "cell_type": "code",
   "execution_count": 8,
   "id": "c37c56b9",
   "metadata": {
    "execution": {
     "iopub.execute_input": "2024-02-25T01:41:52.294910Z",
     "iopub.status.busy": "2024-02-25T01:41:52.294139Z",
     "iopub.status.idle": "2024-02-25T01:41:52.531166Z",
     "shell.execute_reply": "2024-02-25T01:41:52.530027Z"
    },
    "papermill": {
     "duration": 0.247908,
     "end_time": "2024-02-25T01:41:52.534009",
     "exception": false,
     "start_time": "2024-02-25T01:41:52.286101",
     "status": "completed"
    },
    "tags": []
   },
   "outputs": [],
   "source": [
    "# Setting the parameters\n",
    "sequence_length = 40\n",
    "num_neurons = 128\n",
    "num_distinct_chars = len(unique_words)\n",
    "\n",
    "# Generate input sequences and corresponding labels\n",
    "X = []\n",
    "y = []\n",
    "\n",
    "for i in range(0, len(words_as_indices) - sequence_length, 1):\n",
    "    sequence_in = words_as_indices[i:i + sequence_length]\n",
    "    sequence_out = words_as_indices[i + sequence_length]\n",
    "    X.append(sequence_in)\n",
    "    y.append(sequence_out)\n",
    "\n",
    "# Convert to numpy arrays\n",
    "X = np.array(X)\n",
    "y = np.array(y)"
   ]
  },
  {
   "cell_type": "code",
   "execution_count": 9,
   "id": "e56547ef",
   "metadata": {
    "execution": {
     "iopub.execute_input": "2024-02-25T01:41:52.549280Z",
     "iopub.status.busy": "2024-02-25T01:41:52.548896Z",
     "iopub.status.idle": "2024-02-25T01:41:52.659876Z",
     "shell.execute_reply": "2024-02-25T01:41:52.658564Z"
    },
    "papermill": {
     "duration": 0.121683,
     "end_time": "2024-02-25T01:41:52.662559",
     "exception": false,
     "start_time": "2024-02-25T01:41:52.540876",
     "status": "completed"
    },
    "tags": []
   },
   "outputs": [],
   "source": [
    "y = tf.keras.utils.to_categorical(y, num_classes=len(unique_words))"
   ]
  },
  {
   "cell_type": "code",
   "execution_count": 10,
   "id": "dfed3168",
   "metadata": {
    "execution": {
     "iopub.execute_input": "2024-02-25T01:41:52.678469Z",
     "iopub.status.busy": "2024-02-25T01:41:52.677664Z",
     "iopub.status.idle": "2024-02-25T01:41:53.509925Z",
     "shell.execute_reply": "2024-02-25T01:41:53.508960Z"
    },
    "papermill": {
     "duration": 0.843019,
     "end_time": "2024-02-25T01:41:53.512645",
     "exception": false,
     "start_time": "2024-02-25T01:41:52.669626",
     "status": "completed"
    },
    "tags": []
   },
   "outputs": [],
   "source": [
    "# Split the data into training and validation sets\n",
    "X_train, X_val, y_train, y_val = train_test_split(X, y, test_size=0.1, random_state=1)"
   ]
  },
  {
   "cell_type": "code",
   "execution_count": 11,
   "id": "bf924ec2",
   "metadata": {
    "execution": {
     "iopub.execute_input": "2024-02-25T01:41:53.527472Z",
     "iopub.status.busy": "2024-02-25T01:41:53.527104Z",
     "iopub.status.idle": "2024-02-25T01:41:54.017525Z",
     "shell.execute_reply": "2024-02-25T01:41:54.016362Z"
    },
    "papermill": {
     "duration": 0.506494,
     "end_time": "2024-02-25T01:41:54.025966",
     "exception": false,
     "start_time": "2024-02-25T01:41:53.519472",
     "status": "completed"
    },
    "tags": []
   },
   "outputs": [
    {
     "name": "stdout",
     "output_type": "stream",
     "text": [
      "Model: \"sequential\"\n",
      "_________________________________________________________________\n",
      " Layer (type)                Output Shape              Param #   \n",
      "=================================================================\n",
      " embedding (Embedding)       (None, 40, 100)           802000    \n",
      "                                                                 \n",
      " lstm (LSTM)                 (None, 128)               117248    \n",
      "                                                                 \n",
      " dropout (Dropout)           (None, 128)               0         \n",
      "                                                                 \n",
      " dense (Dense)               (None, 8020)              1034580   \n",
      "                                                                 \n",
      "=================================================================\n",
      "Total params: 1953828 (7.45 MB)\n",
      "Trainable params: 1953828 (7.45 MB)\n",
      "Non-trainable params: 0 (0.00 Byte)\n",
      "_________________________________________________________________\n"
     ]
    }
   ],
   "source": [
    "# Build the LSTM model\n",
    "model = Sequential()\n",
    "model.add(Embedding(len(unique_words), 100, input_length=sequence_length))\n",
    "model.add(LSTM(num_neurons, return_sequences=False))\n",
    "model.add(Dropout(0.2))\n",
    "model.add(Dense(len(unique_words), activation='softmax'))\n",
    "\n",
    "# Set initial weights\n",
    "initial_weights = 0.05\n",
    "for layer in model.layers:\n",
    "    for weight in layer.get_weights():\n",
    "        weight[:] = initial_weights\n",
    "\n",
    "# Compile the model\n",
    "optimizer = Adam(learning_rate=0.001)\n",
    "model.compile(optimizer=optimizer, loss='categorical_crossentropy', metrics=['accuracy'])\n",
    "\n",
    "# Display the model summary\n",
    "model.summary()"
   ]
  },
  {
   "cell_type": "code",
   "execution_count": 12,
   "id": "164fef47",
   "metadata": {
    "execution": {
     "iopub.execute_input": "2024-02-25T01:41:54.045508Z",
     "iopub.status.busy": "2024-02-25T01:41:54.045062Z",
     "iopub.status.idle": "2024-02-25T02:04:48.524477Z",
     "shell.execute_reply": "2024-02-25T02:04:48.523283Z"
    },
    "papermill": {
     "duration": 1374.492417,
     "end_time": "2024-02-25T02:04:48.527170",
     "exception": false,
     "start_time": "2024-02-25T01:41:54.034753",
     "status": "completed"
    },
    "tags": []
   },
   "outputs": [
    {
     "name": "stdout",
     "output_type": "stream",
     "text": [
      "Epoch 1/50\n",
      "241/241 [==============================] - 30s 116ms/step - loss: 8.3357 - accuracy: 0.0123 - val_loss: 8.2035 - val_accuracy: 0.0143\n",
      "Epoch 2/50\n",
      "241/241 [==============================] - 27s 113ms/step - loss: 7.9999 - accuracy: 0.0128 - val_loss: 8.2859 - val_accuracy: 0.0143\n",
      "Epoch 3/50\n",
      "241/241 [==============================] - 27s 113ms/step - loss: 7.9148 - accuracy: 0.0128 - val_loss: 8.3920 - val_accuracy: 0.0143\n",
      "Epoch 4/50\n",
      "241/241 [==============================] - 27s 111ms/step - loss: 7.8381 - accuracy: 0.0130 - val_loss: 8.4586 - val_accuracy: 0.0143\n",
      "Epoch 5/50\n",
      "241/241 [==============================] - 27s 111ms/step - loss: 7.7356 - accuracy: 0.0129 - val_loss: 8.5915 - val_accuracy: 0.0140\n",
      "Epoch 6/50\n",
      "241/241 [==============================] - 27s 112ms/step - loss: 7.6204 - accuracy: 0.0136 - val_loss: 8.6813 - val_accuracy: 0.0143\n",
      "Epoch 7/50\n",
      "241/241 [==============================] - 27s 113ms/step - loss: 7.4929 - accuracy: 0.0145 - val_loss: 8.7948 - val_accuracy: 0.0143\n",
      "Epoch 8/50\n",
      "241/241 [==============================] - 27s 113ms/step - loss: 7.3585 - accuracy: 0.0164 - val_loss: 8.8736 - val_accuracy: 0.0120\n",
      "Epoch 9/50\n",
      "241/241 [==============================] - 27s 112ms/step - loss: 7.2095 - accuracy: 0.0179 - val_loss: 8.9690 - val_accuracy: 0.0161\n",
      "Epoch 10/50\n",
      "241/241 [==============================] - 27s 113ms/step - loss: 7.0706 - accuracy: 0.0201 - val_loss: 9.0499 - val_accuracy: 0.0149\n",
      "Epoch 11/50\n",
      "241/241 [==============================] - 27s 113ms/step - loss: 6.9095 - accuracy: 0.0222 - val_loss: 9.1559 - val_accuracy: 0.0126\n",
      "Epoch 12/50\n",
      "241/241 [==============================] - 28s 114ms/step - loss: 6.7571 - accuracy: 0.0249 - val_loss: 9.2500 - val_accuracy: 0.0114\n",
      "Epoch 13/50\n",
      "241/241 [==============================] - 27s 114ms/step - loss: 6.6013 - accuracy: 0.0296 - val_loss: 9.2958 - val_accuracy: 0.0123\n",
      "Epoch 14/50\n",
      "241/241 [==============================] - 27s 113ms/step - loss: 6.4453 - accuracy: 0.0365 - val_loss: 9.4063 - val_accuracy: 0.0108\n",
      "Epoch 15/50\n",
      "241/241 [==============================] - 27s 113ms/step - loss: 6.2826 - accuracy: 0.0465 - val_loss: 9.4843 - val_accuracy: 0.0126\n",
      "Epoch 16/50\n",
      "241/241 [==============================] - 27s 114ms/step - loss: 6.1250 - accuracy: 0.0578 - val_loss: 9.5585 - val_accuracy: 0.0099\n",
      "Epoch 17/50\n",
      "241/241 [==============================] - 27s 112ms/step - loss: 5.9613 - accuracy: 0.0712 - val_loss: 9.6653 - val_accuracy: 0.0123\n",
      "Epoch 18/50\n",
      "241/241 [==============================] - 27s 113ms/step - loss: 5.7979 - accuracy: 0.0895 - val_loss: 9.7291 - val_accuracy: 0.0108\n",
      "Epoch 19/50\n",
      "241/241 [==============================] - 28s 115ms/step - loss: 5.6299 - accuracy: 0.1108 - val_loss: 9.8208 - val_accuracy: 0.0102\n",
      "Epoch 20/50\n",
      "241/241 [==============================] - 27s 113ms/step - loss: 5.4668 - accuracy: 0.1332 - val_loss: 9.9026 - val_accuracy: 0.0102\n",
      "Epoch 21/50\n",
      "241/241 [==============================] - 27s 113ms/step - loss: 5.3042 - accuracy: 0.1558 - val_loss: 9.9898 - val_accuracy: 0.0120\n",
      "Epoch 22/50\n",
      "241/241 [==============================] - 27s 113ms/step - loss: 5.1332 - accuracy: 0.1785 - val_loss: 10.0671 - val_accuracy: 0.0102\n",
      "Epoch 23/50\n",
      "241/241 [==============================] - 27s 114ms/step - loss: 4.9699 - accuracy: 0.2047 - val_loss: 10.1704 - val_accuracy: 0.0102\n",
      "Epoch 24/50\n",
      "241/241 [==============================] - 27s 113ms/step - loss: 4.8003 - accuracy: 0.2273 - val_loss: 10.2507 - val_accuracy: 0.0099\n",
      "Epoch 25/50\n",
      "241/241 [==============================] - 27s 113ms/step - loss: 4.6341 - accuracy: 0.2559 - val_loss: 10.3382 - val_accuracy: 0.0105\n",
      "Epoch 26/50\n",
      "241/241 [==============================] - 27s 113ms/step - loss: 4.4683 - accuracy: 0.2767 - val_loss: 10.4438 - val_accuracy: 0.0114\n",
      "Epoch 27/50\n",
      "241/241 [==============================] - 28s 114ms/step - loss: 4.3074 - accuracy: 0.3030 - val_loss: 10.5481 - val_accuracy: 0.0114\n",
      "Epoch 28/50\n",
      "241/241 [==============================] - 28s 114ms/step - loss: 4.1561 - accuracy: 0.3210 - val_loss: 10.6334 - val_accuracy: 0.0093\n",
      "Epoch 29/50\n",
      "241/241 [==============================] - 27s 113ms/step - loss: 4.0007 - accuracy: 0.3454 - val_loss: 10.7330 - val_accuracy: 0.0093\n",
      "Epoch 30/50\n",
      "241/241 [==============================] - 27s 113ms/step - loss: 3.8533 - accuracy: 0.3662 - val_loss: 10.8208 - val_accuracy: 0.0088\n",
      "Epoch 31/50\n",
      "241/241 [==============================] - 28s 115ms/step - loss: 3.7113 - accuracy: 0.3876 - val_loss: 10.9018 - val_accuracy: 0.0108\n",
      "Epoch 32/50\n",
      "241/241 [==============================] - 28s 115ms/step - loss: 3.5764 - accuracy: 0.4042 - val_loss: 10.9884 - val_accuracy: 0.0093\n",
      "Epoch 33/50\n",
      "241/241 [==============================] - 28s 115ms/step - loss: 3.4466 - accuracy: 0.4216 - val_loss: 11.1040 - val_accuracy: 0.0090\n",
      "Epoch 34/50\n",
      "241/241 [==============================] - 28s 115ms/step - loss: 3.3130 - accuracy: 0.4418 - val_loss: 11.2074 - val_accuracy: 0.0093\n",
      "Epoch 35/50\n",
      "241/241 [==============================] - 28s 115ms/step - loss: 3.1959 - accuracy: 0.4581 - val_loss: 11.2948 - val_accuracy: 0.0093\n",
      "Epoch 36/50\n",
      "241/241 [==============================] - 28s 115ms/step - loss: 3.0772 - accuracy: 0.4739 - val_loss: 11.4118 - val_accuracy: 0.0088\n",
      "Epoch 37/50\n",
      "241/241 [==============================] - 27s 113ms/step - loss: 2.9687 - accuracy: 0.4883 - val_loss: 11.4985 - val_accuracy: 0.0108\n",
      "Epoch 38/50\n",
      "241/241 [==============================] - 28s 115ms/step - loss: 2.8598 - accuracy: 0.5083 - val_loss: 11.6086 - val_accuracy: 0.0088\n",
      "Epoch 39/50\n",
      "241/241 [==============================] - 28s 116ms/step - loss: 2.7588 - accuracy: 0.5222 - val_loss: 11.7085 - val_accuracy: 0.0093\n",
      "Epoch 40/50\n",
      "241/241 [==============================] - 28s 115ms/step - loss: 2.6615 - accuracy: 0.5332 - val_loss: 11.8193 - val_accuracy: 0.0099\n",
      "Epoch 41/50\n",
      "241/241 [==============================] - 28s 116ms/step - loss: 2.5701 - accuracy: 0.5506 - val_loss: 11.8897 - val_accuracy: 0.0099\n",
      "Epoch 42/50\n",
      "241/241 [==============================] - 27s 113ms/step - loss: 2.4816 - accuracy: 0.5606 - val_loss: 12.0006 - val_accuracy: 0.0114\n",
      "Epoch 43/50\n",
      "241/241 [==============================] - 27s 114ms/step - loss: 2.4025 - accuracy: 0.5727 - val_loss: 12.1192 - val_accuracy: 0.0114\n",
      "Epoch 44/50\n",
      "241/241 [==============================] - 27s 113ms/step - loss: 2.3109 - accuracy: 0.5888 - val_loss: 12.1844 - val_accuracy: 0.0099\n",
      "Epoch 45/50\n",
      "241/241 [==============================] - 27s 113ms/step - loss: 2.2361 - accuracy: 0.6002 - val_loss: 12.2846 - val_accuracy: 0.0117\n",
      "Epoch 46/50\n",
      "241/241 [==============================] - 28s 115ms/step - loss: 2.1554 - accuracy: 0.6148 - val_loss: 12.3598 - val_accuracy: 0.0123\n",
      "Epoch 47/50\n",
      "241/241 [==============================] - 28s 115ms/step - loss: 2.0845 - accuracy: 0.6240 - val_loss: 12.5054 - val_accuracy: 0.0134\n",
      "Epoch 48/50\n",
      "241/241 [==============================] - 28s 115ms/step - loss: 2.0127 - accuracy: 0.6344 - val_loss: 12.5628 - val_accuracy: 0.0114\n",
      "Epoch 49/50\n",
      "241/241 [==============================] - 28s 115ms/step - loss: 1.9552 - accuracy: 0.6438 - val_loss: 12.6579 - val_accuracy: 0.0111\n",
      "Epoch 50/50\n",
      "241/241 [==============================] - 27s 113ms/step - loss: 1.8894 - accuracy: 0.6538 - val_loss: 12.7387 - val_accuracy: 0.0126\n"
     ]
    }
   ],
   "source": [
    "# Train the model\n",
    "history = model.fit(X_train, y_train, epochs=50, batch_size=128, validation_data=(X_val, y_val))"
   ]
  },
  {
   "cell_type": "code",
   "execution_count": 13,
   "id": "0d751bcb",
   "metadata": {
    "execution": {
     "iopub.execute_input": "2024-02-25T02:04:50.889366Z",
     "iopub.status.busy": "2024-02-25T02:04:50.888581Z",
     "iopub.status.idle": "2024-02-25T02:04:51.138452Z",
     "shell.execute_reply": "2024-02-25T02:04:51.137410Z"
    },
    "papermill": {
     "duration": 1.469526,
     "end_time": "2024-02-25T02:04:51.141050",
     "exception": false,
     "start_time": "2024-02-25T02:04:49.671524",
     "status": "completed"
    },
    "tags": []
   },
   "outputs": [
    {
     "data": {
      "image/png": "[encoded data removed]",
      "text/plain": [
       "<Figure size 640x480 with 1 Axes>"
      ]
     },
     "metadata": {},
     "output_type": "display_data"
    }
   ],
   "source": [
    "import matplotlib.pyplot as plt\n",
    "\n",
    "# Plot training and validation accuracy to epoch\n",
    "plt.plot(history.history['accuracy'], label='Training Accuracy')\n",
    "plt.plot(history.history['val_accuracy'], label='Validation Accuracy')\n",
    "plt.xlabel('Epoch')\n",
    "plt.ylabel('Accuracy')\n",
    "plt.legend()\n",
    "plt.show()"
   ]
  },
  {
   "cell_type": "code",
   "execution_count": 14,
   "id": "a635e201",
   "metadata": {
    "execution": {
     "iopub.execute_input": "2024-02-25T02:04:53.532488Z",
     "iopub.status.busy": "2024-02-25T02:04:53.531662Z",
     "iopub.status.idle": "2024-02-25T02:04:53.780361Z",
     "shell.execute_reply": "2024-02-25T02:04:53.779140Z"
    },
    "papermill": {
     "duration": 1.475388,
     "end_time": "2024-02-25T02:04:53.782759",
     "exception": false,
     "start_time": "2024-02-25T02:04:52.307371",
     "status": "completed"
    },
    "tags": []
   },
   "outputs": [
    {
     "data": {
      "text/plain": [
       "<matplotlib.legend.Legend at 0x7f8bac4ac400>"
      ]
     },
     "execution_count": 14,
     "metadata": {},
     "output_type": "execute_result"
    },
    {
     "data": {
      "image/png": "[encoded data removed]",
      "text/plain": [
       "<Figure size 640x480 with 1 Axes>"
      ]
     },
     "metadata": {},
     "output_type": "display_data"
    }
   ],
   "source": [
    "# Plot loss to epoch\n",
    "plt.plot(history.history['loss'], label='Training Loss')\n",
    "plt.plot(history.history['val_loss'], label='Validation Loss')\n",
    "plt.xlabel('Epoch')\n",
    "plt.ylabel('Loss')\n",
    "plt.legend()"
   ]
  },
  {
   "cell_type": "code",
   "execution_count": 15,
   "id": "5841f9f1",
   "metadata": {
    "execution": {
     "iopub.execute_input": "2024-02-25T02:04:56.171519Z",
     "iopub.status.busy": "2024-02-25T02:04:56.170645Z",
     "iopub.status.idle": "2024-02-25T02:04:56.700057Z",
     "shell.execute_reply": "2024-02-25T02:04:56.698850Z"
    },
    "papermill": {
     "duration": 1.761021,
     "end_time": "2024-02-25T02:04:56.702847",
     "exception": false,
     "start_time": "2024-02-25T02:04:54.941826",
     "status": "completed"
    },
    "tags": []
   },
   "outputs": [
    {
     "name": "stdout",
     "output_type": "stream",
     "text": [
      "Input sequence:\n",
      "['nature', 'natural', 'man', 'genuine', 'carnivora', 'like', 'cunning', 'flexibility', 'tiger', 'claws', 'beneath', 'glove', 'naivete', 'egoism', 'untrainableness', 'innate', 'wildness', 'incomprehensibleness', 'extent', 'deviation', 'desires', 'virtues', 'which', 'spite', 'fear', 'excites', 'one', 's', 'sympathy', 'dangerous', 'beautiful', 'cat', 'woman', 'seems', 'afflicted', 'vulnerable', 'necessitous', 'love', 'condemned', 'disillusionment']\n",
      "Predicted word:\n",
      "love\n"
     ]
    }
   ],
   "source": [
    "# Select a random word as a starting point\n",
    "start_index = np.random.randint(0, len(words) - sequence_length)\n",
    "\n",
    "# Extract the sequence of words\n",
    "input_sequence = words[start_index : start_index + sequence_length]\n",
    "\n",
    "input_sequence_indices = np.array([word_to_index[word] for word in input_sequence])\n",
    "input_sequence_indices = np.reshape(input_sequence_indices, (1, input_sequence_indices.shape[0]))\n",
    "\n",
    "predictions = model.predict(input_sequence_indices, verbose=0)[0]\n",
    "predicted_index = np.argmax(predictions)\n",
    "predicted_word = index_to_word[predicted_index]\n",
    "\n",
    "print(\"Input sequence:\")\n",
    "print(input_sequence)\n",
    "print(\"Predicted word:\")\n",
    "print(predicted_word)"
   ]
  },
  {
   "cell_type": "code",
   "execution_count": 16,
   "id": "c8b9c584",
   "metadata": {
    "execution": {
     "iopub.execute_input": "2024-02-25T02:04:59.063359Z",
     "iopub.status.busy": "2024-02-25T02:04:59.062868Z",
     "iopub.status.idle": "2024-02-25T02:05:00.894059Z",
     "shell.execute_reply": "2024-02-25T02:05:00.893090Z"
    },
    "papermill": {
     "duration": 3.050695,
     "end_time": "2024-02-25T02:05:00.896510",
     "exception": false,
     "start_time": "2024-02-25T02:04:57.845815",
     "status": "completed"
    },
    "tags": []
   },
   "outputs": [
    {
     "name": "stdout",
     "output_type": "stream",
     "text": [
      "Original Sequence: ['him', 'make', 'stronger', 'evil', 'profound', 'stronger', 'evil', 'profound', 'asked', 'horror', 'yes', 'said', 'again', 'stronger', 'evil', 'profound', 'also', 'beautiful', 'and', 'thereby', 'tempter', 'god', 'smiled', 'halcyon', 'smile', 'though', 'paid', 'charming', 'compliment', 'one', 'sees', 'shame', 'divinity', 'lacks', 'and', 'general', 'good', 'grounds', 'supposing', 'things']\n",
      "Predicted Sequence: ['gods', 'may', 'laugh', 'always', 'forcibly', 'mind', 'new', 'men', 'wish', 'wish', 'i', 'must', 'think', 'highly', 'say', 'possess', 'one', 's', 'heart', 'swell']\n"
     ]
    }
   ],
   "source": [
    "# Number of words being predicted\n",
    "num_predictions = 20\n",
    "\n",
    "# Select a random word as a starting point\n",
    "start_index = np.random.randint(0, len(words) - sequence_length - num_predictions)\n",
    "\n",
    "# Extract the sequence of words\n",
    "input_sequence = words[start_index : start_index + sequence_length]\n",
    "\n",
    "input_sequence_indices = [word_to_index[word] for word in input_sequence]\n",
    "input_sequence_array = np.array([word_to_index[word] for word in input_sequence])\n",
    "input_sequence_array = np.reshape(input_sequence_array, (1, input_sequence_array.shape[0]))\n",
    "\n",
    "# Generate predictions\n",
    "predicted_words = []\n",
    "for _ in range(num_predictions):\n",
    "    predictions = model.predict(input_sequence_array, verbose=0)[0]\n",
    "    predicted_index = np.argmax(predictions)\n",
    "    \n",
    "    input_sequence_indices.append(predicted_index)\n",
    "    input_sequence_indices = input_sequence_indices[1:]\n",
    "    input_sequence_array = np.array(input_sequence_indices)\n",
    "    input_sequence_array = np.reshape(input_sequence_array, (1, input_sequence_array.shape[0]))\n",
    "    \n",
    "    predicted_word = index_to_word[predicted_index]\n",
    "    predicted_words.append(predicted_word)\n",
    "    \n",
    "\n",
    "# Print the result\n",
    "print(\"Original Sequence:\", input_sequence)\n",
    "print(\"Predicted Sequence:\", predicted_words)"
   ]
  }
 ],
 "metadata": {
  "kaggle": {
   "accelerator": "none",
   "dataSources": [
    {
     "datasetId": 1394768,
     "sourceId": 2344930,
     "sourceType": "datasetVersion"
    }
   ],
   "dockerImageVersionId": 30646,
   "isGpuEnabled": false,
   "isInternetEnabled": true,
   "language": "python",
   "sourceType": "notebook"
  },
  "kernelspec": {
   "display_name": "Python 3",
   "language": "python",
   "name": "python3"
  },
  "language_info": {
   "codemirror_mode": {
    "name": "ipython",
    "version": 3
   },
   "file_extension": ".py",
   "mimetype": "text/x-python",
   "name": "python",
   "nbconvert_exporter": "python",
   "pygments_lexer": "ipython3",
   "version": "3.10.13"
  },
  "papermill": {
   "default_parameters": {},
   "duration": 1412.228301,
   "end_time": "2024-02-25T02:05:04.500032",
   "environment_variables": {},
   "exception": null,
   "input_path": "__notebook__.ipynb",
   "output_path": "__notebook__.ipynb",
   "parameters": {},
   "start_time": "2024-02-25T01:41:32.271731",
   "version": "2.5.0"
  }
 },
 "nbformat": 4,
 "nbformat_minor": 5
}
