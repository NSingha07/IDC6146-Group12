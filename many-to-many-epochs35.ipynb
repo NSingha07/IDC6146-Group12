{
 "cells": [
  {
   "cell_type": "code",
   "execution_count": 1,
   "id": "ed6f3b75",
   "metadata": {
    "_cell_guid": "b1076dfc-b9ad-4769-8c92-a6c4dae69d19",
    "_uuid": "8f2839f25d086af736a60e9eeb907d3b93b6e0e5",
    "execution": {
     "iopub.execute_input": "2024-02-22T18:04:55.364280Z",
     "iopub.status.busy": "2024-02-22T18:04:55.363062Z",
     "iopub.status.idle": "2024-02-22T18:05:12.120375Z",
     "shell.execute_reply": "2024-02-22T18:05:12.119012Z"
    },
    "papermill": {
     "duration": 16.76753,
     "end_time": "2024-02-22T18:05:12.123850",
     "exception": false,
     "start_time": "2024-02-22T18:04:55.356320",
     "status": "completed"
    },
    "tags": []
   },
   "outputs": [
    {
     "name": "stderr",
     "output_type": "stream",
     "text": [
      "2024-02-22 18:04:58.602419: E external/local_xla/xla/stream_executor/cuda/cuda_dnn.cc:9261] Unable to register cuDNN factory: Attempting to register factory for plugin cuDNN when one has already been registered\n",
      "2024-02-22 18:04:58.602568: E external/local_xla/xla/stream_executor/cuda/cuda_fft.cc:607] Unable to register cuFFT factory: Attempting to register factory for plugin cuFFT when one has already been registered\n",
      "2024-02-22 18:04:58.776357: E external/local_xla/xla/stream_executor/cuda/cuda_blas.cc:1515] Unable to register cuBLAS factory: Attempting to register factory for plugin cuBLAS when one has already been registered\n"
     ]
    }
   ],
   "source": [
    "import numpy as np \n",
    "import pandas as pd\n",
    "import os\n",
    "\n",
    "import tensorflow as tf\n",
    "from keras.models import Sequential\n",
    "from keras.layers import LSTM, Dense\n",
    "from keras.optimizers import RMSprop\n",
    "from sklearn.model_selection import train_test_split\n",
    "from keras.layers import Dropout"
   ]
  },
  {
   "cell_type": "markdown",
   "id": "0863a779",
   "metadata": {
    "papermill": {
     "duration": 0.005165,
     "end_time": "2024-02-22T18:05:12.134066",
     "exception": false,
     "start_time": "2024-02-22T18:05:12.128901",
     "status": "completed"
    },
    "tags": []
   },
   "source": [
    "# **Data Preprocessing**"
   ]
  },
  {
   "cell_type": "code",
   "execution_count": 2,
   "id": "9b281123",
   "metadata": {
    "execution": {
     "iopub.execute_input": "2024-02-22T18:05:12.148503Z",
     "iopub.status.busy": "2024-02-22T18:05:12.147677Z",
     "iopub.status.idle": "2024-02-22T18:05:12.169904Z",
     "shell.execute_reply": "2024-02-22T18:05:12.168877Z"
    },
    "papermill": {
     "duration": 0.033278,
     "end_time": "2024-02-22T18:05:12.173360",
     "exception": false,
     "start_time": "2024-02-22T18:05:12.140082",
     "status": "completed"
    },
    "tags": []
   },
   "outputs": [],
   "source": [
    "text = open('/kaggle/input/wonderland.txt', 'r', encoding='utf-8').read()\n",
    "text = text.lower()"
   ]
  },
  {
   "cell_type": "code",
   "execution_count": 3,
   "id": "a173f43b",
   "metadata": {
    "execution": {
     "iopub.execute_input": "2024-02-22T18:05:12.187223Z",
     "iopub.status.busy": "2024-02-22T18:05:12.186769Z",
     "iopub.status.idle": "2024-02-22T18:05:12.195981Z",
     "shell.execute_reply": "2024-02-22T18:05:12.194988Z"
    },
    "papermill": {
     "duration": 0.018097,
     "end_time": "2024-02-22T18:05:12.198516",
     "exception": false,
     "start_time": "2024-02-22T18:05:12.180419",
     "status": "completed"
    },
    "tags": []
   },
   "outputs": [
    {
     "name": "stdout",
     "output_type": "stream",
     "text": [
      "Total Characters :  163817\n",
      "Total Vocab :  61\n"
     ]
    }
   ],
   "source": [
    "# Getting the number of unique characters\n",
    "unique_characters = set(text)\n",
    "\n",
    "# Getting the total number of characters\n",
    "n_chars = len(text)\n",
    "\n",
    "# Getting the total number of unique characters\n",
    "n_vocab = len(unique_characters)\n",
    "\n",
    "print(\"Total Characters : \",n_chars) \n",
    "print(\"Total Vocab : \",n_vocab)"
   ]
  },
  {
   "cell_type": "code",
   "execution_count": 4,
   "id": "cbb74f9c",
   "metadata": {
    "execution": {
     "iopub.execute_input": "2024-02-22T18:05:12.209398Z",
     "iopub.status.busy": "2024-02-22T18:05:12.208699Z",
     "iopub.status.idle": "2024-02-22T18:05:12.219883Z",
     "shell.execute_reply": "2024-02-22T18:05:12.218846Z"
    },
    "papermill": {
     "duration": 0.01915,
     "end_time": "2024-02-22T18:05:12.222208",
     "exception": false,
     "start_time": "2024-02-22T18:05:12.203058",
     "status": "completed"
    },
    "tags": []
   },
   "outputs": [],
   "source": [
    "# Mapping characters to integers\n",
    "char_to_index = {char: i for i, char in enumerate(set(text))}\n",
    "index_to_char = {i: char for i, char in enumerate(set(text))}"
   ]
  },
  {
   "cell_type": "code",
   "execution_count": 5,
   "id": "11641795",
   "metadata": {
    "execution": {
     "iopub.execute_input": "2024-02-22T18:05:12.233298Z",
     "iopub.status.busy": "2024-02-22T18:05:12.232876Z",
     "iopub.status.idle": "2024-02-22T18:05:12.236901Z",
     "shell.execute_reply": "2024-02-22T18:05:12.236132Z"
    },
    "papermill": {
     "duration": 0.012206,
     "end_time": "2024-02-22T18:05:12.239063",
     "exception": false,
     "start_time": "2024-02-22T18:05:12.226857",
     "status": "completed"
    },
    "tags": []
   },
   "outputs": [],
   "source": [
    "# Setting the parameters\n",
    "sequence_length = 40\n",
    "num_neurons = 256\n",
    "num_distinct_chars = len(char_to_index)"
   ]
  },
  {
   "cell_type": "code",
   "execution_count": 6,
   "id": "e992ba32",
   "metadata": {
    "execution": {
     "iopub.execute_input": "2024-02-22T18:05:12.250181Z",
     "iopub.status.busy": "2024-02-22T18:05:12.249715Z",
     "iopub.status.idle": "2024-02-22T18:05:12.268643Z",
     "shell.execute_reply": "2024-02-22T18:05:12.267516Z"
    },
    "papermill": {
     "duration": 0.027359,
     "end_time": "2024-02-22T18:05:12.271208",
     "exception": false,
     "start_time": "2024-02-22T18:05:12.243849",
     "status": "completed"
    },
    "tags": []
   },
   "outputs": [],
   "source": [
    "# Convert the text to a sequence of indices\n",
    "text_as_indices = [char_to_index[char] for char in text]"
   ]
  },
  {
   "cell_type": "code",
   "execution_count": 7,
   "id": "d29a533f",
   "metadata": {
    "execution": {
     "iopub.execute_input": "2024-02-22T18:05:12.282221Z",
     "iopub.status.busy": "2024-02-22T18:05:12.281778Z",
     "iopub.status.idle": "2024-02-22T18:05:15.607290Z",
     "shell.execute_reply": "2024-02-22T18:05:15.605791Z"
    },
    "papermill": {
     "duration": 3.333997,
     "end_time": "2024-02-22T18:05:15.609766",
     "exception": false,
     "start_time": "2024-02-22T18:05:12.275769",
     "status": "completed"
    },
    "tags": []
   },
   "outputs": [
    {
     "name": "stdout",
     "output_type": "stream",
     "text": [
      "(163737, 40, 1)\n",
      "(163737, 40, 61)\n"
     ]
    }
   ],
   "source": [
    "# Generate input sequences and corresponding labels\n",
    "X = []\n",
    "y = []\n",
    "\n",
    "for i in range(0, len(text_as_indices) - (sequence_length*2), 1):\n",
    "    sequence_in = text_as_indices[i:i + sequence_length]\n",
    "    sequence_out = text_as_indices[i + sequence_length:i + (sequence_length*2)]\n",
    "    X.append(sequence_in)\n",
    "    y.append(sequence_out)\n",
    "\n",
    "# Convert to numpy arrays\n",
    "X = np.array(X)\n",
    "y = np.array(y)\n",
    "\n",
    "# Reshape X\n",
    "X = np.reshape(X, (X.shape[0], sequence_length, 1))\n",
    "\n",
    "# One hot encoding\n",
    "y = tf.keras.utils.to_categorical(y)\n",
    "\n",
    "print(X.shape)\n",
    "print(y.shape)"
   ]
  },
  {
   "cell_type": "code",
   "execution_count": 8,
   "id": "3e45e673",
   "metadata": {
    "execution": {
     "iopub.execute_input": "2024-02-22T18:05:15.620571Z",
     "iopub.status.busy": "2024-02-22T18:05:15.620151Z",
     "iopub.status.idle": "2024-02-22T18:05:16.355589Z",
     "shell.execute_reply": "2024-02-22T18:05:16.354365Z"
    },
    "papermill": {
     "duration": 0.744107,
     "end_time": "2024-02-22T18:05:16.358487",
     "exception": false,
     "start_time": "2024-02-22T18:05:15.614380",
     "status": "completed"
    },
    "tags": []
   },
   "outputs": [],
   "source": [
    "# Split the data into training and validation sets\n",
    "X_train, X_val, y_train, y_val = train_test_split(X, y, test_size=0.05, random_state=1)"
   ]
  },
  {
   "cell_type": "markdown",
   "id": "93734022",
   "metadata": {
    "papermill": {
     "duration": 0.005153,
     "end_time": "2024-02-22T18:05:16.374352",
     "exception": false,
     "start_time": "2024-02-22T18:05:16.369199",
     "status": "completed"
    },
    "tags": []
   },
   "source": [
    "# **Creating the model**"
   ]
  },
  {
   "cell_type": "code",
   "execution_count": 9,
   "id": "7744c54e",
   "metadata": {
    "execution": {
     "iopub.execute_input": "2024-02-22T18:05:16.385052Z",
     "iopub.status.busy": "2024-02-22T18:05:16.384631Z",
     "iopub.status.idle": "2024-02-22T18:05:17.815018Z",
     "shell.execute_reply": "2024-02-22T18:05:17.813810Z"
    },
    "papermill": {
     "duration": 1.445187,
     "end_time": "2024-02-22T18:05:17.823988",
     "exception": false,
     "start_time": "2024-02-22T18:05:16.378801",
     "status": "completed"
    },
    "tags": []
   },
   "outputs": [
    {
     "name": "stdout",
     "output_type": "stream",
     "text": [
      "Model: \"sequential\"\n",
      "_________________________________________________________________\n",
      " Layer (type)                Output Shape              Param #   \n",
      "=================================================================\n",
      " lstm (LSTM)                 (None, 40, 256)           264192    \n",
      "                                                                 \n",
      " dropout (Dropout)           (None, 40, 256)           0         \n",
      "                                                                 \n",
      " lstm_1 (LSTM)               (None, 40, 256)           525312    \n",
      "                                                                 \n",
      " dropout_1 (Dropout)         (None, 40, 256)           0         \n",
      "                                                                 \n",
      " lstm_2 (LSTM)               (None, 40, 256)           525312    \n",
      "                                                                 \n",
      " dropout_2 (Dropout)         (None, 40, 256)           0         \n",
      "                                                                 \n",
      " lstm_3 (LSTM)               (None, 40, 256)           525312    \n",
      "                                                                 \n",
      " dropout_3 (Dropout)         (None, 40, 256)           0         \n",
      "                                                                 \n",
      " dense (Dense)               (None, 40, 61)            15677     \n",
      "                                                                 \n",
      "=================================================================\n",
      "Total params: 1855805 (7.08 MB)\n",
      "Trainable params: 1855805 (7.08 MB)\n",
      "Non-trainable params: 0 (0.00 Byte)\n",
      "_________________________________________________________________\n"
     ]
    }
   ],
   "source": [
    "# Create the model\n",
    "model = Sequential()\n",
    "model.add(LSTM(num_neurons, return_sequences=True, input_shape=(X_train.shape[1], X_train.shape[2])))\n",
    "model.add(Dropout(0.2))\n",
    "model.add(LSTM(num_neurons, return_sequences=True))\n",
    "model.add(Dropout(0.2))\n",
    "model.add(LSTM(num_neurons, return_sequences=True))\n",
    "model.add(Dropout(0.2))\n",
    "model.add(LSTM(num_neurons, return_sequences=True))\n",
    "model.add(Dropout(0.2))\n",
    "model.add(Dense(num_distinct_chars, activation='softmax'))\n",
    "\n",
    "# Set initial weights\n",
    "initial_weights = 0.05\n",
    "for layer in model.layers:\n",
    "    for weight in layer.get_weights():\n",
    "        weight[:] = initial_weights\n",
    "\n",
    "# Compile the model\n",
    "model.compile(loss='categorical_crossentropy', optimizer='adam', metrics=['accuracy'])\n",
    "\n",
    "# Display the model summary\n",
    "model.summary()"
   ]
  },
  {
   "cell_type": "code",
   "execution_count": 10,
   "id": "1069563f",
   "metadata": {
    "execution": {
     "iopub.execute_input": "2024-02-22T18:05:17.838497Z",
     "iopub.status.busy": "2024-02-22T18:05:17.838056Z",
     "iopub.status.idle": "2024-02-23T04:35:50.412360Z",
     "shell.execute_reply": "2024-02-23T04:35:50.411371Z"
    },
    "papermill": {
     "duration": 37832.584987,
     "end_time": "2024-02-23T04:35:50.415237",
     "exception": false,
     "start_time": "2024-02-22T18:05:17.830250",
     "status": "completed"
    },
    "tags": []
   },
   "outputs": [
    {
     "name": "stdout",
     "output_type": "stream",
     "text": [
      "Epoch 1/35\n",
      "1216/1216 [==============================] - 1077s 879ms/step - loss: 3.0674 - accuracy: 0.1703 - val_loss: 3.0593 - val_accuracy: 0.1698\n",
      "Epoch 2/35\n",
      "1216/1216 [==============================] - 1073s 882ms/step - loss: 3.0576 - accuracy: 0.1708 - val_loss: 3.0580 - val_accuracy: 0.1698\n",
      "Epoch 3/35\n",
      "1216/1216 [==============================] - 1065s 876ms/step - loss: 3.0544 - accuracy: 0.1708 - val_loss: 3.0546 - val_accuracy: 0.1697\n",
      "Epoch 4/35\n",
      "1216/1216 [==============================] - 1066s 876ms/step - loss: 3.0460 - accuracy: 0.1709 - val_loss: 3.0336 - val_accuracy: 0.1701\n",
      "Epoch 5/35\n",
      "1216/1216 [==============================] - 1068s 878ms/step - loss: 2.9934 - accuracy: 0.1753 - val_loss: 2.9021 - val_accuracy: 0.1894\n",
      "Epoch 6/35\n",
      "1216/1216 [==============================] - 1067s 878ms/step - loss: 2.8588 - accuracy: 0.2002 - val_loss: 2.6782 - val_accuracy: 0.2454\n",
      "Epoch 7/35\n",
      "1216/1216 [==============================] - 1074s 883ms/step - loss: 2.7137 - accuracy: 0.2347 - val_loss: 2.4958 - val_accuracy: 0.2938\n",
      "Epoch 8/35\n",
      "1216/1216 [==============================] - 1072s 881ms/step - loss: 2.5949 - accuracy: 0.2643 - val_loss: 2.3388 - val_accuracy: 0.3367\n",
      "Epoch 9/35\n",
      "1216/1216 [==============================] - 1070s 880ms/step - loss: 2.5009 - accuracy: 0.2882 - val_loss: 2.2294 - val_accuracy: 0.3679\n",
      "Epoch 10/35\n",
      "1216/1216 [==============================] - 1071s 880ms/step - loss: 2.4245 - accuracy: 0.3079 - val_loss: 2.1286 - val_accuracy: 0.3961\n",
      "Epoch 11/35\n",
      "1216/1216 [==============================] - 1068s 878ms/step - loss: 2.3597 - accuracy: 0.3247 - val_loss: 2.0500 - val_accuracy: 0.4168\n",
      "Epoch 12/35\n",
      "1216/1216 [==============================] - 1075s 884ms/step - loss: 2.3051 - accuracy: 0.3389 - val_loss: 1.9706 - val_accuracy: 0.4404\n",
      "Epoch 13/35\n",
      "1216/1216 [==============================] - 1076s 884ms/step - loss: 2.2567 - accuracy: 0.3515 - val_loss: 1.9171 - val_accuracy: 0.4564\n",
      "Epoch 14/35\n",
      "1216/1216 [==============================] - 1072s 881ms/step - loss: 2.2147 - accuracy: 0.3625 - val_loss: 1.8746 - val_accuracy: 0.4678\n",
      "Epoch 15/35\n",
      "1216/1216 [==============================] - 1074s 883ms/step - loss: 2.1776 - accuracy: 0.3723 - val_loss: 1.8265 - val_accuracy: 0.4819\n",
      "Epoch 16/35\n",
      "1216/1216 [==============================] - 1072s 881ms/step - loss: 2.1431 - accuracy: 0.3815 - val_loss: 1.7766 - val_accuracy: 0.4955\n",
      "Epoch 17/35\n",
      "1216/1216 [==============================] - 1074s 883ms/step - loss: 2.1116 - accuracy: 0.3898 - val_loss: 1.7456 - val_accuracy: 0.5056\n",
      "Epoch 18/35\n",
      "1216/1216 [==============================] - 1080s 888ms/step - loss: 2.0845 - accuracy: 0.3969 - val_loss: 1.7106 - val_accuracy: 0.5155\n",
      "Epoch 19/35\n",
      "1216/1216 [==============================] - 1083s 890ms/step - loss: 2.0593 - accuracy: 0.4037 - val_loss: 1.6787 - val_accuracy: 0.5230\n",
      "Epoch 20/35\n",
      "1216/1216 [==============================] - 1084s 892ms/step - loss: 2.0340 - accuracy: 0.4105 - val_loss: 1.6496 - val_accuracy: 0.5330\n",
      "Epoch 21/35\n",
      "1216/1216 [==============================] - 1080s 888ms/step - loss: 2.0124 - accuracy: 0.4163 - val_loss: 1.6268 - val_accuracy: 0.5414\n",
      "Epoch 22/35\n",
      "1216/1216 [==============================] - 1082s 889ms/step - loss: 1.9929 - accuracy: 0.4215 - val_loss: 1.5964 - val_accuracy: 0.5484\n",
      "Epoch 23/35\n",
      "1216/1216 [==============================] - 1084s 892ms/step - loss: 1.9719 - accuracy: 0.4270 - val_loss: 1.5723 - val_accuracy: 0.5548\n",
      "Epoch 24/35\n",
      "1216/1216 [==============================] - 1083s 890ms/step - loss: 1.9549 - accuracy: 0.4318 - val_loss: 1.5620 - val_accuracy: 0.5585\n",
      "Epoch 25/35\n",
      "1216/1216 [==============================] - 1088s 895ms/step - loss: 1.9370 - accuracy: 0.4367 - val_loss: 1.5343 - val_accuracy: 0.5656\n",
      "Epoch 26/35\n",
      "1216/1216 [==============================] - 1097s 902ms/step - loss: 1.9213 - accuracy: 0.4409 - val_loss: 1.5210 - val_accuracy: 0.5715\n",
      "Epoch 27/35\n",
      "1216/1216 [==============================] - 1081s 888ms/step - loss: 1.9057 - accuracy: 0.4451 - val_loss: 1.5065 - val_accuracy: 0.5744\n",
      "Epoch 28/35\n",
      "1216/1216 [==============================] - 1082s 890ms/step - loss: 1.8913 - accuracy: 0.4491 - val_loss: 1.4920 - val_accuracy: 0.5793\n",
      "Epoch 29/35\n",
      "1216/1216 [==============================] - 1090s 897ms/step - loss: 1.8777 - accuracy: 0.4528 - val_loss: 1.4712 - val_accuracy: 0.5854\n",
      "Epoch 30/35\n",
      "1216/1216 [==============================] - 1093s 899ms/step - loss: 1.8635 - accuracy: 0.4568 - val_loss: 1.4621 - val_accuracy: 0.5896\n",
      "Epoch 31/35\n",
      "1216/1216 [==============================] - 1091s 897ms/step - loss: 1.8524 - accuracy: 0.4600 - val_loss: 1.4422 - val_accuracy: 0.5939\n",
      "Epoch 32/35\n",
      "1216/1216 [==============================] - 1095s 901ms/step - loss: 1.8392 - accuracy: 0.4636 - val_loss: 1.4346 - val_accuracy: 0.5974\n",
      "Epoch 33/35\n",
      "1216/1216 [==============================] - 1096s 901ms/step - loss: 1.8283 - accuracy: 0.4668 - val_loss: 1.4272 - val_accuracy: 0.6011\n",
      "Epoch 34/35\n",
      "1216/1216 [==============================] - 1100s 905ms/step - loss: 1.8176 - accuracy: 0.4696 - val_loss: 1.4099 - val_accuracy: 0.6042\n",
      "Epoch 35/35\n",
      "1216/1216 [==============================] - 1096s 901ms/step - loss: 1.8070 - accuracy: 0.4725 - val_loss: 1.3990 - val_accuracy: 0.6081\n"
     ]
    }
   ],
   "source": [
    "# Train the model\n",
    "history = model.fit(X_train, y_train, epochs=35, batch_size=128, validation_data=(X_val, y_val))"
   ]
  },
  {
   "cell_type": "code",
   "execution_count": 11,
   "id": "55bb86e8",
   "metadata": {
    "execution": {
     "iopub.execute_input": "2024-02-23T04:35:56.413518Z",
     "iopub.status.busy": "2024-02-23T04:35:56.413078Z",
     "iopub.status.idle": "2024-02-23T04:35:56.673861Z",
     "shell.execute_reply": "2024-02-23T04:35:56.672735Z"
    },
    "papermill": {
     "duration": 3.368414,
     "end_time": "2024-02-23T04:35:56.676436",
     "exception": false,
     "start_time": "2024-02-23T04:35:53.308022",
     "status": "completed"
    },
    "tags": []
   },
   "outputs": [
    {
     "data": {
      "image/png": "[encoded data removed]",
      "text/plain": [
       "<Figure size 640x480 with 1 Axes>"
      ]
     },
     "metadata": {},
     "output_type": "display_data"
    }
   ],
   "source": [
    "import matplotlib.pyplot as plt\n",
    "\n",
    "# Plot training and validation accuracy to epoch\n",
    "plt.plot(history.history['accuracy'], label='Training Accuracy')\n",
    "plt.plot(history.history['val_accuracy'], label='Validation Accuracy')\n",
    "plt.xlabel('Epoch')\n",
    "plt.ylabel('Accuracy')\n",
    "plt.legend()\n",
    "plt.show()"
   ]
  },
  {
   "cell_type": "code",
   "execution_count": 12,
   "id": "c8a66a65",
   "metadata": {
    "execution": {
     "iopub.execute_input": "2024-02-23T04:36:03.034467Z",
     "iopub.status.busy": "2024-02-23T04:36:03.033996Z",
     "iopub.status.idle": "2024-02-23T04:36:03.282082Z",
     "shell.execute_reply": "2024-02-23T04:36:03.280820Z"
    },
    "papermill": {
     "duration": 3.412992,
     "end_time": "2024-02-23T04:36:03.284655",
     "exception": false,
     "start_time": "2024-02-23T04:35:59.871663",
     "status": "completed"
    },
    "tags": []
   },
   "outputs": [
    {
     "data": {
      "text/plain": [
       "<matplotlib.legend.Legend at 0x7e9ba3b0df00>"
      ]
     },
     "execution_count": 12,
     "metadata": {},
     "output_type": "execute_result"
    },
    {
     "data": {
      "image/png": "[encoded data removed]",
      "text/plain": [
       "<Figure size 640x480 with 1 Axes>"
      ]
     },
     "metadata": {},
     "output_type": "display_data"
    }
   ],
   "source": [
    "# Plot loss to epoch\n",
    "plt.plot(history.history['loss'], label='Training Loss')\n",
    "plt.plot(history.history['val_loss'], label='Validation Loss')\n",
    "plt.xlabel('Epoch')\n",
    "plt.ylabel('Loss')\n",
    "plt.legend()"
   ]
  },
  {
   "cell_type": "code",
   "execution_count": 13,
   "id": "91b32583",
   "metadata": {
    "execution": {
     "iopub.execute_input": "2024-02-23T04:36:09.287753Z",
     "iopub.status.busy": "2024-02-23T04:36:09.286927Z",
     "iopub.status.idle": "2024-02-23T04:36:11.038640Z",
     "shell.execute_reply": "2024-02-23T04:36:11.037736Z"
    },
    "papermill": {
     "duration": 4.882107,
     "end_time": "2024-02-23T04:36:11.040947",
     "exception": false,
     "start_time": "2024-02-23T04:36:06.158840",
     "status": "completed"
    },
    "tags": []
   },
   "outputs": [
    {
     "name": "stdout",
     "output_type": "stream",
     "text": [
      "1/1 [==============================] - 2s 2s/step\n",
      "[' ', ' ', ' ', ' ', ' ', ' ', ' ', ' ', 'h', 'a', ' ', 'h', 'e', ' ', 'g', 'e', ' ', 'n', 'e', ' ', 'o', 'n', 'e', ' ', 't', 'e', 'i', 'n', 'g', ' ', 'a', 'n', ' ', 'h', 'e', ',', ' ', 't', 'o', ' ']\n",
      "Input Sequence: en into custody by the soldiers,\n",
      "who of \n",
      "Predicted Characters:         ha he ge ne one teing an he, to \n"
     ]
    }
   ],
   "source": [
    "# Select a random starting point\n",
    "start_index = np.random.randint(0, len(text) - sequence_length)\n",
    "\n",
    "# Extract the character sequence\n",
    "seed_text = text[start_index : start_index + sequence_length]\n",
    "\n",
    "# Preprocess seed string\n",
    "seed_sequence = [char_to_index[char] for char in seed_text]\n",
    "\n",
    "# Reshape the seed_sequence to match the model's input shape\n",
    "input_sequence = np.reshape(seed_sequence, (1, sequence_length, 1))\n",
    "\n",
    "# Predict the next characters\n",
    "predicted_probs = model.predict(input_sequence)[0]\n",
    "\n",
    "# Convert predicted probabilities to actual characters\n",
    "predicted_characters = [index_to_char[np.argmax(prob)] for prob in predicted_probs]\n",
    "\n",
    "print(predicted_characters)\n",
    "\n",
    "# Print the original input sequence\n",
    "print(\"Input Sequence:\", ''.join([char for char in seed_text]))\n",
    "\n",
    "# Print the predicted characters\n",
    "print(\"Predicted Characters:\", ''.join(predicted_characters))"
   ]
  }
 ],
 "metadata": {
  "kaggle": {
   "accelerator": "none",
   "dataSources": [
    {
     "datasetId": 1772,
     "sourceId": 3065,
     "sourceType": "datasetVersion"
    }
   ],
   "dockerImageVersionId": 30646,
   "isGpuEnabled": false,
   "isInternetEnabled": true,
   "language": "python",
   "sourceType": "notebook"
  },
  "kernelspec": {
   "display_name": "Python 3",
   "language": "python",
   "name": "python3"
  },
  "language_info": {
   "codemirror_mode": {
    "name": "ipython",
    "version": 3
   },
   "file_extension": ".py",
   "mimetype": "text/x-python",
   "name": "python",
   "nbconvert_exporter": "python",
   "pygments_lexer": "ipython3",
   "version": "3.10.13"
  },
  "papermill": {
   "default_parameters": {},
   "duration": 37884.567314,
   "end_time": "2024-02-23T04:36:17.022178",
   "environment_variables": {},
   "exception": null,
   "input_path": "__notebook__.ipynb",
   "output_path": "__notebook__.ipynb",
   "parameters": {},
   "start_time": "2024-02-22T18:04:52.454864",
   "version": "2.5.0"
  }
 },
 "nbformat": 4,
 "nbformat_minor": 5
}
