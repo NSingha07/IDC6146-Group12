{
 "cells": [
  {
   "cell_type": "code",
   "execution_count": 1,
   "id": "57e3f2d5",
   "metadata": {
    "_cell_guid": "b1076dfc-b9ad-4769-8c92-a6c4dae69d19",
    "_uuid": "8f2839f25d086af736a60e9eeb907d3b93b6e0e5",
    "execution": {
     "iopub.execute_input": "2024-02-23T05:34:14.124800Z",
     "iopub.status.busy": "2024-02-23T05:34:14.124454Z",
     "iopub.status.idle": "2024-02-23T05:34:29.514130Z",
     "shell.execute_reply": "2024-02-23T05:34:29.512866Z"
    },
    "papermill": {
     "duration": 15.39826,
     "end_time": "2024-02-23T05:34:29.516648",
     "exception": false,
     "start_time": "2024-02-23T05:34:14.118388",
     "status": "completed"
    },
    "tags": []
   },
   "outputs": [
    {
     "name": "stderr",
     "output_type": "stream",
     "text": [
      "2024-02-23 05:34:16.925925: E external/local_xla/xla/stream_executor/cuda/cuda_dnn.cc:9261] Unable to register cuDNN factory: Attempting to register factory for plugin cuDNN when one has already been registered\n",
      "2024-02-23 05:34:16.926061: E external/local_xla/xla/stream_executor/cuda/cuda_fft.cc:607] Unable to register cuFFT factory: Attempting to register factory for plugin cuFFT when one has already been registered\n",
      "2024-02-23 05:34:17.082314: E external/local_xla/xla/stream_executor/cuda/cuda_blas.cc:1515] Unable to register cuBLAS factory: Attempting to register factory for plugin cuBLAS when one has already been registered\n"
     ]
    }
   ],
   "source": [
    "import numpy as np \n",
    "import pandas as pd\n",
    "import os\n",
    "\n",
    "import tensorflow as tf\n",
    "from keras.models import Sequential\n",
    "from keras.layers import LSTM, Dense\n",
    "from keras.optimizers import RMSprop\n",
    "from sklearn.model_selection import train_test_split\n",
    "from keras.layers import Dropout"
   ]
  },
  {
   "cell_type": "markdown",
   "id": "3bd785c6",
   "metadata": {
    "papermill": {
     "duration": 0.003816,
     "end_time": "2024-02-23T05:34:29.524950",
     "exception": false,
     "start_time": "2024-02-23T05:34:29.521134",
     "status": "completed"
    },
    "tags": []
   },
   "source": [
    "# **Data Preprocessing**"
   ]
  },
  {
   "cell_type": "code",
   "execution_count": 2,
   "id": "57caf37a",
   "metadata": {
    "execution": {
     "iopub.execute_input": "2024-02-23T05:34:29.535417Z",
     "iopub.status.busy": "2024-02-23T05:34:29.534192Z",
     "iopub.status.idle": "2024-02-23T05:34:29.550144Z",
     "shell.execute_reply": "2024-02-23T05:34:29.549018Z"
    },
    "papermill": {
     "duration": 0.023645,
     "end_time": "2024-02-23T05:34:29.552598",
     "exception": false,
     "start_time": "2024-02-23T05:34:29.528953",
     "status": "completed"
    },
    "tags": []
   },
   "outputs": [],
   "source": [
    "text = open('/kaggle/input/wonderland.txt', 'r', encoding='utf-8').read()\n",
    "text = text.lower()"
   ]
  },
  {
   "cell_type": "code",
   "execution_count": 3,
   "id": "410f9c2c",
   "metadata": {
    "execution": {
     "iopub.execute_input": "2024-02-23T05:34:29.563264Z",
     "iopub.status.busy": "2024-02-23T05:34:29.562238Z",
     "iopub.status.idle": "2024-02-23T05:34:29.571662Z",
     "shell.execute_reply": "2024-02-23T05:34:29.570546Z"
    },
    "papermill": {
     "duration": 0.016671,
     "end_time": "2024-02-23T05:34:29.573656",
     "exception": false,
     "start_time": "2024-02-23T05:34:29.556985",
     "status": "completed"
    },
    "tags": []
   },
   "outputs": [
    {
     "name": "stdout",
     "output_type": "stream",
     "text": [
      "Total Characters :  163817\n",
      "Total Vocab :  61\n"
     ]
    }
   ],
   "source": [
    "# Getting the number of unique characters\n",
    "unique_characters = set(text)\n",
    "\n",
    "# Getting the total number of characters\n",
    "n_chars = len(text)\n",
    "\n",
    "# Getting the total number of unique characters\n",
    "n_vocab = len(unique_characters)\n",
    "\n",
    "print(\"Total Characters : \",n_chars) \n",
    "print(\"Total Vocab : \",n_vocab)"
   ]
  },
  {
   "cell_type": "code",
   "execution_count": 4,
   "id": "8e4135df",
   "metadata": {
    "execution": {
     "iopub.execute_input": "2024-02-23T05:34:29.583844Z",
     "iopub.status.busy": "2024-02-23T05:34:29.582951Z",
     "iopub.status.idle": "2024-02-23T05:34:29.594094Z",
     "shell.execute_reply": "2024-02-23T05:34:29.593035Z"
    },
    "papermill": {
     "duration": 0.018508,
     "end_time": "2024-02-23T05:34:29.596409",
     "exception": false,
     "start_time": "2024-02-23T05:34:29.577901",
     "status": "completed"
    },
    "tags": []
   },
   "outputs": [],
   "source": [
    "# Mapping characters to integers\n",
    "char_to_index = {char: i for i, char in enumerate(set(text))}\n",
    "index_to_char = {i: char for i, char in enumerate(set(text))}"
   ]
  },
  {
   "cell_type": "code",
   "execution_count": 5,
   "id": "c811583e",
   "metadata": {
    "execution": {
     "iopub.execute_input": "2024-02-23T05:34:29.606382Z",
     "iopub.status.busy": "2024-02-23T05:34:29.605988Z",
     "iopub.status.idle": "2024-02-23T05:34:29.610277Z",
     "shell.execute_reply": "2024-02-23T05:34:29.609300Z"
    },
    "papermill": {
     "duration": 0.011722,
     "end_time": "2024-02-23T05:34:29.612487",
     "exception": false,
     "start_time": "2024-02-23T05:34:29.600765",
     "status": "completed"
    },
    "tags": []
   },
   "outputs": [],
   "source": [
    "# Setting the parameters\n",
    "sequence_length = 80\n",
    "num_neurons = 256\n",
    "num_distinct_chars = len(char_to_index)"
   ]
  },
  {
   "cell_type": "code",
   "execution_count": 6,
   "id": "6c81751f",
   "metadata": {
    "execution": {
     "iopub.execute_input": "2024-02-23T05:34:29.622795Z",
     "iopub.status.busy": "2024-02-23T05:34:29.622110Z",
     "iopub.status.idle": "2024-02-23T05:34:29.642641Z",
     "shell.execute_reply": "2024-02-23T05:34:29.641545Z"
    },
    "papermill": {
     "duration": 0.0285,
     "end_time": "2024-02-23T05:34:29.645215",
     "exception": false,
     "start_time": "2024-02-23T05:34:29.616715",
     "status": "completed"
    },
    "tags": []
   },
   "outputs": [],
   "source": [
    "# Convert the text to a sequence of indices\n",
    "text_as_indices = [char_to_index[char] for char in text]"
   ]
  },
  {
   "cell_type": "code",
   "execution_count": 7,
   "id": "71adeedd",
   "metadata": {
    "execution": {
     "iopub.execute_input": "2024-02-23T05:34:29.655028Z",
     "iopub.status.busy": "2024-02-23T05:34:29.654664Z",
     "iopub.status.idle": "2024-02-23T05:34:35.355862Z",
     "shell.execute_reply": "2024-02-23T05:34:35.354732Z"
    },
    "papermill": {
     "duration": 5.708794,
     "end_time": "2024-02-23T05:34:35.358211",
     "exception": false,
     "start_time": "2024-02-23T05:34:29.649417",
     "status": "completed"
    },
    "tags": []
   },
   "outputs": [
    {
     "name": "stdout",
     "output_type": "stream",
     "text": [
      "(163657, 80, 1)\n",
      "(163657, 80, 61)\n"
     ]
    }
   ],
   "source": [
    "# Generate input sequences and corresponding labels\n",
    "X = []\n",
    "y = []\n",
    "\n",
    "for i in range(0, len(text_as_indices) - (sequence_length*2), 1):\n",
    "    sequence_in = text_as_indices[i:i + sequence_length]\n",
    "    sequence_out = text_as_indices[i + sequence_length:i + (sequence_length*2)]\n",
    "    X.append(sequence_in)\n",
    "    y.append(sequence_out)\n",
    "\n",
    "# Convert to numpy arrays\n",
    "X = np.array(X)\n",
    "y = np.array(y)\n",
    "\n",
    "# Reshape X\n",
    "X = np.reshape(X, (X.shape[0], sequence_length, 1))\n",
    "\n",
    "# One hot encoding\n",
    "y = tf.keras.utils.to_categorical(y)\n",
    "\n",
    "print(X.shape)\n",
    "print(y.shape)"
   ]
  },
  {
   "cell_type": "code",
   "execution_count": 8,
   "id": "f9673063",
   "metadata": {
    "execution": {
     "iopub.execute_input": "2024-02-23T05:34:35.369729Z",
     "iopub.status.busy": "2024-02-23T05:34:35.368581Z",
     "iopub.status.idle": "2024-02-23T05:34:36.732673Z",
     "shell.execute_reply": "2024-02-23T05:34:36.731774Z"
    },
    "papermill": {
     "duration": 1.372335,
     "end_time": "2024-02-23T05:34:36.735054",
     "exception": false,
     "start_time": "2024-02-23T05:34:35.362719",
     "status": "completed"
    },
    "tags": []
   },
   "outputs": [],
   "source": [
    "# Split the data into training and validation sets\n",
    "X_train, X_val, y_train, y_val = train_test_split(X, y, test_size=0.05, random_state=1)"
   ]
  },
  {
   "cell_type": "markdown",
   "id": "47c544af",
   "metadata": {
    "papermill": {
     "duration": 0.004093,
     "end_time": "2024-02-23T05:34:36.744757",
     "exception": false,
     "start_time": "2024-02-23T05:34:36.740664",
     "status": "completed"
    },
    "tags": []
   },
   "source": [
    "# **Creating the model**"
   ]
  },
  {
   "cell_type": "code",
   "execution_count": 9,
   "id": "bab2171d",
   "metadata": {
    "execution": {
     "iopub.execute_input": "2024-02-23T05:34:36.754559Z",
     "iopub.status.busy": "2024-02-23T05:34:36.754225Z",
     "iopub.status.idle": "2024-02-23T05:34:37.508840Z",
     "shell.execute_reply": "2024-02-23T05:34:37.507576Z"
    },
    "papermill": {
     "duration": 0.767047,
     "end_time": "2024-02-23T05:34:37.515930",
     "exception": false,
     "start_time": "2024-02-23T05:34:36.748883",
     "status": "completed"
    },
    "tags": []
   },
   "outputs": [
    {
     "name": "stdout",
     "output_type": "stream",
     "text": [
      "Model: \"sequential\"\n",
      "_________________________________________________________________\n",
      " Layer (type)                Output Shape              Param #   \n",
      "=================================================================\n",
      " lstm (LSTM)                 (None, 80, 256)           264192    \n",
      "                                                                 \n",
      " dropout (Dropout)           (None, 80, 256)           0         \n",
      "                                                                 \n",
      " lstm_1 (LSTM)               (None, 80, 256)           525312    \n",
      "                                                                 \n",
      " dropout_1 (Dropout)         (None, 80, 256)           0         \n",
      "                                                                 \n",
      " dense (Dense)               (None, 80, 61)            15677     \n",
      "                                                                 \n",
      "=================================================================\n",
      "Total params: 805181 (3.07 MB)\n",
      "Trainable params: 805181 (3.07 MB)\n",
      "Non-trainable params: 0 (0.00 Byte)\n",
      "_________________________________________________________________\n"
     ]
    }
   ],
   "source": [
    "# Create the model\n",
    "model = Sequential()\n",
    "model.add(LSTM(num_neurons, return_sequences=True, input_shape=(X_train.shape[1], X_train.shape[2])))\n",
    "model.add(Dropout(0.2))\n",
    "model.add(LSTM(num_neurons, return_sequences=True))\n",
    "model.add(Dropout(0.2))\n",
    "#model.add(LSTM(num_neurons, return_sequences=True))\n",
    "#model.add(Dropout(0.2))\n",
    "#model.add(LSTM(num_neurons, return_sequences=True))\n",
    "#model.add(Dropout(0.2))\n",
    "model.add(Dense(y.shape[2], activation='softmax'))\n",
    "\n",
    "# Set initial weights\n",
    "initial_weights = 0.05\n",
    "for layer in model.layers:\n",
    "    for weight in layer.get_weights():\n",
    "        weight[:] = initial_weights\n",
    "\n",
    "# Compile the model\n",
    "model.compile(loss='categorical_crossentropy', optimizer='adam', metrics=['accuracy'])\n",
    "\n",
    "# Display the model summary\n",
    "model.summary()"
   ]
  },
  {
   "cell_type": "code",
   "execution_count": 10,
   "id": "9962a213",
   "metadata": {
    "execution": {
     "iopub.execute_input": "2024-02-23T05:34:37.528560Z",
     "iopub.status.busy": "2024-02-23T05:34:37.528172Z",
     "iopub.status.idle": "2024-02-23T14:59:07.897621Z",
     "shell.execute_reply": "2024-02-23T14:59:07.895301Z"
    },
    "papermill": {
     "duration": 33873.35197,
     "end_time": "2024-02-23T14:59:10.873319",
     "exception": false,
     "start_time": "2024-02-23T05:34:37.521349",
     "status": "completed"
    },
    "tags": []
   },
   "outputs": [
    {
     "name": "stdout",
     "output_type": "stream",
     "text": [
      "Epoch 1/35\n",
      "1215/1215 [==============================] - 940s 771ms/step - loss: 3.0662 - accuracy: 0.1702 - val_loss: 3.0511 - val_accuracy: 0.1714\n",
      "Epoch 2/35\n",
      "1215/1215 [==============================] - 961s 791ms/step - loss: 3.0245 - accuracy: 0.1715 - val_loss: 2.9308 - val_accuracy: 0.1778\n",
      "Epoch 3/35\n",
      "1215/1215 [==============================] - 956s 787ms/step - loss: 2.8142 - accuracy: 0.2028 - val_loss: 2.5366 - val_accuracy: 0.2718\n",
      "Epoch 4/35\n",
      "1215/1215 [==============================] - 962s 792ms/step - loss: 2.5394 - accuracy: 0.2698 - val_loss: 2.2345 - val_accuracy: 0.3576\n",
      "Epoch 5/35\n",
      "1215/1215 [==============================] - 963s 793ms/step - loss: 2.3658 - accuracy: 0.3148 - val_loss: 2.0468 - val_accuracy: 0.4095\n",
      "Epoch 6/35\n",
      "1215/1215 [==============================] - 967s 796ms/step - loss: 2.2539 - accuracy: 0.3443 - val_loss: 1.9318 - val_accuracy: 0.4442\n",
      "Epoch 7/35\n",
      "1215/1215 [==============================] - 968s 797ms/step - loss: 2.1718 - accuracy: 0.3657 - val_loss: 1.8358 - val_accuracy: 0.4712\n",
      "Epoch 8/35\n",
      "1215/1215 [==============================] - 973s 801ms/step - loss: 2.1078 - accuracy: 0.3826 - val_loss: 1.7576 - val_accuracy: 0.4952\n",
      "Epoch 9/35\n",
      "1215/1215 [==============================] - 968s 797ms/step - loss: 2.0558 - accuracy: 0.3965 - val_loss: 1.6958 - val_accuracy: 0.5112\n",
      "Epoch 10/35\n",
      "1215/1215 [==============================] - 982s 808ms/step - loss: 2.0117 - accuracy: 0.4083 - val_loss: 1.6486 - val_accuracy: 0.5261\n",
      "Epoch 11/35\n",
      "1215/1215 [==============================] - 972s 800ms/step - loss: 1.9732 - accuracy: 0.4189 - val_loss: 1.5990 - val_accuracy: 0.5399\n",
      "Epoch 12/35\n",
      "1215/1215 [==============================] - 947s 779ms/step - loss: 1.9405 - accuracy: 0.4277 - val_loss: 1.5650 - val_accuracy: 0.5516\n",
      "Epoch 13/35\n",
      "1215/1215 [==============================] - 942s 776ms/step - loss: 1.9103 - accuracy: 0.4360 - val_loss: 1.5310 - val_accuracy: 0.5623\n",
      "Epoch 14/35\n",
      "1215/1215 [==============================] - 949s 781ms/step - loss: 1.8843 - accuracy: 0.4432 - val_loss: 1.5072 - val_accuracy: 0.5668\n",
      "Epoch 15/35\n",
      "1215/1215 [==============================] - 966s 795ms/step - loss: 1.8598 - accuracy: 0.4497 - val_loss: 1.4714 - val_accuracy: 0.5768\n",
      "Epoch 16/35\n",
      "1215/1215 [==============================] - 960s 790ms/step - loss: 1.8385 - accuracy: 0.4556 - val_loss: 1.4550 - val_accuracy: 0.5848\n",
      "Epoch 17/35\n",
      "1215/1215 [==============================] - 968s 797ms/step - loss: 1.8181 - accuracy: 0.4612 - val_loss: 1.4266 - val_accuracy: 0.5924\n",
      "Epoch 18/35\n",
      "1215/1215 [==============================] - 958s 789ms/step - loss: 1.7998 - accuracy: 0.4665 - val_loss: 1.4031 - val_accuracy: 0.5995\n",
      "Epoch 19/35\n",
      "1215/1215 [==============================] - 956s 787ms/step - loss: 1.7835 - accuracy: 0.4711 - val_loss: 1.3869 - val_accuracy: 0.6049\n",
      "Epoch 20/35\n",
      "1215/1215 [==============================] - 971s 799ms/step - loss: 1.7678 - accuracy: 0.4752 - val_loss: 1.3660 - val_accuracy: 0.6105\n",
      "Epoch 21/35\n",
      "1215/1215 [==============================] - 980s 807ms/step - loss: 1.7524 - accuracy: 0.4797 - val_loss: 1.3550 - val_accuracy: 0.6149\n",
      "Epoch 22/35\n",
      "1215/1215 [==============================] - 978s 805ms/step - loss: 1.7389 - accuracy: 0.4833 - val_loss: 1.3446 - val_accuracy: 0.6171\n",
      "Epoch 23/35\n",
      "1215/1215 [==============================] - 963s 792ms/step - loss: 1.7264 - accuracy: 0.4868 - val_loss: 1.3289 - val_accuracy: 0.6225\n",
      "Epoch 24/35\n",
      "1215/1215 [==============================] - 970s 799ms/step - loss: 1.7141 - accuracy: 0.4904 - val_loss: 1.3181 - val_accuracy: 0.6255\n",
      "Epoch 25/35\n",
      "1215/1215 [==============================] - 978s 805ms/step - loss: 1.7029 - accuracy: 0.4938 - val_loss: 1.3041 - val_accuracy: 0.6300\n",
      "Epoch 26/35\n",
      "1215/1215 [==============================] - 965s 794ms/step - loss: 1.6915 - accuracy: 0.4969 - val_loss: 1.2937 - val_accuracy: 0.6321\n",
      "Epoch 27/35\n",
      "1215/1215 [==============================] - 969s 797ms/step - loss: 1.6817 - accuracy: 0.4997 - val_loss: 1.2811 - val_accuracy: 0.6357\n",
      "Epoch 28/35\n",
      "1215/1215 [==============================] - 978s 805ms/step - loss: 1.6720 - accuracy: 0.5023 - val_loss: 1.2739 - val_accuracy: 0.6380\n",
      "Epoch 29/35\n",
      "1215/1215 [==============================] - 973s 800ms/step - loss: 1.6631 - accuracy: 0.5051 - val_loss: 1.2618 - val_accuracy: 0.6431\n",
      "Epoch 30/35\n",
      "1215/1215 [==============================] - 995s 819ms/step - loss: 1.6542 - accuracy: 0.5074 - val_loss: 1.2557 - val_accuracy: 0.6442\n",
      "Epoch 31/35\n",
      "1215/1215 [==============================] - 977s 804ms/step - loss: 1.6461 - accuracy: 0.5099 - val_loss: 1.2475 - val_accuracy: 0.6478\n",
      "Epoch 32/35\n",
      "1215/1215 [==============================] - 986s 812ms/step - loss: 1.6374 - accuracy: 0.5123 - val_loss: 1.2344 - val_accuracy: 0.6493\n",
      "Epoch 33/35\n",
      "1215/1215 [==============================] - 972s 800ms/step - loss: 1.6306 - accuracy: 0.5143 - val_loss: 1.2306 - val_accuracy: 0.6545\n",
      "Epoch 34/35\n",
      "1215/1215 [==============================] - 975s 802ms/step - loss: 1.6223 - accuracy: 0.5166 - val_loss: 1.2220 - val_accuracy: 0.6567\n",
      "Epoch 35/35\n",
      "1215/1215 [==============================] - 976s 804ms/step - loss: 1.6154 - accuracy: 0.5187 - val_loss: 1.2124 - val_accuracy: 0.6594\n"
     ]
    }
   ],
   "source": [
    "# Train the model\n",
    "history = model.fit(X_train, y_train, epochs=35, batch_size=128, validation_data=(X_val, y_val))"
   ]
  },
  {
   "cell_type": "code",
   "execution_count": 11,
   "id": "48bcc97b",
   "metadata": {
    "execution": {
     "iopub.execute_input": "2024-02-23T14:59:16.890590Z",
     "iopub.status.busy": "2024-02-23T14:59:16.889656Z",
     "iopub.status.idle": "2024-02-23T14:59:17.183254Z",
     "shell.execute_reply": "2024-02-23T14:59:17.182332Z"
    },
    "papermill": {
     "duration": 3.303942,
     "end_time": "2024-02-23T14:59:17.185278",
     "exception": false,
     "start_time": "2024-02-23T14:59:13.881336",
     "status": "completed"
    },
    "tags": []
   },
   "outputs": [
    {
     "data": {
      "image/png": "[encoded data removed]",
      "text/plain": [
       "<Figure size 640x480 with 1 Axes>"
      ]
     },
     "metadata": {},
     "output_type": "display_data"
    }
   ],
   "source": [
    "import matplotlib.pyplot as plt\n",
    "\n",
    "# Plot training and validation accuracy to epoch\n",
    "plt.plot(history.history['accuracy'], label='Training Accuracy')\n",
    "plt.plot(history.history['val_accuracy'], label='Validation Accuracy')\n",
    "plt.xlabel('Epoch')\n",
    "plt.ylabel('Accuracy')\n",
    "plt.legend()\n",
    "plt.show()"
   ]
  },
  {
   "cell_type": "code",
   "execution_count": 12,
   "id": "d00c74f5",
   "metadata": {
    "execution": {
     "iopub.execute_input": "2024-02-23T14:59:23.052750Z",
     "iopub.status.busy": "2024-02-23T14:59:23.052371Z",
     "iopub.status.idle": "2024-02-23T14:59:23.300567Z",
     "shell.execute_reply": "2024-02-23T14:59:23.299422Z"
    },
    "papermill": {
     "duration": 3.293508,
     "end_time": "2024-02-23T14:59:23.303049",
     "exception": false,
     "start_time": "2024-02-23T14:59:20.009541",
     "status": "completed"
    },
    "tags": []
   },
   "outputs": [
    {
     "data": {
      "text/plain": [
       "<matplotlib.legend.Legend at 0x7b71e86c3b50>"
      ]
     },
     "execution_count": 12,
     "metadata": {},
     "output_type": "execute_result"
    },
    {
     "data": {
      "image/png": "[encoded data removed]",
      "text/plain": [
       "<Figure size 640x480 with 1 Axes>"
      ]
     },
     "metadata": {},
     "output_type": "display_data"
    }
   ],
   "source": [
    "# Plot loss to epoch\n",
    "plt.plot(history.history['loss'], label='Training Loss')\n",
    "plt.plot(history.history['val_loss'], label='Validation Loss')\n",
    "plt.xlabel('Epoch')\n",
    "plt.ylabel('Loss')\n",
    "plt.legend()"
   ]
  },
  {
   "cell_type": "code",
   "execution_count": 13,
   "id": "b538c56c",
   "metadata": {
    "execution": {
     "iopub.execute_input": "2024-02-23T14:59:29.303925Z",
     "iopub.status.busy": "2024-02-23T14:59:29.303217Z",
     "iopub.status.idle": "2024-02-23T14:59:30.274109Z",
     "shell.execute_reply": "2024-02-23T14:59:30.272803Z"
    },
    "papermill": {
     "duration": 3.971086,
     "end_time": "2024-02-23T14:59:30.276359",
     "exception": false,
     "start_time": "2024-02-23T14:59:26.305273",
     "status": "completed"
    },
    "tags": []
   },
   "outputs": [
    {
     "name": "stdout",
     "output_type": "stream",
     "text": [
      "1/1 [==============================] - 1s 901ms/step\n",
      "[' ', ' ', ' ', ' ', ' ', ' ', ' ', ' ', ' ', ' ', ' ', ' ', ' ', ' ', 'e', 'r', 'e', 'n', ' ', 's', 't', ' ', ' ', 'u', 'r', ' ', 'y', ' ', 't', 'e', 'm', 'e', ' ', 'o', 'v', 'e', 'r', ' ', 'w', 'i', 't', 'h', ' ', 'w', 'i', 'l', 'l', ' ', 'a', 'm', ' ', 't', 'h', 'e', ' ', 'c', 'o', 'n', 'q', 'u', 'e', 'r', 'e', 'r', '.', '’', ' ', '(', '(', 'o', 'r', 'y', ' ', 'w', 'i', 't', 'h', ' ', 'a', 'l']\n",
      "Input Sequence: t it said nothing.\n",
      "\n",
      "‘perhaps it doesn’t understand english,’ thought alice; ‘i d\n",
      "Predicted Characters:               eren st  ur y teme over with will am the conquerer.’ ((ory with al\n"
     ]
    }
   ],
   "source": [
    "# Select a random starting point\n",
    "start_index = np.random.randint(0, len(text) - sequence_length)\n",
    "\n",
    "# Extract the character sequence\n",
    "seed_text = text[start_index : start_index + sequence_length]\n",
    "\n",
    "# Preprocess seed string\n",
    "seed_sequence = [char_to_index[char] for char in seed_text]\n",
    "\n",
    "# Reshape the seed_sequence to match the model's input shape\n",
    "input_sequence = np.reshape(seed_sequence, (1, sequence_length, 1))\n",
    "\n",
    "# Predict the next characters\n",
    "predicted_probs = model.predict(input_sequence)[0]\n",
    "\n",
    "# Convert predicted probabilities to actual characters\n",
    "predicted_characters = [index_to_char[np.argmax(prob)] for prob in predicted_probs]\n",
    "\n",
    "print(predicted_characters)\n",
    "\n",
    "# Print the original input sequence\n",
    "print(\"Input Sequence:\", ''.join([char for char in seed_text]))\n",
    "\n",
    "# Print the predicted characters\n",
    "print(\"Predicted Characters:\", ''.join(predicted_characters))"
   ]
  }
 ],
 "metadata": {
  "kaggle": {
   "accelerator": "none",
   "dataSources": [
    {
     "datasetId": 1772,
     "sourceId": 3065,
     "sourceType": "datasetVersion"
    }
   ],
   "dockerImageVersionId": 30646,
   "isGpuEnabled": false,
   "isInternetEnabled": true,
   "language": "python",
   "sourceType": "notebook"
  },
  "kernelspec": {
   "display_name": "Python 3",
   "language": "python",
   "name": "python3"
  },
  "language_info": {
   "codemirror_mode": {
    "name": "ipython",
    "version": 3
   },
   "file_extension": ".py",
   "mimetype": "text/x-python",
   "name": "python",
   "nbconvert_exporter": "python",
   "pygments_lexer": "ipython3",
   "version": "3.10.13"
  },
  "papermill": {
   "default_parameters": {},
   "duration": 33925.241137,
   "end_time": "2024-02-23T14:59:36.685703",
   "environment_variables": {},
   "exception": null,
   "input_path": "__notebook__.ipynb",
   "output_path": "__notebook__.ipynb",
   "parameters": {},
   "start_time": "2024-02-23T05:34:11.444566",
   "version": "2.5.0"
  }
 },
 "nbformat": 4,
 "nbformat_minor": 5
}
