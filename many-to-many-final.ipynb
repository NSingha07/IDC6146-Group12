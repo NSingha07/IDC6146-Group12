{
 "cells": [
  {
   "cell_type": "code",
   "execution_count": 1,
   "id": "e0374f25",
   "metadata": {
    "_cell_guid": "b1076dfc-b9ad-4769-8c92-a6c4dae69d19",
    "_uuid": "8f2839f25d086af736a60e9eeb907d3b93b6e0e5",
    "execution": {
     "iopub.execute_input": "2024-02-18T20:59:23.158510Z",
     "iopub.status.busy": "2024-02-18T20:59:23.158131Z",
     "iopub.status.idle": "2024-02-18T20:59:38.812483Z",
     "shell.execute_reply": "2024-02-18T20:59:38.811493Z"
    },
    "papermill": {
     "duration": 15.664143,
     "end_time": "2024-02-18T20:59:38.814879",
     "exception": false,
     "start_time": "2024-02-18T20:59:23.150736",
     "status": "completed"
    },
    "tags": []
   },
   "outputs": [
    {
     "name": "stderr",
     "output_type": "stream",
     "text": [
      "2024-02-18 20:59:25.979259: E external/local_xla/xla/stream_executor/cuda/cuda_dnn.cc:9261] Unable to register cuDNN factory: Attempting to register factory for plugin cuDNN when one has already been registered\n",
      "2024-02-18 20:59:25.979393: E external/local_xla/xla/stream_executor/cuda/cuda_fft.cc:607] Unable to register cuFFT factory: Attempting to register factory for plugin cuFFT when one has already been registered\n",
      "2024-02-18 20:59:26.124247: E external/local_xla/xla/stream_executor/cuda/cuda_blas.cc:1515] Unable to register cuBLAS factory: Attempting to register factory for plugin cuBLAS when one has already been registered\n"
     ]
    }
   ],
   "source": [
    "import numpy as np \n",
    "import pandas as pd\n",
    "import os\n",
    "\n",
    "import tensorflow as tf\n",
    "from keras.models import Sequential\n",
    "from keras.layers import LSTM, Dense\n",
    "from keras.optimizers import RMSprop\n",
    "from sklearn.model_selection import train_test_split\n",
    "from keras.layers import Dropout"
   ]
  },
  {
   "cell_type": "markdown",
   "id": "c19a84fc",
   "metadata": {
    "papermill": {
     "duration": 0.004773,
     "end_time": "2024-02-18T20:59:38.825007",
     "exception": false,
     "start_time": "2024-02-18T20:59:38.820234",
     "status": "completed"
    },
    "tags": []
   },
   "source": [
    "# **Data Preprocessing**"
   ]
  },
  {
   "cell_type": "code",
   "execution_count": 2,
   "id": "2e974636",
   "metadata": {
    "execution": {
     "iopub.execute_input": "2024-02-18T20:59:38.836689Z",
     "iopub.status.busy": "2024-02-18T20:59:38.836027Z",
     "iopub.status.idle": "2024-02-18T20:59:38.850717Z",
     "shell.execute_reply": "2024-02-18T20:59:38.849560Z"
    },
    "papermill": {
     "duration": 0.023475,
     "end_time": "2024-02-18T20:59:38.853410",
     "exception": false,
     "start_time": "2024-02-18T20:59:38.829935",
     "status": "completed"
    },
    "tags": []
   },
   "outputs": [],
   "source": [
    "text = open('/kaggle/input/wonderland.txt', 'r', encoding='utf-8').read()\n",
    "text = text.lower()"
   ]
  },
  {
   "cell_type": "code",
   "execution_count": 3,
   "id": "d2a8d538",
   "metadata": {
    "execution": {
     "iopub.execute_input": "2024-02-18T20:59:38.866350Z",
     "iopub.status.busy": "2024-02-18T20:59:38.865530Z",
     "iopub.status.idle": "2024-02-18T20:59:38.875597Z",
     "shell.execute_reply": "2024-02-18T20:59:38.874408Z"
    },
    "papermill": {
     "duration": 0.018969,
     "end_time": "2024-02-18T20:59:38.877737",
     "exception": false,
     "start_time": "2024-02-18T20:59:38.858768",
     "status": "completed"
    },
    "tags": []
   },
   "outputs": [
    {
     "name": "stdout",
     "output_type": "stream",
     "text": [
      "Total Characters :  163817\n",
      "Total Vocab :  61\n"
     ]
    }
   ],
   "source": [
    "# Getting the number of unique characters\n",
    "unique_characters = set(text)\n",
    "\n",
    "# Getting the total number of characters\n",
    "n_chars = len(text)\n",
    "\n",
    "# Getting the total number of unique characters\n",
    "n_vocab = len(unique_characters)\n",
    "\n",
    "print(\"Total Characters : \",n_chars) \n",
    "print(\"Total Vocab : \",n_vocab)"
   ]
  },
  {
   "cell_type": "code",
   "execution_count": 4,
   "id": "d1d59738",
   "metadata": {
    "execution": {
     "iopub.execute_input": "2024-02-18T20:59:38.890253Z",
     "iopub.status.busy": "2024-02-18T20:59:38.889390Z",
     "iopub.status.idle": "2024-02-18T20:59:38.901505Z",
     "shell.execute_reply": "2024-02-18T20:59:38.900566Z"
    },
    "papermill": {
     "duration": 0.020865,
     "end_time": "2024-02-18T20:59:38.903786",
     "exception": false,
     "start_time": "2024-02-18T20:59:38.882921",
     "status": "completed"
    },
    "tags": []
   },
   "outputs": [],
   "source": [
    "# Mapping characters to integers\n",
    "char_to_index = {char: i for i, char in enumerate(set(text))}\n",
    "index_to_char = {i: char for i, char in enumerate(set(text))}"
   ]
  },
  {
   "cell_type": "code",
   "execution_count": 5,
   "id": "a2998938",
   "metadata": {
    "execution": {
     "iopub.execute_input": "2024-02-18T20:59:38.916567Z",
     "iopub.status.busy": "2024-02-18T20:59:38.915942Z",
     "iopub.status.idle": "2024-02-18T20:59:38.920520Z",
     "shell.execute_reply": "2024-02-18T20:59:38.919778Z"
    },
    "papermill": {
     "duration": 0.013315,
     "end_time": "2024-02-18T20:59:38.922494",
     "exception": false,
     "start_time": "2024-02-18T20:59:38.909179",
     "status": "completed"
    },
    "tags": []
   },
   "outputs": [],
   "source": [
    "# Setting the parameters\n",
    "sequence_length = 40\n",
    "num_neurons = 256\n",
    "num_distinct_chars = len(char_to_index)"
   ]
  },
  {
   "cell_type": "code",
   "execution_count": 6,
   "id": "8044d22c",
   "metadata": {
    "execution": {
     "iopub.execute_input": "2024-02-18T20:59:38.934604Z",
     "iopub.status.busy": "2024-02-18T20:59:38.934023Z",
     "iopub.status.idle": "2024-02-18T20:59:38.954181Z",
     "shell.execute_reply": "2024-02-18T20:59:38.952858Z"
    },
    "papermill": {
     "duration": 0.02935,
     "end_time": "2024-02-18T20:59:38.956962",
     "exception": false,
     "start_time": "2024-02-18T20:59:38.927612",
     "status": "completed"
    },
    "tags": []
   },
   "outputs": [],
   "source": [
    "# Convert the text to a sequence of indices\n",
    "text_as_indices = [char_to_index[char] for char in text]"
   ]
  },
  {
   "cell_type": "code",
   "execution_count": 7,
   "id": "60edc474",
   "metadata": {
    "execution": {
     "iopub.execute_input": "2024-02-18T20:59:38.969485Z",
     "iopub.status.busy": "2024-02-18T20:59:38.969112Z",
     "iopub.status.idle": "2024-02-18T20:59:42.264100Z",
     "shell.execute_reply": "2024-02-18T20:59:42.263279Z"
    },
    "papermill": {
     "duration": 3.304448,
     "end_time": "2024-02-18T20:59:42.266864",
     "exception": false,
     "start_time": "2024-02-18T20:59:38.962416",
     "status": "completed"
    },
    "tags": []
   },
   "outputs": [
    {
     "name": "stdout",
     "output_type": "stream",
     "text": [
      "(163737, 40, 1)\n",
      "(163737, 40, 61)\n"
     ]
    }
   ],
   "source": [
    "# Generate input sequences and corresponding labels\n",
    "X = []\n",
    "y = []\n",
    "\n",
    "for i in range(0, len(text_as_indices) - (sequence_length*2), 1):\n",
    "    sequence_in = text_as_indices[i:i + sequence_length]\n",
    "    sequence_out = text_as_indices[i + sequence_length:i + (sequence_length*2)]\n",
    "    X.append(sequence_in)\n",
    "    y.append(sequence_out)\n",
    "\n",
    "# Convert to numpy arrays\n",
    "X = np.array(X)\n",
    "y = np.array(y)\n",
    "\n",
    "# Reshape X\n",
    "X = np.reshape(X, (X.shape[0], sequence_length, 1))\n",
    "\n",
    "# One hot encoding\n",
    "y = tf.keras.utils.to_categorical(y)\n",
    "\n",
    "print(X.shape)\n",
    "print(y.shape)"
   ]
  },
  {
   "cell_type": "code",
   "execution_count": 8,
   "id": "b944b8ef",
   "metadata": {
    "execution": {
     "iopub.execute_input": "2024-02-18T20:59:42.284276Z",
     "iopub.status.busy": "2024-02-18T20:59:42.283626Z",
     "iopub.status.idle": "2024-02-18T20:59:43.012144Z",
     "shell.execute_reply": "2024-02-18T20:59:43.011140Z"
    },
    "papermill": {
     "duration": 0.740478,
     "end_time": "2024-02-18T20:59:43.015085",
     "exception": false,
     "start_time": "2024-02-18T20:59:42.274607",
     "status": "completed"
    },
    "tags": []
   },
   "outputs": [],
   "source": [
    "# Split the data into training and validation sets\n",
    "X_train, X_val, y_train, y_val = train_test_split(X, y, test_size=0.05, random_state=1)"
   ]
  },
  {
   "cell_type": "markdown",
   "id": "b3b738b0",
   "metadata": {
    "papermill": {
     "duration": 0.005932,
     "end_time": "2024-02-18T20:59:43.029282",
     "exception": false,
     "start_time": "2024-02-18T20:59:43.023350",
     "status": "completed"
    },
    "tags": []
   },
   "source": [
    "# **Creating the model**"
   ]
  },
  {
   "cell_type": "code",
   "execution_count": 9,
   "id": "4e528dba",
   "metadata": {
    "execution": {
     "iopub.execute_input": "2024-02-18T20:59:43.042165Z",
     "iopub.status.busy": "2024-02-18T20:59:43.041413Z",
     "iopub.status.idle": "2024-02-18T20:59:43.832585Z",
     "shell.execute_reply": "2024-02-18T20:59:43.831458Z"
    },
    "papermill": {
     "duration": 0.805327,
     "end_time": "2024-02-18T20:59:43.839898",
     "exception": false,
     "start_time": "2024-02-18T20:59:43.034571",
     "status": "completed"
    },
    "tags": []
   },
   "outputs": [
    {
     "name": "stdout",
     "output_type": "stream",
     "text": [
      "Model: \"sequential\"\n",
      "_________________________________________________________________\n",
      " Layer (type)                Output Shape              Param #   \n",
      "=================================================================\n",
      " lstm (LSTM)                 (None, 40, 256)           264192    \n",
      "                                                                 \n",
      " dropout (Dropout)           (None, 40, 256)           0         \n",
      "                                                                 \n",
      " lstm_1 (LSTM)               (None, 40, 256)           525312    \n",
      "                                                                 \n",
      " dropout_1 (Dropout)         (None, 40, 256)           0         \n",
      "                                                                 \n",
      " dense (Dense)               (None, 40, 61)            15677     \n",
      "                                                                 \n",
      "=================================================================\n",
      "Total params: 805181 (3.07 MB)\n",
      "Trainable params: 805181 (3.07 MB)\n",
      "Non-trainable params: 0 (0.00 Byte)\n",
      "_________________________________________________________________\n"
     ]
    }
   ],
   "source": [
    "# Create the model\n",
    "model = Sequential()\n",
    "model.add(LSTM(num_neurons, return_sequences=True, input_shape=(X_train.shape[1], X_train.shape[2])))\n",
    "model.add(Dropout(0.2))\n",
    "model.add(LSTM(num_neurons, return_sequences=True))\n",
    "model.add(Dropout(0.2))\n",
    "model.add(Dense(num_distinct_chars, activation='softmax'))\n",
    "\n",
    "# Set initial weights\n",
    "initial_weights = 0.05\n",
    "for layer in model.layers:\n",
    "    for weight in layer.get_weights():\n",
    "        weight[:] = initial_weights\n",
    "\n",
    "# Compile the model\n",
    "model.compile(loss='categorical_crossentropy', optimizer='adam', metrics=['accuracy'])\n",
    "\n",
    "# Display the model summary\n",
    "model.summary()"
   ]
  },
  {
   "cell_type": "code",
   "execution_count": 10,
   "id": "3ea7ce61",
   "metadata": {
    "execution": {
     "iopub.execute_input": "2024-02-18T20:59:43.855583Z",
     "iopub.status.busy": "2024-02-18T20:59:43.855200Z",
     "iopub.status.idle": "2024-02-18T23:35:11.851972Z",
     "shell.execute_reply": "2024-02-18T23:35:11.851036Z"
    },
    "papermill": {
     "duration": 9328.008316,
     "end_time": "2024-02-18T23:35:11.854569",
     "exception": false,
     "start_time": "2024-02-18T20:59:43.846253",
     "status": "completed"
    },
    "tags": []
   },
   "outputs": [
    {
     "name": "stdout",
     "output_type": "stream",
     "text": [
      "Epoch 1/20\n",
      "1216/1216 [==============================] - 468s 382ms/step - loss: 3.0665 - accuracy: 0.1703 - val_loss: 3.0563 - val_accuracy: 0.1698\n",
      "Epoch 2/20\n",
      "1216/1216 [==============================] - 463s 381ms/step - loss: 3.0499 - accuracy: 0.1708 - val_loss: 3.0406 - val_accuracy: 0.1698\n",
      "Epoch 3/20\n",
      "1216/1216 [==============================] - 462s 380ms/step - loss: 3.0071 - accuracy: 0.1723 - val_loss: 2.9378 - val_accuracy: 0.1780\n",
      "Epoch 4/20\n",
      "1216/1216 [==============================] - 463s 380ms/step - loss: 2.8813 - accuracy: 0.1897 - val_loss: 2.7315 - val_accuracy: 0.2238\n",
      "Epoch 5/20\n",
      "1216/1216 [==============================] - 467s 384ms/step - loss: 2.7282 - accuracy: 0.2249 - val_loss: 2.5423 - val_accuracy: 0.2742\n",
      "Epoch 6/20\n",
      "1216/1216 [==============================] - 465s 382ms/step - loss: 2.6084 - accuracy: 0.2553 - val_loss: 2.4002 - val_accuracy: 0.3135\n",
      "Epoch 7/20\n",
      "1216/1216 [==============================] - 464s 381ms/step - loss: 2.5229 - accuracy: 0.2772 - val_loss: 2.3009 - val_accuracy: 0.3426\n",
      "Epoch 8/20\n",
      "1216/1216 [==============================] - 466s 383ms/step - loss: 2.4581 - accuracy: 0.2940 - val_loss: 2.2196 - val_accuracy: 0.3645\n",
      "Epoch 9/20\n",
      "1216/1216 [==============================] - 466s 383ms/step - loss: 2.4061 - accuracy: 0.3077 - val_loss: 2.1595 - val_accuracy: 0.3811\n",
      "Epoch 10/20\n",
      "1216/1216 [==============================] - 468s 385ms/step - loss: 2.3644 - accuracy: 0.3187 - val_loss: 2.1061 - val_accuracy: 0.3961\n",
      "Epoch 11/20\n",
      "1216/1216 [==============================] - 467s 384ms/step - loss: 2.3283 - accuracy: 0.3280 - val_loss: 2.0647 - val_accuracy: 0.4097\n",
      "Epoch 12/20\n",
      "1216/1216 [==============================] - 466s 383ms/step - loss: 2.2975 - accuracy: 0.3359 - val_loss: 2.0272 - val_accuracy: 0.4210\n",
      "Epoch 13/20\n",
      "1216/1216 [==============================] - 462s 380ms/step - loss: 2.2704 - accuracy: 0.3431 - val_loss: 1.9985 - val_accuracy: 0.4291\n",
      "Epoch 14/20\n",
      "1216/1216 [==============================] - 462s 380ms/step - loss: 2.2459 - accuracy: 0.3496 - val_loss: 1.9621 - val_accuracy: 0.4387\n",
      "Epoch 15/20\n",
      "1216/1216 [==============================] - 469s 386ms/step - loss: 2.2243 - accuracy: 0.3555 - val_loss: 1.9351 - val_accuracy: 0.4471\n",
      "Epoch 16/20\n",
      "1216/1216 [==============================] - 466s 383ms/step - loss: 2.2052 - accuracy: 0.3605 - val_loss: 1.9113 - val_accuracy: 0.4540\n",
      "Epoch 17/20\n",
      "1216/1216 [==============================] - 463s 381ms/step - loss: 2.1860 - accuracy: 0.3656 - val_loss: 1.8876 - val_accuracy: 0.4609\n",
      "Epoch 18/20\n",
      "1216/1216 [==============================] - 468s 385ms/step - loss: 2.1705 - accuracy: 0.3697 - val_loss: 1.8727 - val_accuracy: 0.4654\n",
      "Epoch 19/20\n",
      "1216/1216 [==============================] - 466s 384ms/step - loss: 2.1551 - accuracy: 0.3737 - val_loss: 1.8522 - val_accuracy: 0.4718\n",
      "Epoch 20/20\n",
      "1216/1216 [==============================] - 476s 392ms/step - loss: 2.1406 - accuracy: 0.3778 - val_loss: 1.8348 - val_accuracy: 0.4753\n"
     ]
    }
   ],
   "source": [
    "# Train the model\n",
    "history = model.fit(X_train, y_train, epochs=20, batch_size=128, validation_data=(X_val, y_val))"
   ]
  },
  {
   "cell_type": "code",
   "execution_count": 11,
   "id": "c3f2b778",
   "metadata": {
    "execution": {
     "iopub.execute_input": "2024-02-18T23:35:15.175138Z",
     "iopub.status.busy": "2024-02-18T23:35:15.174434Z",
     "iopub.status.idle": "2024-02-18T23:35:15.429651Z",
     "shell.execute_reply": "2024-02-18T23:35:15.428510Z"
    },
    "papermill": {
     "duration": 1.880032,
     "end_time": "2024-02-18T23:35:15.432003",
     "exception": false,
     "start_time": "2024-02-18T23:35:13.551971",
     "status": "completed"
    },
    "tags": []
   },
   "outputs": [
    {
     "data": {
      "image/png": "[encoded data removed]",
      "text/plain": [
       "<Figure size 640x480 with 1 Axes>"
      ]
     },
     "metadata": {},
     "output_type": "display_data"
    }
   ],
   "source": [
    "import matplotlib.pyplot as plt\n",
    "\n",
    "# Plot training and validation accuracy to epoch\n",
    "plt.plot(history.history['accuracy'], label='Training Accuracy')\n",
    "plt.plot(history.history['val_accuracy'], label='Validation Accuracy')\n",
    "plt.xlabel('Epoch')\n",
    "plt.ylabel('Accuracy')\n",
    "plt.legend()\n",
    "plt.show()"
   ]
  },
  {
   "cell_type": "code",
   "execution_count": 12,
   "id": "e8f62c0b",
   "metadata": {
    "execution": {
     "iopub.execute_input": "2024-02-18T23:35:18.825688Z",
     "iopub.status.busy": "2024-02-18T23:35:18.824554Z",
     "iopub.status.idle": "2024-02-18T23:35:19.075969Z",
     "shell.execute_reply": "2024-02-18T23:35:19.074848Z"
    },
    "papermill": {
     "duration": 1.960135,
     "end_time": "2024-02-18T23:35:19.078467",
     "exception": false,
     "start_time": "2024-02-18T23:35:17.118332",
     "status": "completed"
    },
    "tags": []
   },
   "outputs": [
    {
     "data": {
      "text/plain": [
       "<matplotlib.legend.Legend at 0x7e9535b95c90>"
      ]
     },
     "execution_count": 12,
     "metadata": {},
     "output_type": "execute_result"
    },
    {
     "data": {
      "image/png": "[encoded data removed]",
      "text/plain": [
       "<Figure size 640x480 with 1 Axes>"
      ]
     },
     "metadata": {},
     "output_type": "display_data"
    }
   ],
   "source": [
    "# Plot loss to epoch\n",
    "plt.plot(history.history['loss'], label='Training Loss')\n",
    "plt.plot(history.history['val_loss'], label='Validation Loss')\n",
    "plt.xlabel('Epoch')\n",
    "plt.ylabel('Loss')\n",
    "plt.legend()"
   ]
  },
  {
   "cell_type": "code",
   "execution_count": 13,
   "id": "f2fec643",
   "metadata": {
    "execution": {
     "iopub.execute_input": "2024-02-18T23:35:22.541257Z",
     "iopub.status.busy": "2024-02-18T23:35:22.540374Z",
     "iopub.status.idle": "2024-02-18T23:35:23.507396Z",
     "shell.execute_reply": "2024-02-18T23:35:23.506528Z"
    },
    "papermill": {
     "duration": 2.653001,
     "end_time": "2024-02-18T23:35:23.509414",
     "exception": false,
     "start_time": "2024-02-18T23:35:20.856413",
     "status": "completed"
    },
    "tags": []
   },
   "outputs": [
    {
     "name": "stdout",
     "output_type": "stream",
     "text": [
      "1/1 [==============================] - 1s 848ms/step\n",
      "[' ', ' ', ' ', ' ', ' ', ' ', ' ', ' ', ' ', ' ', ' ', 'l', 'o', 'r', ' ', ' ', 'c', 'o', 'r', 'e', ' ', ' ', 'h', 'a', 'r', ' ', 'm', 'o', 'u', 'b', 'e', 'r', 't', ' ', 'f', 'o', 'o', 't', 'm', 'a']\n",
      "Input Sequence: otman in livery came running out of the\n",
      "\n",
      "Predicted Characters:            lor  core  har moubert footma\n"
     ]
    }
   ],
   "source": [
    "# Select a random starting point\n",
    "start_index = np.random.randint(0, len(text) - sequence_length)\n",
    "\n",
    "# Extract the character sequence\n",
    "seed_text = text[start_index : start_index + sequence_length]\n",
    "\n",
    "# Preprocess seed string\n",
    "seed_sequence = [char_to_index[char] for char in seed_text]\n",
    "\n",
    "# Reshape the seed_sequence to match the model's input shape\n",
    "input_sequence = np.reshape(seed_sequence, (1, sequence_length, 1))\n",
    "\n",
    "# Predict the next characters\n",
    "predicted_probs = model.predict(input_sequence)[0]\n",
    "\n",
    "# Convert predicted probabilities to actual characters\n",
    "predicted_characters = [index_to_char[np.argmax(prob)] for prob in predicted_probs]\n",
    "\n",
    "print(predicted_characters)\n",
    "\n",
    "# Print the original input sequence\n",
    "print(\"Input Sequence:\", ''.join([char for char in seed_text]))\n",
    "\n",
    "# Print the predicted characters\n",
    "print(\"Predicted Characters:\", ''.join(predicted_characters))"
   ]
  },
  {
   "cell_type": "markdown",
   "id": "07571881",
   "metadata": {
    "papermill": {
     "duration": 1.674004,
     "end_time": "2024-02-18T23:35:26.803197",
     "exception": false,
     "start_time": "2024-02-18T23:35:25.129193",
     "status": "completed"
    },
    "tags": []
   },
   "source": [
    "# **Model 2**"
   ]
  },
  {
   "cell_type": "code",
   "execution_count": 14,
   "id": "a83d6d4f",
   "metadata": {
    "execution": {
     "iopub.execute_input": "2024-02-18T23:35:30.151428Z",
     "iopub.status.busy": "2024-02-18T23:35:30.150712Z",
     "iopub.status.idle": "2024-02-18T23:35:31.125653Z",
     "shell.execute_reply": "2024-02-18T23:35:31.124631Z"
    },
    "papermill": {
     "duration": 2.611235,
     "end_time": "2024-02-18T23:35:31.129468",
     "exception": false,
     "start_time": "2024-02-18T23:35:28.518233",
     "status": "completed"
    },
    "tags": []
   },
   "outputs": [
    {
     "name": "stdout",
     "output_type": "stream",
     "text": [
      "Model: \"sequential_1\"\n",
      "_________________________________________________________________\n",
      " Layer (type)                Output Shape              Param #   \n",
      "=================================================================\n",
      " lstm_2 (LSTM)               (None, 40, 256)           264192    \n",
      "                                                                 \n",
      " dropout_2 (Dropout)         (None, 40, 256)           0         \n",
      "                                                                 \n",
      " lstm_3 (LSTM)               (None, 40, 256)           525312    \n",
      "                                                                 \n",
      " dropout_3 (Dropout)         (None, 40, 256)           0         \n",
      "                                                                 \n",
      " lstm_4 (LSTM)               (None, 40, 256)           525312    \n",
      "                                                                 \n",
      " dropout_4 (Dropout)         (None, 40, 256)           0         \n",
      "                                                                 \n",
      " dense_1 (Dense)             (None, 40, 61)            15677     \n",
      "                                                                 \n",
      "=================================================================\n",
      "Total params: 1330493 (5.08 MB)\n",
      "Trainable params: 1330493 (5.08 MB)\n",
      "Non-trainable params: 0 (0.00 Byte)\n",
      "_________________________________________________________________\n"
     ]
    }
   ],
   "source": [
    "# Create the model\n",
    "model2 = Sequential()\n",
    "model2.add(LSTM(num_neurons, return_sequences=True, input_shape=(X_train.shape[1], X_train.shape[2])))\n",
    "model2.add(Dropout(0.2))\n",
    "model2.add(LSTM(num_neurons, return_sequences=True))\n",
    "model2.add(Dropout(0.2))\n",
    "model2.add(LSTM(num_neurons, return_sequences=True))\n",
    "model2.add(Dropout(0.2))\n",
    "model2.add(Dense(num_distinct_chars, activation='softmax'))\n",
    "\n",
    "# Set initial weights\n",
    "initial_weights = 0.05\n",
    "for layer in model2.layers:\n",
    "    for weight in layer.get_weights():\n",
    "        weight[:] = initial_weights\n",
    "\n",
    "# Compile the model\n",
    "model2.compile(loss='categorical_crossentropy', optimizer='adam', metrics=['accuracy'])\n",
    "\n",
    "# Display the model summary\n",
    "model2.summary()"
   ]
  },
  {
   "cell_type": "code",
   "execution_count": 15,
   "id": "74398111",
   "metadata": {
    "execution": {
     "iopub.execute_input": "2024-02-18T23:35:34.527967Z",
     "iopub.status.busy": "2024-02-18T23:35:34.527518Z",
     "iopub.status.idle": "2024-02-19T03:51:05.982742Z",
     "shell.execute_reply": "2024-02-19T03:51:05.979185Z"
    },
    "papermill": {
     "duration": 15333.151279,
     "end_time": "2024-02-19T03:51:05.986646",
     "exception": false,
     "start_time": "2024-02-18T23:35:32.835367",
     "status": "completed"
    },
    "tags": []
   },
   "outputs": [
    {
     "name": "stdout",
     "output_type": "stream",
     "text": [
      "Epoch 1/20\n",
      "1216/1216 [==============================] - 769s 627ms/step - loss: 3.0668 - accuracy: 0.1704 - val_loss: 3.0572 - val_accuracy: 0.1698\n",
      "Epoch 2/20\n",
      "1216/1216 [==============================] - 765s 629ms/step - loss: 3.0537 - accuracy: 0.1708 - val_loss: 3.0537 - val_accuracy: 0.1697\n",
      "Epoch 3/20\n",
      "1216/1216 [==============================] - 762s 627ms/step - loss: 3.0403 - accuracy: 0.1710 - val_loss: 3.0122 - val_accuracy: 0.1712\n",
      "Epoch 4/20\n",
      "1216/1216 [==============================] - 758s 623ms/step - loss: 2.9539 - accuracy: 0.1808 - val_loss: 2.8163 - val_accuracy: 0.2085\n",
      "Epoch 5/20\n",
      "1216/1216 [==============================] - 765s 629ms/step - loss: 2.7903 - accuracy: 0.2153 - val_loss: 2.5921 - val_accuracy: 0.2673\n",
      "Epoch 6/20\n",
      "1216/1216 [==============================] - 771s 634ms/step - loss: 2.6438 - accuracy: 0.2511 - val_loss: 2.4083 - val_accuracy: 0.3159\n",
      "Epoch 7/20\n",
      "1216/1216 [==============================] - 773s 636ms/step - loss: 2.5325 - accuracy: 0.2790 - val_loss: 2.2774 - val_accuracy: 0.3522\n",
      "Epoch 8/20\n",
      "1216/1216 [==============================] - 754s 620ms/step - loss: 2.4468 - accuracy: 0.3008 - val_loss: 2.1707 - val_accuracy: 0.3826\n",
      "Epoch 9/20\n",
      "1216/1216 [==============================] - 765s 629ms/step - loss: 2.3781 - accuracy: 0.3184 - val_loss: 2.0872 - val_accuracy: 0.4046\n",
      "Epoch 10/20\n",
      "1216/1216 [==============================] - 763s 627ms/step - loss: 2.3210 - accuracy: 0.3334 - val_loss: 2.0137 - val_accuracy: 0.4264\n",
      "Epoch 11/20\n",
      "1216/1216 [==============================] - 755s 620ms/step - loss: 2.2738 - accuracy: 0.3455 - val_loss: 1.9515 - val_accuracy: 0.4450\n",
      "Epoch 12/20\n",
      "1216/1216 [==============================] - 768s 631ms/step - loss: 2.2317 - accuracy: 0.3566 - val_loss: 1.9007 - val_accuracy: 0.4582\n",
      "Epoch 13/20\n",
      "1216/1216 [==============================] - 763s 628ms/step - loss: 2.1956 - accuracy: 0.3662 - val_loss: 1.8594 - val_accuracy: 0.4704\n",
      "Epoch 14/20\n",
      "1216/1216 [==============================] - 767s 630ms/step - loss: 2.1629 - accuracy: 0.3746 - val_loss: 1.8237 - val_accuracy: 0.4807\n",
      "Epoch 15/20\n",
      "1216/1216 [==============================] - 769s 633ms/step - loss: 2.1342 - accuracy: 0.3827 - val_loss: 1.7829 - val_accuracy: 0.4932\n",
      "Epoch 16/20\n",
      "1216/1216 [==============================] - 764s 628ms/step - loss: 2.1080 - accuracy: 0.3895 - val_loss: 1.7475 - val_accuracy: 0.5029\n",
      "Epoch 17/20\n",
      "1216/1216 [==============================] - 769s 633ms/step - loss: 2.0844 - accuracy: 0.3957 - val_loss: 1.7233 - val_accuracy: 0.5112\n",
      "Epoch 18/20\n",
      "1216/1216 [==============================] - 775s 637ms/step - loss: 2.0617 - accuracy: 0.4017 - val_loss: 1.7010 - val_accuracy: 0.5179\n",
      "Epoch 19/20\n",
      "1216/1216 [==============================] - 769s 632ms/step - loss: 2.0420 - accuracy: 0.4069 - val_loss: 1.6716 - val_accuracy: 0.5265\n",
      "Epoch 20/20\n",
      "1216/1216 [==============================] - 759s 624ms/step - loss: 2.0230 - accuracy: 0.4122 - val_loss: 1.6491 - val_accuracy: 0.5323\n"
     ]
    }
   ],
   "source": [
    "# Train the model\n",
    "history = model2.fit(X_train, y_train, epochs=20, batch_size=128, validation_data=(X_val, y_val))"
   ]
  },
  {
   "cell_type": "code",
   "execution_count": 16,
   "id": "52304bc7",
   "metadata": {
    "execution": {
     "iopub.execute_input": "2024-02-19T03:51:12.848994Z",
     "iopub.status.busy": "2024-02-19T03:51:12.847155Z",
     "iopub.status.idle": "2024-02-19T03:51:13.136588Z",
     "shell.execute_reply": "2024-02-19T03:51:13.135403Z"
    },
    "papermill": {
     "duration": 3.694131,
     "end_time": "2024-02-19T03:51:13.139023",
     "exception": false,
     "start_time": "2024-02-19T03:51:09.444892",
     "status": "completed"
    },
    "tags": []
   },
   "outputs": [
    {
     "data": {
      "image/png": "[encoded data removed]",
      "text/plain": [
       "<Figure size 640x480 with 1 Axes>"
      ]
     },
     "metadata": {},
     "output_type": "display_data"
    }
   ],
   "source": [
    "import matplotlib.pyplot as plt\n",
    "\n",
    "# Plot training and validation accuracy to epoch\n",
    "plt.plot(history.history['accuracy'], label='Training Accuracy')\n",
    "plt.plot(history.history['val_accuracy'], label='Validation Accuracy')\n",
    "plt.xlabel('Epoch')\n",
    "plt.ylabel('Accuracy')\n",
    "plt.legend()\n",
    "plt.show()"
   ]
  },
  {
   "cell_type": "code",
   "execution_count": 17,
   "id": "4d8ac7bd",
   "metadata": {
    "execution": {
     "iopub.execute_input": "2024-02-19T03:51:20.040010Z",
     "iopub.status.busy": "2024-02-19T03:51:20.039278Z",
     "iopub.status.idle": "2024-02-19T03:51:20.309113Z",
     "shell.execute_reply": "2024-02-19T03:51:20.307658Z"
    },
    "papermill": {
     "duration": 3.707711,
     "end_time": "2024-02-19T03:51:20.311964",
     "exception": false,
     "start_time": "2024-02-19T03:51:16.604253",
     "status": "completed"
    },
    "tags": []
   },
   "outputs": [
    {
     "data": {
      "text/plain": [
       "<matplotlib.legend.Legend at 0x7e947050ab00>"
      ]
     },
     "execution_count": 17,
     "metadata": {},
     "output_type": "execute_result"
    },
    {
     "data": {
      "image/png": "[encoded data removed]",
      "text/plain": [
       "<Figure size 640x480 with 1 Axes>"
      ]
     },
     "metadata": {},
     "output_type": "display_data"
    }
   ],
   "source": [
    "# Plot loss to epoch\n",
    "plt.plot(history.history['loss'], label='Training Loss')\n",
    "plt.plot(history.history['val_loss'], label='Validation Loss')\n",
    "plt.xlabel('Epoch')\n",
    "plt.ylabel('Loss')\n",
    "plt.legend()"
   ]
  },
  {
   "cell_type": "code",
   "execution_count": 18,
   "id": "c72ca2c2",
   "metadata": {
    "execution": {
     "iopub.execute_input": "2024-02-19T03:51:27.143433Z",
     "iopub.status.busy": "2024-02-19T03:51:27.143027Z",
     "iopub.status.idle": "2024-02-19T03:51:28.619116Z",
     "shell.execute_reply": "2024-02-19T03:51:28.617561Z"
    },
    "papermill": {
     "duration": 4.865526,
     "end_time": "2024-02-19T03:51:28.621302",
     "exception": false,
     "start_time": "2024-02-19T03:51:23.755776",
     "status": "completed"
    },
    "tags": []
   },
   "outputs": [
    {
     "name": "stdout",
     "output_type": "stream",
     "text": [
      "1/1 [==============================] - 1s 1s/step\n",
      "[' ', ' ', ' ', ' ', ' ', ' ', ' ', 'i', 'n', 'd', ' ', 't', 'o', 'r', 'm', 'o', 'u', 's', 'e', ' ', 't', 'r', 'o', 's', 's', 'e', 'd', ' ', 't', 'h', 'e', ' ', 'c', 'o', 'u', 'n', ',', ',', ' ', 's']\n",
      "Input Sequence: r left off staring at the hatter, and,\n",
      "j\n",
      "Predicted Characters:        ind tormouse trossed the coun,, s\n"
     ]
    }
   ],
   "source": [
    "# Select a random starting point\n",
    "start_index = np.random.randint(0, len(text) - sequence_length)\n",
    "\n",
    "# Extract the character sequence\n",
    "seed_text = text[start_index : start_index + sequence_length]\n",
    "\n",
    "# Preprocess seed string\n",
    "seed_sequence = [char_to_index[char] for char in seed_text]\n",
    "\n",
    "# Reshape the seed_sequence to match the model's input shape\n",
    "input_sequence = np.reshape(seed_sequence, (1, sequence_length, 1))\n",
    "\n",
    "# Predict the next characters\n",
    "predicted_probs = model2.predict(input_sequence)[0]\n",
    "\n",
    "# Convert predicted probabilities to actual characters\n",
    "predicted_characters = [index_to_char[np.argmax(prob)] for prob in predicted_probs]\n",
    "\n",
    "print(predicted_characters)\n",
    "\n",
    "# Print the original input sequence\n",
    "print(\"Input Sequence:\", ''.join([char for char in seed_text]))\n",
    "\n",
    "# Print the predicted characters\n",
    "print(\"Predicted Characters:\", ''.join(predicted_characters))"
   ]
  }
 ],
 "metadata": {
  "kaggle": {
   "accelerator": "none",
   "dataSources": [
    {
     "datasetId": 1772,
     "sourceId": 3065,
     "sourceType": "datasetVersion"
    }
   ],
   "dockerImageVersionId": 30646,
   "isGpuEnabled": false,
   "isInternetEnabled": true,
   "language": "python",
   "sourceType": "notebook"
  },
  "kernelspec": {
   "display_name": "Python 3 (ipykernel)",
   "language": "python",
   "name": "python3"
  },
  "language_info": {
   "codemirror_mode": {
    "name": "ipython",
    "version": 3
   },
   "file_extension": ".py",
   "mimetype": "text/x-python",
   "name": "python",
   "nbconvert_exporter": "python",
   "pygments_lexer": "ipython3",
   "version": "3.9.12"
  },
  "papermill": {
   "default_parameters": {},
   "duration": 24734.488596,
   "end_time": "2024-02-19T03:51:34.954180",
   "environment_variables": {},
   "exception": null,
   "input_path": "__notebook__.ipynb",
   "output_path": "__notebook__.ipynb",
   "parameters": {},
   "start_time": "2024-02-18T20:59:20.465584",
   "version": "2.5.0"
  }
 },
 "nbformat": 4,
 "nbformat_minor": 5
}
