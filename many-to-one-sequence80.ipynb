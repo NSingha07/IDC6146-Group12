{
 "cells": [
  {
   "cell_type": "code",
   "execution_count": 1,
   "id": "4617325f",
   "metadata": {
    "_cell_guid": "b1076dfc-b9ad-4769-8c92-a6c4dae69d19",
    "_uuid": "8f2839f25d086af736a60e9eeb907d3b93b6e0e5",
    "execution": {
     "iopub.execute_input": "2024-02-23T05:52:23.798718Z",
     "iopub.status.busy": "2024-02-23T05:52:23.798259Z",
     "iopub.status.idle": "2024-02-23T05:52:38.518316Z",
     "shell.execute_reply": "2024-02-23T05:52:38.517070Z"
    },
    "papermill": {
     "duration": 14.728154,
     "end_time": "2024-02-23T05:52:38.520582",
     "exception": false,
     "start_time": "2024-02-23T05:52:23.792428",
     "status": "completed"
    },
    "tags": []
   },
   "outputs": [
    {
     "name": "stderr",
     "output_type": "stream",
     "text": [
      "2024-02-23 05:52:26.572939: E external/local_xla/xla/stream_executor/cuda/cuda_dnn.cc:9261] Unable to register cuDNN factory: Attempting to register factory for plugin cuDNN when one has already been registered\n",
      "2024-02-23 05:52:26.573041: E external/local_xla/xla/stream_executor/cuda/cuda_fft.cc:607] Unable to register cuFFT factory: Attempting to register factory for plugin cuFFT when one has already been registered\n",
      "2024-02-23 05:52:26.736437: E external/local_xla/xla/stream_executor/cuda/cuda_blas.cc:1515] Unable to register cuBLAS factory: Attempting to register factory for plugin cuBLAS when one has already been registered\n"
     ]
    }
   ],
   "source": [
    "import numpy as np \n",
    "import pandas as pd \n",
    "import os\n",
    "\n",
    "from keras.models import Sequential\n",
    "from keras.layers import LSTM, Dense\n",
    "from keras.optimizers import RMSprop\n",
    "from keras.layers import Dropout\n",
    "from sklearn.model_selection import train_test_split"
   ]
  },
  {
   "cell_type": "markdown",
   "id": "5cabdf13",
   "metadata": {
    "papermill": {
     "duration": 0.003627,
     "end_time": "2024-02-23T05:52:38.528519",
     "exception": false,
     "start_time": "2024-02-23T05:52:38.524892",
     "status": "completed"
    },
    "tags": []
   },
   "source": [
    "# **Data Preprocessing**"
   ]
  },
  {
   "cell_type": "code",
   "execution_count": 2,
   "id": "7021b9a8",
   "metadata": {
    "execution": {
     "iopub.execute_input": "2024-02-23T05:52:38.538540Z",
     "iopub.status.busy": "2024-02-23T05:52:38.537330Z",
     "iopub.status.idle": "2024-02-23T05:52:38.819283Z",
     "shell.execute_reply": "2024-02-23T05:52:38.818250Z"
    },
    "papermill": {
     "duration": 0.288724,
     "end_time": "2024-02-23T05:52:38.821184",
     "exception": false,
     "start_time": "2024-02-23T05:52:38.532460",
     "status": "completed"
    },
    "tags": []
   },
   "outputs": [
    {
     "data": {
      "text/html": [
       "<div>\n",
       "<style scoped>\n",
       "    .dataframe tbody tr th:only-of-type {\n",
       "        vertical-align: middle;\n",
       "    }\n",
       "\n",
       "    .dataframe tbody tr th {\n",
       "        vertical-align: top;\n",
       "    }\n",
       "\n",
       "    .dataframe thead th {\n",
       "        text-align: right;\n",
       "    }\n",
       "</style>\n",
       "<table border=\"1\" class=\"dataframe\">\n",
       "  <thead>\n",
       "    <tr style=\"text-align: right;\">\n",
       "      <th></th>\n",
       "      <th>Unnamed: 0</th>\n",
       "      <th>book_title</th>\n",
       "      <th>publishing_date</th>\n",
       "      <th>text</th>\n",
       "      <th>text_clean</th>\n",
       "    </tr>\n",
       "  </thead>\n",
       "  <tbody>\n",
       "    <tr>\n",
       "      <th>0</th>\n",
       "      <td>0</td>\n",
       "      <td>Beyond Good and Evil</td>\n",
       "      <td>1886</td>\n",
       "      <td>PREFACE\\r\\n    BEYOND GOOD AND EVIL\\r\\n\\r\\n   ...</td>\n",
       "      <td>preface beyond good evil chapter i prejudices ...</td>\n",
       "    </tr>\n",
       "    <tr>\n",
       "      <th>1</th>\n",
       "      <td>1</td>\n",
       "      <td>Thus Spake Zarathustra: A Book for All and None</td>\n",
       "      <td>1885</td>\n",
       "      <td>THUS SPAKE ZARATHUSTRA.\\r\\n\\r\\n     FIRST PART...</td>\n",
       "      <td>thus spake zarathustra first part zarathustras...</td>\n",
       "    </tr>\n",
       "    <tr>\n",
       "      <th>2</th>\n",
       "      <td>2</td>\n",
       "      <td>Thoughts out of Season</td>\n",
       "      <td>1909</td>\n",
       "      <td>PREFACE.\\r\\n\\r\\n\\r\\n1.\\r\\n\\r\\nWe are unknown, ...</td>\n",
       "      <td>preface 1 unknown knowers ourselves good reaso...</td>\n",
       "    </tr>\n",
       "    <tr>\n",
       "      <th>3</th>\n",
       "      <td>3</td>\n",
       "      <td>The Dawn of Day</td>\n",
       "      <td>1881</td>\n",
       "      <td>PREFACE\\r\\n\\r\\n\\r\\n1\\r\\n\\r\\nAs it is my intent...</td>\n",
       "      <td>preface 1 intention within short time confront...</td>\n",
       "    </tr>\n",
       "    <tr>\n",
       "      <th>4</th>\n",
       "      <td>4</td>\n",
       "      <td>Homer and Classical Philology</td>\n",
       "      <td>1868</td>\n",
       "      <td>PREFACE.\\r\\n\\r\\n\\r\\n1.\\r\\n\\r\\nConcerning great...</td>\n",
       "      <td>preface 1 concerning great things one either s...</td>\n",
       "    </tr>\n",
       "  </tbody>\n",
       "</table>\n",
       "</div>"
      ],
      "text/plain": [
       "   Unnamed: 0                                       book_title  \\\n",
       "0           0                             Beyond Good and Evil   \n",
       "1           1  Thus Spake Zarathustra: A Book for All and None   \n",
       "2           2                           Thoughts out of Season   \n",
       "3           3                                  The Dawn of Day   \n",
       "4           4                    Homer and Classical Philology   \n",
       "\n",
       "   publishing_date                                               text  \\\n",
       "0             1886  PREFACE\\r\\n    BEYOND GOOD AND EVIL\\r\\n\\r\\n   ...   \n",
       "1             1885  THUS SPAKE ZARATHUSTRA.\\r\\n\\r\\n     FIRST PART...   \n",
       "2             1909  PREFACE.\\r\\n\\r\\n\\r\\n1.\\r\\n\\r\\nWe are unknown, ...   \n",
       "3             1881  PREFACE\\r\\n\\r\\n\\r\\n1\\r\\n\\r\\nAs it is my intent...   \n",
       "4             1868  PREFACE.\\r\\n\\r\\n\\r\\n1.\\r\\n\\r\\nConcerning great...   \n",
       "\n",
       "                                          text_clean  \n",
       "0  preface beyond good evil chapter i prejudices ...  \n",
       "1  thus spake zarathustra first part zarathustras...  \n",
       "2  preface 1 unknown knowers ourselves good reaso...  \n",
       "3  preface 1 intention within short time confront...  \n",
       "4  preface 1 concerning great things one either s...  "
      ]
     },
     "execution_count": 2,
     "metadata": {},
     "output_type": "execute_result"
    }
   ],
   "source": [
    "df = pd.read_csv('/kaggle/input/Nietzsche_works_corpus.csv')\n",
    "df.head()"
   ]
  },
  {
   "cell_type": "code",
   "execution_count": 3,
   "id": "d9b9381e",
   "metadata": {
    "execution": {
     "iopub.execute_input": "2024-02-23T05:52:38.830745Z",
     "iopub.status.busy": "2024-02-23T05:52:38.830400Z",
     "iopub.status.idle": "2024-02-23T05:52:38.843601Z",
     "shell.execute_reply": "2024-02-23T05:52:38.842927Z"
    },
    "papermill": {
     "duration": 0.01991,
     "end_time": "2024-02-23T05:52:38.845438",
     "exception": false,
     "start_time": "2024-02-23T05:52:38.825528",
     "status": "completed"
    },
    "tags": []
   },
   "outputs": [
    {
     "name": "stdout",
     "output_type": "stream",
     "text": [
      "251619\n"
     ]
    }
   ],
   "source": [
    "text = df[df['book_title']=='Beyond Good and Evil']['text_clean'][0]\n",
    "print(len(text))"
   ]
  },
  {
   "cell_type": "code",
   "execution_count": 4,
   "id": "2be338ff",
   "metadata": {
    "execution": {
     "iopub.execute_input": "2024-02-23T05:52:38.855414Z",
     "iopub.status.busy": "2024-02-23T05:52:38.855100Z",
     "iopub.status.idle": "2024-02-23T05:52:38.864588Z",
     "shell.execute_reply": "2024-02-23T05:52:38.863676Z"
    },
    "papermill": {
     "duration": 0.016318,
     "end_time": "2024-02-23T05:52:38.866218",
     "exception": false,
     "start_time": "2024-02-23T05:52:38.849900",
     "status": "completed"
    },
    "tags": []
   },
   "outputs": [
    {
     "name": "stdout",
     "output_type": "stream",
     "text": [
      "38\n",
      "{'f', ' ', '1', 'b', 'l', 'p', 'r', '3', 'i', 'a', 'u', 'h', '2', 't', 'w', 's', '0', '_', '8', '7', 'e', 'x', 'd', 'g', 'v', '9', 'z', '5', 'j', 'k', '4', 'q', 'c', 'o', 'n', 'y', 'm', '6'}\n"
     ]
    }
   ],
   "source": [
    "# Getting the unique characters in the text\n",
    "unique_characters = set(text)\n",
    "\n",
    "print(len(unique_characters))\n",
    "print(unique_characters)"
   ]
  },
  {
   "cell_type": "code",
   "execution_count": 5,
   "id": "85d80507",
   "metadata": {
    "execution": {
     "iopub.execute_input": "2024-02-23T05:52:38.876153Z",
     "iopub.status.busy": "2024-02-23T05:52:38.875704Z",
     "iopub.status.idle": "2024-02-23T05:52:38.888214Z",
     "shell.execute_reply": "2024-02-23T05:52:38.887517Z"
    },
    "papermill": {
     "duration": 0.019378,
     "end_time": "2024-02-23T05:52:38.889923",
     "exception": false,
     "start_time": "2024-02-23T05:52:38.870545",
     "status": "completed"
    },
    "tags": []
   },
   "outputs": [],
   "source": [
    "# Mapping characters to integers\n",
    "char_to_index = {char: i for i, char in enumerate(set(text))}\n",
    "index_to_char = {i: char for i, char in enumerate(set(text))}"
   ]
  },
  {
   "cell_type": "code",
   "execution_count": 6,
   "id": "49052beb",
   "metadata": {
    "execution": {
     "iopub.execute_input": "2024-02-23T05:52:38.899946Z",
     "iopub.status.busy": "2024-02-23T05:52:38.899518Z",
     "iopub.status.idle": "2024-02-23T05:52:38.923501Z",
     "shell.execute_reply": "2024-02-23T05:52:38.922730Z"
    },
    "papermill": {
     "duration": 0.031259,
     "end_time": "2024-02-23T05:52:38.925558",
     "exception": false,
     "start_time": "2024-02-23T05:52:38.894299",
     "status": "completed"
    },
    "tags": []
   },
   "outputs": [],
   "source": [
    "# Convert the text to a sequence of indices\n",
    "text_as_indices = [char_to_index[char] for char in text]"
   ]
  },
  {
   "cell_type": "code",
   "execution_count": 7,
   "id": "45d69351",
   "metadata": {
    "execution": {
     "iopub.execute_input": "2024-02-23T05:52:38.935557Z",
     "iopub.status.busy": "2024-02-23T05:52:38.935114Z",
     "iopub.status.idle": "2024-02-23T05:52:40.681504Z",
     "shell.execute_reply": "2024-02-23T05:52:40.680675Z"
    },
    "papermill": {
     "duration": 1.753504,
     "end_time": "2024-02-23T05:52:40.683463",
     "exception": false,
     "start_time": "2024-02-23T05:52:38.929959",
     "status": "completed"
    },
    "tags": []
   },
   "outputs": [],
   "source": [
    "# Setting the parameters\n",
    "sequence_length = 80\n",
    "num_neurons = 128\n",
    "num_distinct_chars = len(unique_characters)\n",
    "\n",
    "# Generate input sequences and corresponding labels\n",
    "X = []\n",
    "y = []\n",
    "\n",
    "for i in range(0, len(text_as_indices) - sequence_length, 1):\n",
    "    sequence_in = text_as_indices[i:i + sequence_length]\n",
    "    sequence_out = text_as_indices[i + sequence_length]\n",
    "    X.append(sequence_in)\n",
    "    y.append(sequence_out)\n",
    "\n",
    "# Convert to numpy arrays\n",
    "X = np.array(X)\n",
    "y = np.array(y)\n",
    "\n",
    "# Reshape X\n",
    "X = np.reshape(X, (X.shape[0], sequence_length, 1))\n",
    "\n",
    "# Normalize the data to values between 0 and 1\n",
    "X = X / float(len(unique_characters))"
   ]
  },
  {
   "cell_type": "code",
   "execution_count": 8,
   "id": "03664cd4",
   "metadata": {
    "execution": {
     "iopub.execute_input": "2024-02-23T05:52:40.693786Z",
     "iopub.status.busy": "2024-02-23T05:52:40.693408Z",
     "iopub.status.idle": "2024-02-23T05:52:40.697990Z",
     "shell.execute_reply": "2024-02-23T05:52:40.697060Z"
    },
    "papermill": {
     "duration": 0.011529,
     "end_time": "2024-02-23T05:52:40.699542",
     "exception": false,
     "start_time": "2024-02-23T05:52:40.688013",
     "status": "completed"
    },
    "tags": []
   },
   "outputs": [
    {
     "name": "stdout",
     "output_type": "stream",
     "text": [
      "(251539, 80, 1)\n",
      "(251539,)\n"
     ]
    }
   ],
   "source": [
    "print(X.shape)\n",
    "print(y.shape)"
   ]
  },
  {
   "cell_type": "code",
   "execution_count": 9,
   "id": "45c0f484",
   "metadata": {
    "execution": {
     "iopub.execute_input": "2024-02-23T05:52:40.709196Z",
     "iopub.status.busy": "2024-02-23T05:52:40.708889Z",
     "iopub.status.idle": "2024-02-23T05:52:40.762302Z",
     "shell.execute_reply": "2024-02-23T05:52:40.761425Z"
    },
    "papermill": {
     "duration": 0.060611,
     "end_time": "2024-02-23T05:52:40.764393",
     "exception": false,
     "start_time": "2024-02-23T05:52:40.703782",
     "status": "completed"
    },
    "tags": []
   },
   "outputs": [],
   "source": [
    "# Split the data into training and validation sets\n",
    "X_train, X_val, y_train, y_val = train_test_split(X, y, test_size=0.05, random_state=1)"
   ]
  },
  {
   "cell_type": "markdown",
   "id": "82caf095",
   "metadata": {
    "papermill": {
     "duration": 0.003976,
     "end_time": "2024-02-23T05:52:40.772976",
     "exception": false,
     "start_time": "2024-02-23T05:52:40.769000",
     "status": "completed"
    },
    "tags": []
   },
   "source": [
    "# **Creating the Many to One Model**"
   ]
  },
  {
   "cell_type": "code",
   "execution_count": 10,
   "id": "a3cfcbf7",
   "metadata": {
    "execution": {
     "iopub.execute_input": "2024-02-23T05:52:40.783040Z",
     "iopub.status.busy": "2024-02-23T05:52:40.782736Z",
     "iopub.status.idle": "2024-02-23T05:52:41.576163Z",
     "shell.execute_reply": "2024-02-23T05:52:41.575251Z"
    },
    "papermill": {
     "duration": 0.802407,
     "end_time": "2024-02-23T05:52:41.579572",
     "exception": false,
     "start_time": "2024-02-23T05:52:40.777165",
     "status": "completed"
    },
    "tags": []
   },
   "outputs": [
    {
     "name": "stdout",
     "output_type": "stream",
     "text": [
      "Model: \"sequential\"\n",
      "_________________________________________________________________\n",
      " Layer (type)                Output Shape              Param #   \n",
      "=================================================================\n",
      " lstm (LSTM)                 (None, 80, 128)           66560     \n",
      "                                                                 \n",
      " dropout (Dropout)           (None, 80, 128)           0         \n",
      "                                                                 \n",
      " lstm_1 (LSTM)               (None, 80, 128)           131584    \n",
      "                                                                 \n",
      " dropout_1 (Dropout)         (None, 80, 128)           0         \n",
      "                                                                 \n",
      " lstm_2 (LSTM)               (None, 128)               131584    \n",
      "                                                                 \n",
      " dropout_2 (Dropout)         (None, 128)               0         \n",
      "                                                                 \n",
      " dense (Dense)               (None, 38)                4902      \n",
      "                                                                 \n",
      "=================================================================\n",
      "Total params: 334630 (1.28 MB)\n",
      "Trainable params: 334630 (1.28 MB)\n",
      "Non-trainable params: 0 (0.00 Byte)\n",
      "_________________________________________________________________\n"
     ]
    }
   ],
   "source": [
    "# Create the model\n",
    "model = Sequential()\n",
    "model.add(LSTM(num_neurons, return_sequences=True, input_shape=(X_train.shape[1], X_train.shape[2])))\n",
    "model.add(Dropout(0.2))\n",
    "model.add(LSTM(num_neurons, return_sequences=True))\n",
    "model.add(Dropout(0.2))\n",
    "model.add(LSTM(num_neurons, return_sequences=False))\n",
    "model.add(Dropout(0.2))\n",
    "model.add(Dense(num_distinct_chars, activation='softmax'))\n",
    "\n",
    "# Set initial weights\n",
    "initial_weights = 0.05\n",
    "for layer in model.layers:\n",
    "    for weight in layer.get_weights():\n",
    "        weight[:] = initial_weights\n",
    "\n",
    "# Compile the model with RMSProp\n",
    "optimizer = RMSprop(learning_rate=0.01)\n",
    "model.compile(optimizer=optimizer, loss='sparse_categorical_crossentropy', metrics=['accuracy'])\n",
    "\n",
    "# Display the model summary\n",
    "model.summary()"
   ]
  },
  {
   "cell_type": "code",
   "execution_count": 11,
   "id": "26bfd382",
   "metadata": {
    "execution": {
     "iopub.execute_input": "2024-02-23T05:52:41.592445Z",
     "iopub.status.busy": "2024-02-23T05:52:41.592169Z",
     "iopub.status.idle": "2024-02-23T11:47:07.440984Z",
     "shell.execute_reply": "2024-02-23T11:47:07.440212Z"
    },
    "papermill": {
     "duration": 21265.857285,
     "end_time": "2024-02-23T11:47:07.443028",
     "exception": false,
     "start_time": "2024-02-23T05:52:41.585743",
     "status": "completed"
    },
    "tags": []
   },
   "outputs": [
    {
     "name": "stdout",
     "output_type": "stream",
     "text": [
      "Epoch 1/30\n",
      "1867/1867 [==============================] - 701s 373ms/step - loss: 2.9432 - accuracy: 0.1343 - val_loss: 2.9213 - val_accuracy: 0.1330\n",
      "Epoch 2/30\n",
      "1867/1867 [==============================] - 703s 377ms/step - loss: 2.9208 - accuracy: 0.1363 - val_loss: 2.9215 - val_accuracy: 0.1330\n",
      "Epoch 3/30\n",
      "1867/1867 [==============================] - 703s 377ms/step - loss: 2.8367 - accuracy: 0.1625 - val_loss: 2.6217 - val_accuracy: 0.2207\n",
      "Epoch 4/30\n",
      "1867/1867 [==============================] - 703s 377ms/step - loss: 2.4584 - accuracy: 0.2591 - val_loss: 2.1615 - val_accuracy: 0.3412\n",
      "Epoch 5/30\n",
      "1867/1867 [==============================] - 699s 375ms/step - loss: 2.1825 - accuracy: 0.3371 - val_loss: 1.9629 - val_accuracy: 0.3993\n",
      "Epoch 6/30\n",
      "1867/1867 [==============================] - 701s 375ms/step - loss: 2.0504 - accuracy: 0.3770 - val_loss: 1.8695 - val_accuracy: 0.4289\n",
      "Epoch 7/30\n",
      "1867/1867 [==============================] - 702s 376ms/step - loss: 1.9738 - accuracy: 0.3979 - val_loss: 1.7986 - val_accuracy: 0.4494\n",
      "Epoch 8/30\n",
      "1867/1867 [==============================] - 700s 375ms/step - loss: 1.9198 - accuracy: 0.4138 - val_loss: 1.7881 - val_accuracy: 0.4521\n",
      "Epoch 9/30\n",
      "1867/1867 [==============================] - 701s 375ms/step - loss: 1.8793 - accuracy: 0.4259 - val_loss: 1.7262 - val_accuracy: 0.4701\n",
      "Epoch 10/30\n",
      "1867/1867 [==============================] - 707s 378ms/step - loss: 1.8526 - accuracy: 0.4340 - val_loss: 1.6882 - val_accuracy: 0.4814\n",
      "Epoch 11/30\n",
      "1867/1867 [==============================] - 704s 377ms/step - loss: 1.8201 - accuracy: 0.4439 - val_loss: 1.6874 - val_accuracy: 0.4804\n",
      "Epoch 12/30\n",
      "1867/1867 [==============================] - 713s 382ms/step - loss: 1.7979 - accuracy: 0.4503 - val_loss: 1.6441 - val_accuracy: 0.4946\n",
      "Epoch 13/30\n",
      "1867/1867 [==============================] - 709s 380ms/step - loss: 1.7778 - accuracy: 0.4548 - val_loss: 1.6721 - val_accuracy: 0.4930\n",
      "Epoch 14/30\n",
      "1867/1867 [==============================] - 708s 379ms/step - loss: 1.7615 - accuracy: 0.4602 - val_loss: 1.6113 - val_accuracy: 0.5021\n",
      "Epoch 15/30\n",
      "1867/1867 [==============================] - 706s 378ms/step - loss: 1.7458 - accuracy: 0.4643 - val_loss: 1.5974 - val_accuracy: 0.5071\n",
      "Epoch 16/30\n",
      "1867/1867 [==============================] - 708s 379ms/step - loss: 1.7338 - accuracy: 0.4681 - val_loss: 1.5876 - val_accuracy: 0.5104\n",
      "Epoch 17/30\n",
      "1867/1867 [==============================] - 705s 378ms/step - loss: 1.7224 - accuracy: 0.4718 - val_loss: 1.5842 - val_accuracy: 0.5089\n",
      "Epoch 18/30\n",
      "1867/1867 [==============================] - 708s 379ms/step - loss: 1.7103 - accuracy: 0.4751 - val_loss: 1.5617 - val_accuracy: 0.5155\n",
      "Epoch 19/30\n",
      "1867/1867 [==============================] - 713s 382ms/step - loss: 1.7008 - accuracy: 0.4773 - val_loss: 1.5543 - val_accuracy: 0.5189\n",
      "Epoch 20/30\n",
      "1867/1867 [==============================] - 708s 379ms/step - loss: 1.6936 - accuracy: 0.4811 - val_loss: 1.5603 - val_accuracy: 0.5187\n",
      "Epoch 21/30\n",
      "1867/1867 [==============================] - 712s 381ms/step - loss: 1.6840 - accuracy: 0.4830 - val_loss: 1.5627 - val_accuracy: 0.5168\n",
      "Epoch 22/30\n",
      "1867/1867 [==============================] - 714s 383ms/step - loss: 1.6757 - accuracy: 0.4847 - val_loss: 1.5383 - val_accuracy: 0.5252\n",
      "Epoch 23/30\n",
      "1867/1867 [==============================] - 717s 384ms/step - loss: 1.6703 - accuracy: 0.4875 - val_loss: 1.5347 - val_accuracy: 0.5202\n",
      "Epoch 24/30\n",
      "1867/1867 [==============================] - 715s 383ms/step - loss: 1.6632 - accuracy: 0.4888 - val_loss: 1.5254 - val_accuracy: 0.5250\n",
      "Epoch 25/30\n",
      "1867/1867 [==============================] - 713s 382ms/step - loss: 1.6530 - accuracy: 0.4922 - val_loss: 1.5269 - val_accuracy: 0.5286\n",
      "Epoch 26/30\n",
      "1867/1867 [==============================] - 712s 381ms/step - loss: 1.6507 - accuracy: 0.4910 - val_loss: 1.5171 - val_accuracy: 0.5300\n",
      "Epoch 27/30\n",
      "1867/1867 [==============================] - 716s 384ms/step - loss: 1.6454 - accuracy: 0.4925 - val_loss: 1.5110 - val_accuracy: 0.5327\n",
      "Epoch 28/30\n",
      "1867/1867 [==============================] - 714s 383ms/step - loss: 1.6377 - accuracy: 0.4953 - val_loss: 1.5264 - val_accuracy: 0.5249\n",
      "Epoch 29/30\n",
      "1867/1867 [==============================] - 710s 381ms/step - loss: 1.6360 - accuracy: 0.4963 - val_loss: 1.5028 - val_accuracy: 0.5349\n",
      "Epoch 30/30\n",
      "1867/1867 [==============================] - 712s 381ms/step - loss: 1.6308 - accuracy: 0.4981 - val_loss: 1.5008 - val_accuracy: 0.5341\n"
     ]
    }
   ],
   "source": [
    "# Train the model\n",
    "history = model.fit(X_train, y_train, epochs=30, batch_size=128, validation_data=(X_val, y_val))"
   ]
  },
  {
   "cell_type": "markdown",
   "id": "73815544",
   "metadata": {
    "papermill": {
     "duration": 3.44549,
     "end_time": "2024-02-23T11:47:14.330949",
     "exception": false,
     "start_time": "2024-02-23T11:47:10.885459",
     "status": "completed"
    },
    "tags": []
   },
   "source": [
    "# **Displaying the Plots**"
   ]
  },
  {
   "cell_type": "code",
   "execution_count": 12,
   "id": "95ecb503",
   "metadata": {
    "execution": {
     "iopub.execute_input": "2024-02-23T11:47:21.199073Z",
     "iopub.status.busy": "2024-02-23T11:47:21.198380Z",
     "iopub.status.idle": "2024-02-23T11:47:21.407246Z",
     "shell.execute_reply": "2024-02-23T11:47:21.406149Z"
    },
    "papermill": {
     "duration": 3.657659,
     "end_time": "2024-02-23T11:47:21.409256",
     "exception": false,
     "start_time": "2024-02-23T11:47:17.751597",
     "status": "completed"
    },
    "tags": []
   },
   "outputs": [
    {
     "data": {
      "image/png": "[encoded data removed]",
      "text/plain": [
       "<Figure size 640x480 with 1 Axes>"
      ]
     },
     "metadata": {},
     "output_type": "display_data"
    }
   ],
   "source": [
    "import matplotlib.pyplot as plt\n",
    "\n",
    "# Plot training and validation accuracy to epoch\n",
    "plt.plot(history.history['accuracy'], label='Training Accuracy')\n",
    "plt.plot(history.history['val_accuracy'], label='Validation Accuracy')\n",
    "plt.xlabel('Epoch')\n",
    "plt.ylabel('Accuracy')\n",
    "plt.legend()\n",
    "plt.show()"
   ]
  },
  {
   "cell_type": "code",
   "execution_count": 13,
   "id": "859815ec",
   "metadata": {
    "execution": {
     "iopub.execute_input": "2024-02-23T11:47:28.283274Z",
     "iopub.status.busy": "2024-02-23T11:47:28.282943Z",
     "iopub.status.idle": "2024-02-23T11:47:28.485074Z",
     "shell.execute_reply": "2024-02-23T11:47:28.483978Z"
    },
    "papermill": {
     "duration": 3.635006,
     "end_time": "2024-02-23T11:47:28.487021",
     "exception": false,
     "start_time": "2024-02-23T11:47:24.852015",
     "status": "completed"
    },
    "tags": []
   },
   "outputs": [
    {
     "data": {
      "text/plain": [
       "<matplotlib.legend.Legend at 0x781c3dd4ac50>"
      ]
     },
     "execution_count": 13,
     "metadata": {},
     "output_type": "execute_result"
    },
    {
     "data": {
      "image/png": "[encoded data removed]",
      "text/plain": [
       "<Figure size 640x480 with 1 Axes>"
      ]
     },
     "metadata": {},
     "output_type": "display_data"
    }
   ],
   "source": [
    "# Plot loss to epoch\n",
    "plt.plot(history.history['loss'], label='Training Loss')\n",
    "plt.plot(history.history['val_loss'], label='Validation Loss')\n",
    "plt.xlabel('Epoch')\n",
    "plt.ylabel('Loss')\n",
    "plt.legend()"
   ]
  },
  {
   "cell_type": "markdown",
   "id": "63a9ce33",
   "metadata": {
    "papermill": {
     "duration": 3.417966,
     "end_time": "2024-02-23T11:47:35.344464",
     "exception": false,
     "start_time": "2024-02-23T11:47:31.926498",
     "status": "completed"
    },
    "tags": []
   },
   "source": [
    "# **Predicting Characters**"
   ]
  },
  {
   "cell_type": "code",
   "execution_count": 14,
   "id": "b7405acf",
   "metadata": {
    "execution": {
     "iopub.execute_input": "2024-02-23T11:47:42.329236Z",
     "iopub.status.busy": "2024-02-23T11:47:42.328281Z",
     "iopub.status.idle": "2024-02-23T11:47:47.414988Z",
     "shell.execute_reply": "2024-02-23T11:47:47.413561Z"
    },
    "papermill": {
     "duration": 8.690016,
     "end_time": "2024-02-23T11:47:47.417832",
     "exception": false,
     "start_time": "2024-02-23T11:47:38.727816",
     "status": "completed"
    },
    "tags": []
   },
   "outputs": [
    {
     "name": "stdout",
     "output_type": "stream",
     "text": [
      "Original Sequence: nts sometimes night owls work even full day yea necessary even scarecrows and ne\n",
      "Predicted Sequence: w sufficiently sufficiently sufficiently sufficien\n"
     ]
    }
   ],
   "source": [
    "# Number of characters being predicted\n",
    "num_predictions = 50\n",
    "\n",
    "# Select a random starting point\n",
    "start_index = np.random.randint(0, len(text) - sequence_length - num_predictions)\n",
    "\n",
    "# Extract a 40-character sequence\n",
    "input_sequence = text[start_index : start_index + sequence_length]\n",
    "\n",
    "# Prepare input for prediction\n",
    "input_sequence_indices = [char_to_index[char] for char in input_sequence]\n",
    "input_sequence_array = np.reshape(input_sequence_indices, (1, sequence_length, 1))\n",
    "\n",
    "# Normalize the data to values between 0 and 1\n",
    "input_sequence_array = input_sequence_array / float(len(unique_characters))\n",
    "\n",
    "# Generate predictions\n",
    "predicted_sequence_indices = []\n",
    "for _ in range(num_predictions):\n",
    "    predictions = model.predict(input_sequence_array, verbose=0)[0]\n",
    "    predicted_index = np.argmax(predictions)\n",
    "    predicted_char = index_to_char[predicted_index]\n",
    "    \n",
    "    # Append the predicted character to the sequence\n",
    "    predicted_sequence_indices.append(predicted_index)\n",
    "    input_sequence_indices.append(predicted_index)\n",
    "    input_sequence_indices = input_sequence_indices[1:]\n",
    "    \n",
    "    # Prepare the input for the next prediction\n",
    "    input_sequence_array = np.reshape(input_sequence_indices, (1, sequence_length, 1))\n",
    "    \n",
    "    # Normalize the data to values between 0 and 1\n",
    "    input_sequence_array = input_sequence_array / float(len(unique_characters))\n",
    "\n",
    "# Convert predicted indices back to characters\n",
    "predicted_sequence = ''.join([index_to_char[index] for index in predicted_sequence_indices])\n",
    "\n",
    "# Print the result\n",
    "print(\"Original Sequence:\", input_sequence)\n",
    "print(\"Predicted Sequence:\", predicted_sequence)"
   ]
  }
 ],
 "metadata": {
  "kaggle": {
   "accelerator": "none",
   "dataSources": [
    {
     "datasetId": 1394768,
     "sourceId": 2344930,
     "sourceType": "datasetVersion"
    }
   ],
   "dockerImageVersionId": 30646,
   "isGpuEnabled": false,
   "isInternetEnabled": true,
   "language": "python",
   "sourceType": "notebook"
  },
  "kernelspec": {
   "display_name": "Python 3",
   "language": "python",
   "name": "python3"
  },
  "language_info": {
   "codemirror_mode": {
    "name": "ipython",
    "version": 3
   },
   "file_extension": ".py",
   "mimetype": "text/x-python",
   "name": "python",
   "nbconvert_exporter": "python",
   "pygments_lexer": "ipython3",
   "version": "3.10.13"
  },
  "papermill": {
   "default_parameters": {},
   "duration": 21332.24503,
   "end_time": "2024-02-23T11:47:53.629837",
   "environment_variables": {},
   "exception": null,
   "input_path": "__notebook__.ipynb",
   "output_path": "__notebook__.ipynb",
   "parameters": {},
   "start_time": "2024-02-23T05:52:21.384807",
   "version": "2.5.0"
  }
 },
 "nbformat": 4,
 "nbformat_minor": 5
}
